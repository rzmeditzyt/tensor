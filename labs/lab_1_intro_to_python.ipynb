{
 "cells": [
  {
   "cell_type": "markdown",
   "metadata": {},
   "source": [
    "#  CSCI E-89 Deep Learning @ Harvard Extension School\n",
    "## Lab 01 on Python\n",
    "\n",
    "---------------\n",
    "<br>\n",
    "\n",
    "<center>\n",
    "<img src=https://upload.wikimedia.org/wikipedia/en/c/cd/Anaconda_Logo.png width=400 />\n",
    "</center>"
   ]
  },
  {
   "cell_type": "markdown",
   "metadata": {},
   "source": [
    "Explore the NumPy and Matplotlib packages that provide vectors, matrices, and Matlab-like plotting capabilities."
   ]
  },
  {
   "cell_type": "markdown",
   "metadata": {},
   "source": [
    "Based on Anaconda.com tutorials"
   ]
  },
  {
   "cell_type": "markdown",
   "metadata": {},
   "source": [
    "References\n",
    "----------\n",
    "\n",
    "* <a href=\"http://docs.python.org/2/tutorial/\" target=\"_parent\">Python Tutorial</a> - a good next step to learning Python (about a 2-3 hour commitment)\n",
    "\n",
    "* <a href=\"http://docs.python.org/2/reference/lexical_analysis.html#keywords\" target=\"_parent\">Python Reserved Words</a> - about 40 terms that form the base grammar of the language.  NOTE: Thes are not functions.\n",
    "\n",
    "* <a href=\"http://docs.python.org/2/library/functions.html#built-in-functions\" target=\"_parent\">Python builtin module</a> functions (60) and classes (20)\n",
    "\n",
    "* <a href=\"http://docs.python.org/2/library/\" target=\"_parent\">Python Standard Library</a>\n",
    "\n",
    "* <a href=\"https://pypi.python.org/pypi\" target=\"_parent\">Python Package Index</a> community contributed Python packages\n",
    "\n",
    "* <a href=\"http://python.net/~goodger/projects/pycon/2007/idiomatic/handout.html\" target=\"_parent\">Idiomatic Python</a>"
   ]
  },
  {
   "cell_type": "markdown",
   "metadata": {},
   "source": [
    "Jupyter Hotkeys \n",
    "-----"
   ]
  },
  {
   "cell_type": "markdown",
   "metadata": {},
   "source": [
    "There are many hotkeys to facilitate typing in Jupyter, here are a few of them:\n",
    "\n",
    "| Jupyter Hotkey | Result |\n",
    "|:-|:-|\n",
    "| Enter | edit cell |\n",
    "| Ctrl+Enter | run cell |\n",
    "| Shift+Enter | run cell , go to next cell|\n",
    "|a | add box above|\n",
    "| b | add box below|\n",
    "| y | to code |\n",
    "| m | to markdown| \n",
    "| r | to raw |\n",
    "| c | copy cell |\n",
    "| x | cut cell |\n",
    "| d,d | delete cell (click twice) |\n",
    "| v | paste cell below |\n",
    "| Shift+v | paste cell above |\n",
    "| o | toggle output|\n",
    "| i,i | interrupt kernel |\n",
    "\n",
    "Note, a cell is selected with the leftbar is blue, and is being edited when it is green\n",
    "\n",
    "Downloading and installing python, TensorFlow and (if you have reason to work with it) Anaconda\n",
    "\n",
    "https://www.python.org/\n",
    "\n",
    "https://www.tensorflow.org/\n",
    "\n",
    "https://www.anaconda.com/\n",
    "\n"
   ]
  },
  {
   "cell_type": "markdown",
   "metadata": {},
   "source": [
    "Numpy\n",
    "=====\n",
    "\n",
    "NumPy is the fundamental package for scientific computing in Python. It is a Python library that provides a multidimensional array object, various derived objects (such as masked arrays and matrices), and an assortment of routines for fast operations on arrays, including mathematical, logical, shape manipulation, sorting, selecting, I/O, discrete Fourier transforms, basic linear algebra, basic statistical operations, random simulation and much more.\n",
    "* a powerful N-dimensional array object that facilitate operations on large numbers of data.\n",
    "* sophisticated (broadcasting) functions\n",
    "* tools for integrating C/C++ and Fortran code\n",
    "* useful linear algebra, Fourier transform, and random number capabilities\n",
    "* Many Python-based scientific and mathematical packageds use NumPy array functionality\n"
   ]
  },
  {
   "cell_type": "code",
   "execution_count": 131,
   "metadata": {
    "collapsed": true
   },
   "outputs": [],
   "source": [
    "import numpy as np\n",
    "# import numpy * -> imports all numpy function and can be called without prefix, i.e. array() = np.array()\n",
    "\n",
    "s1 = np.array([1, 4, 9, 16, 25])  #create a row of five elements"
   ]
  },
  {
   "cell_type": "code",
   "execution_count": 132,
   "metadata": {
    "collapsed": true
   },
   "outputs": [],
   "source": [
    "s2 = np.array([[1,2,3,4,5],\n",
    "               [1,4,9,16,25],\n",
    "               [1,8,27,64,125]])  # array of three rows and five columns"
   ]
  },
  {
   "cell_type": "code",
   "execution_count": 133,
   "metadata": {
    "collapsed": true
   },
   "outputs": [],
   "source": [
    "s3 = np.array([2,5,10,17,26])"
   ]
  },
  {
   "cell_type": "code",
   "execution_count": 134,
   "metadata": {},
   "outputs": [
    {
     "data": {
      "text/plain": [
       "array([ 1,  4,  9, 16, 25])"
      ]
     },
     "execution_count": 134,
     "metadata": {},
     "output_type": "execute_result"
    }
   ],
   "source": [
    "s1"
   ]
  },
  {
   "cell_type": "code",
   "execution_count": 135,
   "metadata": {},
   "outputs": [
    {
     "data": {
      "text/plain": [
       "array([[  1,   2,   3,   4,   5],\n",
       "       [  1,   4,   9,  16,  25],\n",
       "       [  1,   8,  27,  64, 125]])"
      ]
     },
     "execution_count": 135,
     "metadata": {},
     "output_type": "execute_result"
    }
   ],
   "source": [
    "s2"
   ]
  },
  {
   "cell_type": "markdown",
   "metadata": {},
   "source": [
    "Square brackets allow us to extract an element of the array at the given index. Note, the first element of the array is defined as 0, NOT 1"
   ]
  },
  {
   "cell_type": "code",
   "execution_count": 136,
   "metadata": {},
   "outputs": [
    {
     "data": {
      "text/plain": [
       "16"
      ]
     },
     "execution_count": 136,
     "metadata": {},
     "output_type": "execute_result"
    }
   ],
   "source": [
    "s1[3]\n"
   ]
  },
  {
   "cell_type": "markdown",
   "metadata": {},
   "source": [
    "You can extract multiple elements at once. Note, the final index is NOT inclusive"
   ]
  },
  {
   "cell_type": "code",
   "execution_count": 137,
   "metadata": {
    "collapsed": true
   },
   "outputs": [],
   "source": [
    "v1 = s1[1:4] # different from Python list slices (which copy references)\n",
    "# : means from 1 to 4"
   ]
  },
  {
   "cell_type": "code",
   "execution_count": 138,
   "metadata": {
    "scrolled": true
   },
   "outputs": [
    {
     "data": {
      "text/plain": [
       "array([ 4,  9, 16])"
      ]
     },
     "execution_count": 138,
     "metadata": {},
     "output_type": "execute_result"
    }
   ],
   "source": [
    "v1"
   ]
  },
  {
   "cell_type": "code",
   "execution_count": 140,
   "metadata": {
    "collapsed": true
   },
   "outputs": [],
   "source": [
    "s1[3] = 99 # you can assign values"
   ]
  },
  {
   "cell_type": "code",
   "execution_count": 141,
   "metadata": {},
   "outputs": [
    {
     "data": {
      "text/plain": [
       "array([ 1,  4,  9, 99, 25])"
      ]
     },
     "execution_count": 141,
     "metadata": {},
     "output_type": "execute_result"
    }
   ],
   "source": [
    "s1"
   ]
  },
  {
   "cell_type": "code",
   "execution_count": 142,
   "metadata": {},
   "outputs": [
    {
     "data": {
      "text/plain": [
       "array([ 4,  9, 99])"
      ]
     },
     "execution_count": 142,
     "metadata": {},
     "output_type": "execute_result"
    }
   ],
   "source": [
    "v1"
   ]
  },
  {
   "cell_type": "code",
   "execution_count": 143,
   "metadata": {},
   "outputs": [
    {
     "data": {
      "text/plain": [
       "4"
      ]
     },
     "execution_count": 143,
     "metadata": {},
     "output_type": "execute_result"
    }
   ],
   "source": [
    "v1[0]  # first element of an array called by index 0, NOT 1"
   ]
  },
  {
   "cell_type": "code",
   "execution_count": 144,
   "metadata": {
    "collapsed": true
   },
   "outputs": [],
   "source": [
    "v1[0] = 200"
   ]
  },
  {
   "cell_type": "code",
   "execution_count": 146,
   "metadata": {},
   "outputs": [
    {
     "data": {
      "text/plain": [
       "array([200,   9,  99])"
      ]
     },
     "execution_count": 146,
     "metadata": {},
     "output_type": "execute_result"
    }
   ],
   "source": [
    "v1"
   ]
  },
  {
   "cell_type": "code",
   "execution_count": 147,
   "metadata": {},
   "outputs": [
    {
     "data": {
      "text/plain": [
       "array([  1, 200,   9,  99,  25])"
      ]
     },
     "execution_count": 147,
     "metadata": {},
     "output_type": "execute_result"
    }
   ],
   "source": [
    "s1"
   ]
  },
  {
   "cell_type": "code",
   "execution_count": 148,
   "metadata": {},
   "outputs": [
    {
     "data": {
      "text/plain": [
       "dtype('int64')"
      ]
     },
     "execution_count": 148,
     "metadata": {},
     "output_type": "execute_result"
    }
   ],
   "source": [
    "s1.dtype # dtype method displays the element class; s1 is a one-dimensional array\n",
    "#type of elements is integer\n",
    "# s1.shape "
   ]
  },
  {
   "cell_type": "code",
   "execution_count": 149,
   "metadata": {
    "scrolled": true
   },
   "outputs": [
    {
     "data": {
      "text/plain": [
       "numpy.ndarray"
      ]
     },
     "execution_count": 149,
     "metadata": {},
     "output_type": "execute_result"
    }
   ],
   "source": [
    "type(s1) # function type displays the data structure or class: numeric array"
   ]
  },
  {
   "cell_type": "code",
   "execution_count": 20,
   "metadata": {},
   "outputs": [
    {
     "data": {
      "text/plain": [
       "array([[  1,   2,   3,   4,   5],\n",
       "       [  1,   4,   9,  16,  25],\n",
       "       [  1,   8,  27,  64, 125]])"
      ]
     },
     "execution_count": 20,
     "metadata": {},
     "output_type": "execute_result"
    }
   ],
   "source": [
    "s2  #to see the array you could also print s1"
   ]
  },
  {
   "cell_type": "code",
   "execution_count": 150,
   "metadata": {},
   "outputs": [
    {
     "name": "stdout",
     "output_type": "stream",
     "text": [
      "[[  1   2   3   4   5]\n",
      " [  1   4   9  16  25]\n",
      " [  1   8  27  64 125]]\n"
     ]
    }
   ],
   "source": [
    "print (s2) \n"
   ]
  },
  {
   "cell_type": "code",
   "execution_count": 151,
   "metadata": {},
   "outputs": [
    {
     "data": {
      "text/plain": [
       "array([  1,   8,  27,  64, 125])"
      ]
     },
     "execution_count": 151,
     "metadata": {},
     "output_type": "execute_result"
    }
   ],
   "source": [
    "s2[2] # For a matrix, inputting a single index pulls out the corresponding row \n",
    "#(here 2 means the 3rd row from the top)"
   ]
  },
  {
   "cell_type": "code",
   "execution_count": 152,
   "metadata": {},
   "outputs": [
    {
     "data": {
      "text/plain": [
       "array([ 3,  9, 27])"
      ]
     },
     "execution_count": 152,
     "metadata": {},
     "output_type": "execute_result"
    }
   ],
   "source": [
    "s2[:,2] #to extract a specific column"
   ]
  },
  {
   "cell_type": "markdown",
   "metadata": {},
   "source": [
    "If you want to select an entire row, # (number of row) followed by :. Note, if you have a matrix and want to be more precise (or to pick a column), write : in the non-prescribed row/column."
   ]
  },
  {
   "cell_type": "code",
   "execution_count": 153,
   "metadata": {
    "scrolled": true
   },
   "outputs": [
    {
     "data": {
      "text/plain": [
       "array([[  1,   4,   9,  16,  25],\n",
       "       [  1,   8,  27,  64, 125]])"
      ]
     },
     "execution_count": 153,
     "metadata": {},
     "output_type": "execute_result"
    }
   ],
   "source": [
    "s2[1:] # call all rows 1 and below"
   ]
  },
  {
   "cell_type": "code",
   "execution_count": 43,
   "metadata": {},
   "outputs": [
    {
     "data": {
      "text/plain": [
       "array([[  1,   4,   9,  16,  25],\n",
       "       [  1,   8,  27,  64, 125]])"
      ]
     },
     "execution_count": 43,
     "metadata": {},
     "output_type": "execute_result"
    }
   ],
   "source": [
    "s2[1:,:]"
   ]
  },
  {
   "cell_type": "code",
   "execution_count": 44,
   "metadata": {},
   "outputs": [
    {
     "data": {
      "text/plain": [
       "array([[1, 2, 3, 4, 5]])"
      ]
     },
     "execution_count": 44,
     "metadata": {},
     "output_type": "execute_result"
    }
   ],
   "source": [
    "s2[:1]"
   ]
  },
  {
   "cell_type": "code",
   "execution_count": 154,
   "metadata": {},
   "outputs": [
    {
     "data": {
      "text/plain": [
       "16"
      ]
     },
     "execution_count": 154,
     "metadata": {},
     "output_type": "execute_result"
    }
   ],
   "source": [
    "s2[1,3] # call element in row 1, column 3"
   ]
  },
  {
   "cell_type": "code",
   "execution_count": 155,
   "metadata": {},
   "outputs": [
    {
     "data": {
      "text/plain": [
       "array([[  1,   2,   3,   4,   5],\n",
       "       [  1,   4,   9,  16,  25],\n",
       "       [  1,   8,  27,  64, 125]])"
      ]
     },
     "execution_count": 155,
     "metadata": {},
     "output_type": "execute_result"
    }
   ],
   "source": [
    "s2   #let's print s2 again so that we can see it"
   ]
  },
  {
   "cell_type": "code",
   "execution_count": 156,
   "metadata": {},
   "outputs": [
    {
     "data": {
      "text/plain": [
       "array([[  1,   3,   5],\n",
       "       [  1,   9,  25],\n",
       "       [  1,  27, 125]])"
      ]
     },
     "execution_count": 156,
     "metadata": {},
     "output_type": "execute_result"
    }
   ],
   "source": [
    "s2[:,::2] # all columns with even indices"
   ]
  },
  {
   "cell_type": "code",
   "execution_count": 157,
   "metadata": {},
   "outputs": [
    {
     "data": {
      "text/plain": [
       "array([[  5,   4,   3,   2,   1],\n",
       "       [ 25,  16,   9,   4,   1],\n",
       "       [125,  64,  27,   8,   1]])"
      ]
     },
     "execution_count": 157,
     "metadata": {},
     "output_type": "execute_result"
    }
   ],
   "source": [
    "s2[:,::-1] # flips the order of the rows -- rows displayed backwards"
   ]
  },
  {
   "cell_type": "code",
   "execution_count": 158,
   "metadata": {},
   "outputs": [
    {
     "data": {
      "text/plain": [
       "array([5, 4, 3, 2, 1])"
      ]
     },
     "execution_count": 158,
     "metadata": {},
     "output_type": "execute_result"
    }
   ],
   "source": [
    "(s2[0])[::-1] # selects 0th column, flips the order of elements"
   ]
  },
  {
   "cell_type": "markdown",
   "metadata": {},
   "source": [
    "Addition and multiplication act element by element for arrays of equal dimensions"
   ]
  },
  {
   "cell_type": "code",
   "execution_count": 159,
   "metadata": {
    "scrolled": true
   },
   "outputs": [
    {
     "data": {
      "text/plain": [
       "array([  1, 200,   9,  99,  25])"
      ]
     },
     "execution_count": 159,
     "metadata": {},
     "output_type": "execute_result"
    }
   ],
   "source": [
    "s1"
   ]
  },
  {
   "cell_type": "code",
   "execution_count": 160,
   "metadata": {},
   "outputs": [
    {
     "data": {
      "text/plain": [
       "array([ 2,  5, 10, 17, 26])"
      ]
     },
     "execution_count": 160,
     "metadata": {},
     "output_type": "execute_result"
    }
   ],
   "source": [
    "s3"
   ]
  },
  {
   "cell_type": "code",
   "execution_count": 161,
   "metadata": {},
   "outputs": [
    {
     "data": {
      "text/plain": [
       "array([  3, 205,  19, 116,  51])"
      ]
     },
     "execution_count": 161,
     "metadata": {},
     "output_type": "execute_result"
    }
   ],
   "source": [
    "s1+s3"
   ]
  },
  {
   "cell_type": "code",
   "execution_count": 162,
   "metadata": {},
   "outputs": [
    {
     "data": {
      "text/plain": [
       "array([   2, 1000,   90, 1683,  650])"
      ]
     },
     "execution_count": 162,
     "metadata": {},
     "output_type": "execute_result"
    }
   ],
   "source": [
    "s1*s3"
   ]
  },
  {
   "cell_type": "markdown",
   "metadata": {},
   "source": [
    "# Broadcasting"
   ]
  },
  {
   "cell_type": "markdown",
   "metadata": {},
   "source": [
    "Broadcasting allows us to add lower-dimensional arrays to higher-dimensional arrays"
   ]
  },
  {
   "cell_type": "code",
   "execution_count": 163,
   "metadata": {},
   "outputs": [
    {
     "data": {
      "text/plain": [
       "array([  1, 200,   9,  99,  25])"
      ]
     },
     "execution_count": 163,
     "metadata": {},
     "output_type": "execute_result"
    }
   ],
   "source": [
    "s1"
   ]
  },
  {
   "cell_type": "code",
   "execution_count": 164,
   "metadata": {},
   "outputs": [
    {
     "data": {
      "text/plain": [
       "array([[  1,   2,   3,   4,   5],\n",
       "       [  1,   4,   9,  16,  25],\n",
       "       [  1,   8,  27,  64, 125]])"
      ]
     },
     "execution_count": 164,
     "metadata": {},
     "output_type": "execute_result"
    }
   ],
   "source": [
    "s2  "
   ]
  },
  {
   "cell_type": "code",
   "execution_count": 165,
   "metadata": {},
   "outputs": [
    {
     "data": {
      "text/plain": [
       "array([[  2, 202,  12, 103,  30],\n",
       "       [  2, 204,  18, 115,  50],\n",
       "       [  2, 208,  36, 163, 150]])"
      ]
     },
     "execution_count": 165,
     "metadata": {},
     "output_type": "execute_result"
    }
   ],
   "source": [
    "s1 + s2 # s1 will be broadcast and added to each \"row\" in s2; s1 is 1x5 and s2 is 3x5\n",
    "#we will often be adding a vector to each row or column in a matrix"
   ]
  },
  {
   "cell_type": "markdown",
   "metadata": {},
   "source": [
    "# Logical operations"
   ]
  },
  {
   "cell_type": "code",
   "execution_count": 166,
   "metadata": {},
   "outputs": [
    {
     "data": {
      "text/plain": [
       "array([[  1,   2,   3,   4,   5],\n",
       "       [  1,   4,   9,  16,  25],\n",
       "       [  1,   8,  27,  64, 125]])"
      ]
     },
     "execution_count": 166,
     "metadata": {},
     "output_type": "execute_result"
    }
   ],
   "source": [
    "s2"
   ]
  },
  {
   "cell_type": "code",
   "execution_count": 167,
   "metadata": {},
   "outputs": [
    {
     "data": {
      "text/plain": [
       "array([[False, False, False, False, False],\n",
       "       [False, False, False,  True,  True],\n",
       "       [False, False,  True,  True,  True]], dtype=bool)"
      ]
     },
     "execution_count": 167,
     "metadata": {},
     "output_type": "execute_result"
    }
   ],
   "source": [
    "s2 > 10 # boolean selection array; turns numerical array into logical array"
   ]
  },
  {
   "cell_type": "code",
   "execution_count": 168,
   "metadata": {},
   "outputs": [
    {
     "data": {
      "text/plain": [
       "array([  1, 200,   9,  99,  25])"
      ]
     },
     "execution_count": 168,
     "metadata": {},
     "output_type": "execute_result"
    }
   ],
   "source": [
    "s1"
   ]
  },
  {
   "cell_type": "code",
   "execution_count": 169,
   "metadata": {},
   "outputs": [
    {
     "data": {
      "text/plain": [
       "array([False,  True, False,  True,  True], dtype=bool)"
      ]
     },
     "execution_count": 169,
     "metadata": {},
     "output_type": "execute_result"
    }
   ],
   "source": [
    "s1 > 10 # creates an array of true/false indices"
   ]
  },
  {
   "cell_type": "code",
   "execution_count": 170,
   "metadata": {},
   "outputs": [
    {
     "data": {
      "text/plain": [
       "array([200,  99,  25])"
      ]
     },
     "execution_count": 170,
     "metadata": {},
     "output_type": "execute_result"
    }
   ],
   "source": [
    "s1[s1>10] # fancy indexing using boolean selection array: preserve elements of s1 that are \n",
    "#greater than 10\n",
    "#outputs numerical array (as opposed to above)"
   ]
  },
  {
   "cell_type": "code",
   "execution_count": 171,
   "metadata": {},
   "outputs": [
    {
     "data": {
      "text/plain": [
       "array([[ True, False, False, False, False],\n",
       "       [ True, False,  True, False,  True],\n",
       "       [ True, False,  True, False,  True]], dtype=bool)"
      ]
     },
     "execution_count": 171,
     "metadata": {},
     "output_type": "execute_result"
    }
   ],
   "source": [
    "s2 >= s1 #logical broadcasting: takes s2 row by row and compares every row in s2 with s1"
   ]
  },
  {
   "cell_type": "code",
   "execution_count": 172,
   "metadata": {},
   "outputs": [
    {
     "data": {
      "text/plain": [
       "array([  1,   1,   9,  25,   1,  27, 125])"
      ]
     },
     "execution_count": 172,
     "metadata": {},
     "output_type": "execute_result"
    }
   ],
   "source": [
    "s2[s2 >= s1] #takes the matrix above and keeps numbers in position with True values"
   ]
  },
  {
   "cell_type": "code",
   "execution_count": 175,
   "metadata": {},
   "outputs": [
    {
     "data": {
      "text/plain": [
       "array([-2,  5, -2,  5,  5])"
      ]
     },
     "execution_count": 175,
     "metadata": {},
     "output_type": "execute_result"
    }
   ],
   "source": [
    "np.where(s1 > 10, 5, -2) # can use where function in Numpy to select values as well. \n",
    "#vectorized conditional: for all values greater than 10, note with 5, less than 10, \n",
    "#note with -2"
   ]
  },
  {
   "cell_type": "code",
   "execution_count": 176,
   "metadata": {},
   "outputs": [
    {
     "data": {
      "text/plain": [
       "array(['small', 'big', 'small', 'big', 'big'],\n",
       "      dtype='<U5')"
      ]
     },
     "execution_count": 176,
     "metadata": {},
     "output_type": "execute_result"
    }
   ],
   "source": [
    "np.where(s1 > 10, 'big', 'small')  # where clause. vectorized conditional: for all values \n",
    "#greater than 10, note with 'big,' \n",
    "#less than, with 'small'. Turns numeric array into a string array. "
   ]
  },
  {
   "cell_type": "code",
   "execution_count": 177,
   "metadata": {},
   "outputs": [
    {
     "data": {
      "text/plain": [
       "array([['odd', 'even', 'odd', 'even', 'odd'],\n",
       "       ['odd', 'even', 'odd', 'even', 'odd'],\n",
       "       ['odd', 'even', 'odd', 'even', 'odd']],\n",
       "      dtype='<U4')"
      ]
     },
     "execution_count": 177,
     "metadata": {},
     "output_type": "execute_result"
    }
   ],
   "source": [
    "np.where(s2 % 2 == 0, 'even', 'odd')# module division --modulus, if the remainder of dividing \n",
    "#s2[] by 2 is 0, write even, if 1, write odd"
   ]
  },
  {
   "cell_type": "code",
   "execution_count": 35,
   "metadata": {},
   "outputs": [
    {
     "data": {
      "text/plain": [
       "array([[ 1,  2,  3,  4,  5],\n",
       "       [ 1,  4,  9, 10, 10],\n",
       "       [ 1,  8, 10, 10, 10]])"
      ]
     },
     "execution_count": 35,
     "metadata": {},
     "output_type": "execute_result"
    }
   ],
   "source": [
    "np.where(s2 > 10, 10, s2)  \n",
    "#if greater thatn 10 then print 10, if smaller than 10 then print value"
   ]
  },
  {
   "cell_type": "markdown",
   "metadata": {},
   "source": [
    "Numpy arrays are richer data structer than simple numerical matrices: can have logical arrays, string arrays, etc"
   ]
  },
  {
   "cell_type": "markdown",
   "metadata": {},
   "source": [
    "---\n",
    "\n",
    "# Basic Linear Algebra"
   ]
  },
  {
   "cell_type": "markdown",
   "metadata": {},
   "source": [
    "---\n",
    "\n",
    "## Important basic operations:"
   ]
  },
  {
   "cell_type": "markdown",
   "metadata": {},
   "source": [
    "---\n",
    "\n",
    "### Identiy matrix\n",
    "\n",
    "${\\bf I} = \\begin{bmatrix} 1&0&0\\\\0&1&0\\\\0&0&1\\\\ \\end{bmatrix}$"
   ]
  },
  {
   "cell_type": "code",
   "execution_count": 1,
   "metadata": {},
   "outputs": [
    {
     "ename": "NameError",
     "evalue": "name 'np' is not defined",
     "output_type": "error",
     "traceback": [
      "\u001b[0;31m---------------------------------------------------------------------------\u001b[0m",
      "\u001b[0;31mNameError\u001b[0m                                 Traceback (most recent call last)",
      "\u001b[0;32m<ipython-input-1-a1d6b1e1cce6>\u001b[0m in \u001b[0;36m<module>\u001b[0;34m()\u001b[0m\n\u001b[0;32m----> 1\u001b[0;31m \u001b[0mnp\u001b[0m\u001b[0;34m.\u001b[0m\u001b[0midentity\u001b[0m\u001b[0;34m(\u001b[0m\u001b[0;36m3\u001b[0m\u001b[0;34m)\u001b[0m \u001b[0;31m#identity function will generate identity matrix of desired dimension\u001b[0m\u001b[0;34m\u001b[0m\u001b[0m\n\u001b[0m",
      "\u001b[0;31mNameError\u001b[0m: name 'np' is not defined"
     ]
    }
   ],
   "source": [
    "np.identity(3) #identity function will generate identity matrix of desired dimension"
   ]
  },
  {
   "cell_type": "code",
   "execution_count": 2,
   "metadata": {},
   "outputs": [
    {
     "ename": "NameError",
     "evalue": "name 'np' is not defined",
     "output_type": "error",
     "traceback": [
      "\u001b[0;31m---------------------------------------------------------------------------\u001b[0m",
      "\u001b[0;31mNameError\u001b[0m                                 Traceback (most recent call last)",
      "\u001b[0;32m<ipython-input-2-f4b7b47f7104>\u001b[0m in \u001b[0;36m<module>\u001b[0;34m()\u001b[0m\n\u001b[0;32m----> 1\u001b[0;31m \u001b[0mnp\u001b[0m\u001b[0;34m.\u001b[0m\u001b[0midentity\u001b[0m\u001b[0;34m(\u001b[0m\u001b[0;36m5\u001b[0m\u001b[0;34m)\u001b[0m\u001b[0;34m\u001b[0m\u001b[0m\n\u001b[0m",
      "\u001b[0;31mNameError\u001b[0m: name 'np' is not defined"
     ]
    }
   ],
   "source": [
    "np.identity(5)"
   ]
  },
  {
   "cell_type": "markdown",
   "metadata": {},
   "source": [
    "\n",
    "---\n",
    "## Vector addition:\n",
    "\n",
    "\n",
    "${\\bf s_1} = (a_1,b_1,c_1,d_1) = (1,200,9,99,25)$\n",
    "\n",
    "${\\bf s_3} = (a_3,b_3,c_3,d_3) = (2,5,10,17,26) $\n",
    "\n",
    "\n",
    "${\\bf s_1 + s_3} = (a_1,b_1,c_1,d_1) + (a_3,b_3,c_3,d_3) =  (a_1+a_3, b_1+b_3, c_1+c_3, d_1+d_4) = (3,205,19,116,51)$  "
   ]
  },
  {
   "cell_type": "code",
   "execution_count": 180,
   "metadata": {},
   "outputs": [
    {
     "data": {
      "text/plain": [
       "array([  3, 205,  19, 116,  51])"
      ]
     },
     "execution_count": 180,
     "metadata": {},
     "output_type": "execute_result"
    }
   ],
   "source": [
    "s1+s3  # adds arrays element by element"
   ]
  },
  {
   "cell_type": "markdown",
   "metadata": {},
   "source": [
    "---\n",
    "\n",
    "## Multiplication between a scalar and a vector:\n",
    "\n",
    "$\\beta {\\bf A} = \\beta(a_1,a_2,a_3) = (\\beta a_1, \\beta a_2, \\beta a_3)$\n",
    "\n",
    "$\\beta = 2$\n",
    "\n",
    "${\\bf s_1}  = (1,200,9,99,25)$\n",
    "\n",
    "$\\beta\\ {\\bf s_1} = (2,400,18,198,50)$"
   ]
  },
  {
   "cell_type": "code",
   "execution_count": 181,
   "metadata": {},
   "outputs": [
    {
     "data": {
      "text/plain": [
       "array([  1, 200,   9,  99,  25])"
      ]
     },
     "execution_count": 181,
     "metadata": {},
     "output_type": "execute_result"
    }
   ],
   "source": [
    "s1"
   ]
  },
  {
   "cell_type": "code",
   "execution_count": 182,
   "metadata": {},
   "outputs": [
    {
     "data": {
      "text/plain": [
       "array([  2, 400,  18, 198,  50])"
      ]
     },
     "execution_count": 182,
     "metadata": {},
     "output_type": "execute_result"
    }
   ],
   "source": [
    "a=2;\n",
    "a*s1"
   ]
  },
  {
   "cell_type": "markdown",
   "metadata": {},
   "source": [
    "---\n",
    "\n",
    "## Element-wise multiplication:\n",
    "\n",
    "$\\sum_{i=1}^n s_{1,i}s_{3,i}\\hat{\\bf x}_i = (2,1000,90,1643,650)$"
   ]
  },
  {
   "cell_type": "code",
   "execution_count": 183,
   "metadata": {},
   "outputs": [
    {
     "data": {
      "text/plain": [
       "array([  1, 200,   9,  99,  25])"
      ]
     },
     "execution_count": 183,
     "metadata": {},
     "output_type": "execute_result"
    }
   ],
   "source": [
    "s1"
   ]
  },
  {
   "cell_type": "code",
   "execution_count": 184,
   "metadata": {},
   "outputs": [
    {
     "data": {
      "text/plain": [
       "array([ 2,  5, 10, 17, 26])"
      ]
     },
     "execution_count": 184,
     "metadata": {},
     "output_type": "execute_result"
    }
   ],
   "source": [
    "s3"
   ]
  },
  {
   "cell_type": "code",
   "execution_count": 185,
   "metadata": {},
   "outputs": [
    {
     "data": {
      "text/plain": [
       "array([   2, 1000,   90, 1683,  650])"
      ]
     },
     "execution_count": 185,
     "metadata": {},
     "output_type": "execute_result"
    }
   ],
   "source": [
    "s1*s3 # multiplies elmenet by element"
   ]
  },
  {
   "cell_type": "code",
   "execution_count": 186,
   "metadata": {},
   "outputs": [
    {
     "data": {
      "text/plain": [
       "array([[  1,   2,   3,   4,   5],\n",
       "       [  1,   4,   9,  16,  25],\n",
       "       [  1,   8,  27,  64, 125]])"
      ]
     },
     "execution_count": 186,
     "metadata": {},
     "output_type": "execute_result"
    }
   ],
   "source": [
    "s2"
   ]
  },
  {
   "cell_type": "code",
   "execution_count": 187,
   "metadata": {
    "scrolled": false
   },
   "outputs": [
    {
     "data": {
      "text/plain": [
       "array([[   1,  400,   27,  396,  125],\n",
       "       [   1,  800,   81, 1584,  625],\n",
       "       [   1, 1600,  243, 6336, 3125]])"
      ]
     },
     "execution_count": 187,
     "metadata": {},
     "output_type": "execute_result"
    }
   ],
   "source": [
    "s1*s2 #broadcasting multiplication: s1 multiplies every row in s2"
   ]
  },
  {
   "cell_type": "markdown",
   "metadata": {},
   "source": [
    "## Determinant\n",
    "\n",
    "The determinant is a useful quantity by which we can characterize square matrices\n",
    "\n",
    "$ det\\left|\\begin{bmatrix}\n",
    "a&b\\\\\n",
    "c&d\\\\\n",
    "\\end{bmatrix} \\right| = ad - bc$\n",
    "\n",
    "For a general $m\\times m$ matrix one can use the Leibniz formula (see wiki or MathWorld)"
   ]
  },
  {
   "cell_type": "code",
   "execution_count": 188,
   "metadata": {},
   "outputs": [
    {
     "data": {
      "text/plain": [
       "array([[ 0.52683757, -0.52400553, -0.99280992, -0.77461729, -0.16727711],\n",
       "       [ 0.24055838, -1.18803065,  0.18955909, -1.01296951, -1.67762511],\n",
       "       [-0.452811  ,  2.26528969,  0.47039468,  1.72418246, -0.42887558],\n",
       "       [ 1.34244533,  1.174781  , -0.20420854,  0.488463  , -1.04585005],\n",
       "       [ 1.13532859,  0.62795563, -0.67900314,  0.29733999,  0.81324992]])"
      ]
     },
     "execution_count": 188,
     "metadata": {},
     "output_type": "execute_result"
    }
   ],
   "source": [
    "mm = np.random.randn(5,5)\n",
    "mm"
   ]
  },
  {
   "cell_type": "code",
   "execution_count": 189,
   "metadata": {},
   "outputs": [
    {
     "data": {
      "text/plain": [
       "0.43448631298935053"
      ]
     },
     "execution_count": 189,
     "metadata": {},
     "output_type": "execute_result"
    }
   ],
   "source": [
    "np.linalg.det(mm) #finds determinant; Numpy has linear algebra subpackage"
   ]
  },
  {
   "cell_type": "markdown",
   "metadata": {},
   "source": [
    "\n",
    "\n",
    "---\n",
    "\n",
    "## Transpose:\n",
    "\n",
    "$({\\bf A}^T)_{i,j} = {\\bf A}_{j,i}$\n",
    "\n",
    "Elemnt ij of transpose matrix is element ji of original matrix; note the flip in the indices"
   ]
  },
  {
   "cell_type": "code",
   "execution_count": 190,
   "metadata": {},
   "outputs": [
    {
     "data": {
      "text/plain": [
       "array([  1, 200,   9,  99,  25])"
      ]
     },
     "execution_count": 190,
     "metadata": {},
     "output_type": "execute_result"
    }
   ],
   "source": [
    "s1"
   ]
  },
  {
   "cell_type": "code",
   "execution_count": 191,
   "metadata": {},
   "outputs": [
    {
     "data": {
      "text/plain": [
       "array([  1, 200,   9,  99,  25])"
      ]
     },
     "execution_count": 191,
     "metadata": {},
     "output_type": "execute_result"
    }
   ],
   "source": [
    "np.transpose(s1) #recall from lecture that this transpose is a vertical vector"
   ]
  },
  {
   "cell_type": "code",
   "execution_count": 192,
   "metadata": {},
   "outputs": [],
   "source": [
    "s1vertical = s1.reshape(5,1) \n",
    "#Numpy does not automatically display the transpose vector as vertical, but you can do so\n",
    "#by useing reshape. "
   ]
  },
  {
   "cell_type": "code",
   "execution_count": 193,
   "metadata": {},
   "outputs": [
    {
     "data": {
      "text/plain": [
       "array([[  1],\n",
       "       [200],\n",
       "       [  9],\n",
       "       [ 99],\n",
       "       [ 25]])"
      ]
     },
     "execution_count": 193,
     "metadata": {},
     "output_type": "execute_result"
    }
   ],
   "source": [
    "s1vertical"
   ]
  },
  {
   "cell_type": "code",
   "execution_count": 194,
   "metadata": {},
   "outputs": [
    {
     "data": {
      "text/plain": [
       "array([[  1, 200,   9,  99,  25]])"
      ]
     },
     "execution_count": 194,
     "metadata": {},
     "output_type": "execute_result"
    }
   ],
   "source": [
    "np.transpose (s1vertical)"
   ]
  },
  {
   "cell_type": "code",
   "execution_count": 195,
   "metadata": {},
   "outputs": [
    {
     "data": {
      "text/plain": [
       "array([[  1,   2,   3,   4,   5],\n",
       "       [  1,   4,   9,  16,  25],\n",
       "       [  1,   8,  27,  64, 125]])"
      ]
     },
     "execution_count": 195,
     "metadata": {},
     "output_type": "execute_result"
    }
   ],
   "source": [
    "s2"
   ]
  },
  {
   "cell_type": "code",
   "execution_count": 196,
   "metadata": {
    "scrolled": true
   },
   "outputs": [
    {
     "data": {
      "text/plain": [
       "array([[  1,   1,   1],\n",
       "       [  2,   4,   8],\n",
       "       [  3,   9,  27],\n",
       "       [  4,  16,  64],\n",
       "       [  5,  25, 125]])"
      ]
     },
     "execution_count": 196,
     "metadata": {},
     "output_type": "execute_result"
    }
   ],
   "source": [
    "np.transpose(s2) #with matrices you clearly see the transpose"
   ]
  },
  {
   "cell_type": "markdown",
   "metadata": {},
   "source": [
    "---\n",
    "\n",
    "## Inverse:\n",
    "\n",
    "for a square matrix we can take the inverse, which is defined for a 2x2 matrix as:\n",
    "\n",
    "$\\begin{bmatrix}\n",
    "a&b\\\\\n",
    "c&d\\\\\n",
    "\\end{bmatrix} = \\frac{1}{ad-bc} \\begin{bmatrix}d&-b\\\\-c&a\\end{bmatrix}$\n",
    "\n",
    "a general $\\bf m\\times n$ matrix can be inverted by numeric methods such as Gauss-Jordan elimination, Gaussian elimination, or LU decomposition. Numpy does it automatically for us.\n",
    "\n",
    "Note the determinant"
   ]
  },
  {
   "cell_type": "code",
   "execution_count": 197,
   "metadata": {
    "collapsed": true
   },
   "outputs": [],
   "source": [
    "s4 = np.array([[1,2],\n",
    "               [1,4]])"
   ]
  },
  {
   "cell_type": "code",
   "execution_count": 198,
   "metadata": {},
   "outputs": [
    {
     "data": {
      "text/plain": [
       "array([[ 2. , -1. ],\n",
       "       [-0.5,  0.5]])"
      ]
     },
     "execution_count": 198,
     "metadata": {},
     "output_type": "execute_result"
    }
   ],
   "source": [
    "np.linalg.inv(s4) #here's the linear algebra subpackage again; we want the inverse matrix"
   ]
  },
  {
   "cell_type": "code",
   "execution_count": 199,
   "metadata": {
    "scrolled": true
   },
   "outputs": [
    {
     "data": {
      "text/plain": [
       "array([[ 4.        , -4.33333333,  1.5       , -0.16666667],\n",
       "       [-3.        ,  4.75      , -2.        ,  0.25      ],\n",
       "       [ 1.33333333, -2.33333333,  1.16666667, -0.16666667],\n",
       "       [-0.25      ,  0.45833333, -0.25      ,  0.04166667]])"
      ]
     },
     "execution_count": 199,
     "metadata": {},
     "output_type": "execute_result"
    }
   ],
   "source": [
    "s5 = np.array([[1,2,3,4],\n",
    "               [1,4,9,16],\n",
    "               [1,8,27,64],\n",
    "               [1,16,81,256]])\n",
    "s6 = np.linalg.inv(s5)  #s6 is the inverse\n",
    "s6"
   ]
  },
  {
   "cell_type": "markdown",
   "metadata": {},
   "source": [
    "# Matrix multiplicaiton in Numpy"
   ]
  },
  {
   "cell_type": "code",
   "execution_count": 65,
   "metadata": {},
   "outputs": [
    {
     "name": "stdout",
     "output_type": "stream",
     "text": [
      "[[  1.00000000e+00  -2.22044605e-16  -2.22044605e-16  -2.77555756e-17]\n",
      " [  1.33226763e-15   1.00000000e+00  -2.66453526e-15  -1.11022302e-16]\n",
      " [ -5.32907052e-15   1.77635684e-14   1.00000000e+00   1.33226763e-15]\n",
      " [  1.42108547e-14   1.42108547e-14   0.00000000e+00   1.00000000e+00]]\n"
     ]
    }
   ],
   "source": [
    "s7 = np.matmul (s5,s6) #multiplying the two matrices\n",
    "print (s7)\n",
    "# note 1s on the diagoal. All elements outside diagonal are very close to 0. \n",
    "#This is just error of numeric calculation"
   ]
  },
  {
   "cell_type": "markdown",
   "metadata": {},
   "source": [
    "---\n",
    "\n",
    "## The inner (dot) and outer products are defined by the dot and outer funtions (recall this from lecture)\n",
    "\n",
    "### Dot product:\n",
    "\n",
    "In general\n",
    "\n",
    "${\\bf A\\cdot B} = {\\bf A^T B}= \\begin{bmatrix}a_1&a_2&a_3\\end{bmatrix} \\begin{bmatrix}\n",
    "b_1\\\\\n",
    "b_2\\\\\n",
    "b_3\\\\\n",
    "\\end{bmatrix}=a_1 b_1 + a_2 b_2 + a_3 b_3$\n",
    "\n",
    "Or for our vectors $\\bf s_1$ and $\\bf s_3$\n",
    "\n",
    "$ {\\bf s_1 \\cdot s_3 } = \\begin{bmatrix}\n",
    "1&200&9&99&25\n",
    "\\end{bmatrix} \\begin{bmatrix}\n",
    "2\\\\\n",
    "5\\\\\n",
    "10\\\\\n",
    "17\\\\\n",
    "26\\\\\n",
    "\\end{bmatrix} = 2+1000+90+1683+650 = 3425$\n",
    "\n",
    "Recall from lecture that the dot product gives you a scalar\n"
   ]
  },
  {
   "cell_type": "code",
   "execution_count": 200,
   "metadata": {},
   "outputs": [
    {
     "data": {
      "text/plain": [
       "array([  1, 200,   9,  99,  25])"
      ]
     },
     "execution_count": 200,
     "metadata": {},
     "output_type": "execute_result"
    }
   ],
   "source": [
    "s1 "
   ]
  },
  {
   "cell_type": "code",
   "execution_count": 201,
   "metadata": {},
   "outputs": [
    {
     "data": {
      "text/plain": [
       "array([ 2,  5, 10, 17, 26])"
      ]
     },
     "execution_count": 201,
     "metadata": {},
     "output_type": "execute_result"
    }
   ],
   "source": [
    "s3"
   ]
  },
  {
   "cell_type": "code",
   "execution_count": 202,
   "metadata": {},
   "outputs": [
    {
     "data": {
      "text/plain": [
       "3425"
      ]
     },
     "execution_count": 202,
     "metadata": {},
     "output_type": "execute_result"
    }
   ],
   "source": [
    "np.dot(s1,s3) # dot product -- dot product of two vectors is a scalar"
   ]
  },
  {
   "cell_type": "markdown",
   "metadata": {},
   "source": [
    "### Outer product \n",
    "\n",
    "$ {\\bf A\\otimes B} = {\\bf A B^T} = \\begin{bmatrix}\n",
    "a_1\\\\\n",
    "a_2\\\\\n",
    "a_3\\\\\n",
    "\\end{bmatrix}\n",
    " \\begin{bmatrix}b_1&b_2&b_3\\end{bmatrix} =\n",
    "\\begin{bmatrix}\n",
    "a_1b_1&a_1b_2&a_1b_3\\\\\n",
    "a_2b_1&a_2b_2&a_2b_3\\\\\n",
    "a_3b_1&a_3b_2&a_3b_3\\\\\n",
    "\\end{bmatrix}\n",
    "$"
   ]
  },
  {
   "cell_type": "code",
   "execution_count": 203,
   "metadata": {
    "scrolled": true
   },
   "outputs": [
    {
     "data": {
      "text/plain": [
       "array([[   2,    5,   10,   17,   26],\n",
       "       [ 400, 1000, 2000, 3400, 5200],\n",
       "       [  18,   45,   90,  153,  234],\n",
       "       [ 198,  495,  990, 1683, 2574],\n",
       "       [  50,  125,  250,  425,  650]])"
      ]
     },
     "execution_count": 203,
     "metadata": {},
     "output_type": "execute_result"
    }
   ],
   "source": [
    "np.outer(s1,s3)  # matrix multiplication or outer product (or cartesian product)"
   ]
  },
  {
   "cell_type": "markdown",
   "metadata": {},
   "source": [
    "### Cross product\n",
    "\n",
    "An additional product that is valid for vectors that are 3-elements in length is the cross product (a more generalized form is the outer product).\n",
    "\n",
    "$ {\\bf A\\times B} = (a_1,a_2,a_3)\\times(b_1,b_2,b3) = (a_2b_3-a_3b_2, a_3b_1-a_1b_3, a_1b_2-a_2b_2) $\n",
    "\n",
    "Lenght/norm of the cross product is the area of the rhombus defined by vectors s1 and s3. The direction of that vector is orthogonal to the plane defined by vectors s1 and s3"
   ]
  },
  {
   "cell_type": "code",
   "execution_count": 204,
   "metadata": {},
   "outputs": [
    {
     "data": {
      "text/plain": [
       "array([-3,  6, -3])"
      ]
     },
     "execution_count": 204,
     "metadata": {},
     "output_type": "execute_result"
    }
   ],
   "source": [
    "s6 = np.array([1,2,3])\n",
    "s7 = np.array([4,5,6])\n",
    "\n",
    "np.cross(s6,s7)"
   ]
  },
  {
   "cell_type": "markdown",
   "metadata": {},
   "source": [
    "## Special kinds of matrices and vectors\n",
    "\n",
    "The following assumes that you are working with square matrices, i.e. $m=n$\n",
    "\n",
    "### Diagonal matrices\n",
    "\n",
    "$ {\\bf A} = \\begin{bmatrix} a_1&0&0\\\\0&a_2&0\\\\0&0&a_3\\\\ \\end{bmatrix} $\n",
    "\n",
    "Where $A_{i,j} = 0$ if $i\\neq j$\n",
    "\n",
    "### Symmetric matrices\n",
    "\n",
    "A matrix is symmetric if it is equal to its transpose, i.e.:\n",
    "\n",
    "${\\bf A = A^T} $\n"
   ]
  },
  {
   "cell_type": "code",
   "execution_count": 205,
   "metadata": {},
   "outputs": [
    {
     "data": {
      "text/plain": [
       "array([[ 1,  7,  3],\n",
       "       [ 7,  4, -5],\n",
       "       [ 3, -5,  6]])"
      ]
     },
     "execution_count": 205,
     "metadata": {},
     "output_type": "execute_result"
    }
   ],
   "source": [
    "s8 = np.array([[1,7,3],  #a symmetric matrix. The transpose will equal the original matrix\n",
    "               [7,4,-5],\n",
    "               [3,-5,6]])\n",
    "\n",
    "np.transpose(s8)"
   ]
  },
  {
   "cell_type": "markdown",
   "metadata": {},
   "source": [
    "## Orthonormal vectors\n",
    "\n",
    "A collection of real vectors $v_1, v_2, v_3, etc.$ is orthonormal if \n",
    "\n",
    "-  vectors have unit norm $||a_i|| = 1$\n",
    "-  they are mutuall orthogonal: $a_i^Ta_j=0 \\text{ if } i\\ne j$\n",
    "- the square of the norm is equal to the dot product of the vector with itself"
   ]
  },
  {
   "cell_type": "code",
   "execution_count": 206,
   "metadata": {},
   "outputs": [],
   "source": [
    "e1 = np.array([0,0,-1]) # z-coordinate is -1\n",
    "e2 = np.array([1/np.sqrt(2),1/np.sqrt(2),0])  \n",
    "#two orthonormal vectors; x and y-coordinates are 1 / (square root of 2); norm\n",
    "e3 = 1/np.sqrt(2)*np.array([1,-1,0]) \n",
    "#e2 and e3 are both in the xy plane; e3 is e2 rotated by 90 degrees"
   ]
  },
  {
   "cell_type": "markdown",
   "metadata": {},
   "source": [
    "e1, e2 and e3 are three mutually orthonormal vectors because: "
   ]
  },
  {
   "cell_type": "code",
   "execution_count": 207,
   "metadata": {},
   "outputs": [
    {
     "data": {
      "text/plain": [
       "0.0"
      ]
     },
     "execution_count": 207,
     "metadata": {},
     "output_type": "execute_result"
    }
   ],
   "source": [
    "np.dot(e1,e2) "
   ]
  },
  {
   "cell_type": "code",
   "execution_count": 208,
   "metadata": {},
   "outputs": [
    {
     "data": {
      "text/plain": [
       "0.0"
      ]
     },
     "execution_count": 208,
     "metadata": {},
     "output_type": "execute_result"
    }
   ],
   "source": [
    "np.dot(e2,e3)"
   ]
  },
  {
   "cell_type": "code",
   "execution_count": 209,
   "metadata": {},
   "outputs": [
    {
     "data": {
      "text/plain": [
       "0.0"
      ]
     },
     "execution_count": 209,
     "metadata": {},
     "output_type": "execute_result"
    }
   ],
   "source": [
    "np.dot(e3,e1)"
   ]
  },
  {
   "cell_type": "markdown",
   "metadata": {},
   "source": [
    "We prove that the vectors are normal when their dot product is zero. You cann think of these three vectors as the new basis \n",
    "vectors for the three dimensional space"
   ]
  },
  {
   "cell_type": "markdown",
   "metadata": {},
   "source": [
    "\n",
    "\n",
    "### Orthogonal matrices\n",
    "\n",
    "A matrix is orthogonal if it is a square matrix whose rows are mutually orthonormal and whose columns are mutually orthonormal:\n",
    "\n",
    "${\\bf A^T A = A A^T= I}$\n",
    "\n",
    "This implies that ${\\bf A^{-1} = A^T}$"
   ]
  },
  {
   "cell_type": "code",
   "execution_count": 210,
   "metadata": {},
   "outputs": [
    {
     "data": {
      "text/plain": [
       "array([[1, 0, 0, 0],\n",
       "       [0, 1, 0, 0],\n",
       "       [0, 0, 1, 0],\n",
       "       [0, 0, 0, 1]])"
      ]
     },
     "execution_count": 210,
     "metadata": {},
     "output_type": "execute_result"
    }
   ],
   "source": [
    "m1 = np.array([[0,1,0,0],\n",
    "              [0,0,0,1],\n",
    "              [1,0,0,0],\n",
    "              [0,0,1,0]])\n",
    "\n",
    "m2 = np.array([[0,0,1,0],\n",
    "              [1,0,0,0],\n",
    "              [0,0,0,1],\n",
    "              [0,1,0,0]])\n",
    "\n",
    "np.dot(m1,m2)"
   ]
  },
  {
   "cell_type": "markdown",
   "metadata": {},
   "source": [
    "---\n",
    "\n",
    "## Eigen-decomposition\n",
    "\n",
    "Good discussion of this in ch2 of the Deep Learning book we provided. Often, we cna better understand mathematical objects by breaking them into constitutient parts. And example of this is when you decompose a number into its prime factors, for example 12 = 2 x 2 x 3. In a similar way, decomposing a matrix into its eigenvalues and eigenverctors can give us information about a matrix that is not obvious from its representation as an array. \n",
    "\n",
    "An eigenvector of a square matrix ${\\bf A}$  is a non-zero vector $\\bf v$ such that multiplication by $\\bf A$ alters only the scale of $\\bf v$:\n",
    "\n",
    "${\\bf A v} = \\lambda {\\bf v}$\n",
    "\n",
    "The scalar $\\lambda$ is known as the eigenvalue corresponding to the eigenvector"
   ]
  },
  {
   "cell_type": "code",
   "execution_count": 211,
   "metadata": {},
   "outputs": [
    {
     "data": {
      "text/plain": [
       "array([ 6,  6, 12])"
      ]
     },
     "execution_count": 211,
     "metadata": {},
     "output_type": "execute_result"
    }
   ],
   "source": [
    "A = np.array( [[4,0,1],\n",
    "              [2,-2,3],\n",
    "              [7,5,0]])\n",
    "\n",
    "v = np.array([1,1,2])\n",
    "\n",
    "np.dot(A,v)"
   ]
  },
  {
   "cell_type": "code",
   "execution_count": 212,
   "metadata": {},
   "outputs": [
    {
     "data": {
      "text/plain": [
       "array([ 6,  6, 12])"
      ]
     },
     "execution_count": 212,
     "metadata": {},
     "output_type": "execute_result"
    }
   ],
   "source": [
    "6*v   # so we can see that the eigenvalue for v is 6; eigenvalue is 6"
   ]
  },
  {
   "cell_type": "code",
   "execution_count": 213,
   "metadata": {},
   "outputs": [],
   "source": [
    "dm = np.diag((1,2,3)) #create a diagonal matrix with 1,2,3 along the diagonal"
   ]
  },
  {
   "cell_type": "code",
   "execution_count": 214,
   "metadata": {},
   "outputs": [
    {
     "data": {
      "text/plain": [
       "array([[1, 0, 0],\n",
       "       [0, 2, 0],\n",
       "       [0, 0, 3]])"
      ]
     },
     "execution_count": 214,
     "metadata": {},
     "output_type": "execute_result"
    }
   ],
   "source": [
    "dm"
   ]
  },
  {
   "cell_type": "code",
   "execution_count": 215,
   "metadata": {
    "scrolled": false
   },
   "outputs": [
    {
     "data": {
      "text/plain": [
       "(array([ 1.,  2.,  3.]), array([[ 1.,  0.,  0.],\n",
       "        [ 0.,  1.,  0.],\n",
       "        [ 0.,  0.,  1.]]))"
      ]
     },
     "execution_count": 215,
     "metadata": {},
     "output_type": "execute_result"
    }
   ],
   "source": [
    "np.linalg.eig(dm) # eig function calculates eigenvectors; \n",
    "#creates an array with the eigenvalues in the first row\n",
    "# [1., 2., 3.] are the eigenvalues. \n",
    "#But it also gives you a matrix with the eigenvectors, in which the first column contains \n",
    "#the eigenvalues and the second \n",
    "# and remaining columns are the eigenvectors. In other words, this is an array with 2 elements, \n",
    "#the first contains a vector of eigenvalues and the second contains the eigenvectors"
   ]
  },
  {
   "cell_type": "code",
   "execution_count": 216,
   "metadata": {},
   "outputs": [
    {
     "data": {
      "text/plain": [
       "array([1, 0, 0])"
      ]
     },
     "execution_count": 216,
     "metadata": {},
     "output_type": "execute_result"
    }
   ],
   "source": [
    "np.dot(dm,[1,0,0]) \n",
    "#dot products of the diagonal matrix and every eigenvector will give us the eigenvalues"
   ]
  },
  {
   "cell_type": "code",
   "execution_count": 217,
   "metadata": {},
   "outputs": [
    {
     "data": {
      "text/plain": [
       "array([0, 2, 0])"
      ]
     },
     "execution_count": 217,
     "metadata": {},
     "output_type": "execute_result"
    }
   ],
   "source": [
    "np.dot(dm,[0,1,0])"
   ]
  },
  {
   "cell_type": "code",
   "execution_count": 218,
   "metadata": {},
   "outputs": [
    {
     "data": {
      "text/plain": [
       "array([0, 0, 3])"
      ]
     },
     "execution_count": 218,
     "metadata": {},
     "output_type": "execute_result"
    }
   ],
   "source": [
    "np.dot(dm,[0,0,1])"
   ]
  },
  {
   "cell_type": "markdown",
   "metadata": {},
   "source": [
    "Pandas\n",
    "======\n",
    "\n",
    "Pandas is a software library for Python for data manipulation and analysis with an emphasis on operations on numerical tables.\n",
    "Several attractive and popular features of pandas:\n",
    "* Robust data input/output capabilities with integrated indexing\n",
    "* Powerful API on top of NumPy `ndarray` data structure\n",
    "* Analog to R DataFrame\n",
    "* Versatile data visualization capabilities: matrix or database table.\n",
    "* Specific charateristic:\n",
    "    * Data alignment and integrated handling of missing data.\n",
    "    * Reshaping and pivoting of data sets.\n",
    "    * Label-based slicing, fancy indexing,[3] and subsetting of large data sets.\n",
    "    * Data structure column insertion and deletion.\n",
    "    * Group by engine allowing split-apply-combine operations on data sets.\n",
    "    * Data set merging and joining.\n",
    "    * Hierarchical axis indexing to work with high-dimensional data in a lower-dimensional data structure.\n",
    "    * Time series-functionality: "
   ]
  },
  {
   "cell_type": "markdown",
   "metadata": {},
   "source": [
    "# Supported data formats:\n",
    "- CSV\n",
    "- Excel\n",
    "- SQL\n",
    "- JSON\n",
    "- HDF5\n",
    "- pickle\n",
    "- msgpack\n",
    "- Stata\n",
    "- BigQuery\n",
    "\n",
    "To show what Pandas can do we will look at data on Latin American politicans contained in a text file"
   ]
  },
  {
   "cell_type": "code",
   "execution_count": 93,
   "metadata": {},
   "outputs": [
    {
     "data": {
      "text/plain": [
       "'0.20.3'"
      ]
     },
     "execution_count": 93,
     "metadata": {},
     "output_type": "execute_result"
    }
   ],
   "source": [
    "import sys\n",
    "import numpy as np\n",
    "import pandas as pd\n",
    "\n",
    "pd.options.display.max_rows = 20\n",
    "pd.options.display.max_columns = 15\n",
    "pd.__version__"
   ]
  },
  {
   "cell_type": "code",
   "execution_count": 219,
   "metadata": {
    "collapsed": true
   },
   "outputs": [],
   "source": [
    "import sys  #system package that allows you to extract info about the computer itself.\n",
    "#This module provides access to some variables used or maintained by the interpreter \n",
    "#and to functions that interact strongly with the interpreter. It is always available"
   ]
  },
  {
   "cell_type": "code",
   "execution_count": 220,
   "metadata": {},
   "outputs": [
    {
     "data": {
      "text/plain": [
       "['',\n",
       " '/Users/Shared/anaconda3/lib/python36.zip',\n",
       " '/Users/Shared/anaconda3/lib/python3.6',\n",
       " '/Users/Shared/anaconda3/lib/python3.6/lib-dynload',\n",
       " '/Users/Shared/anaconda3/lib/python3.6/site-packages',\n",
       " '/Users/Shared/anaconda3/lib/python3.6/site-packages/aeosa',\n",
       " '/Users/Shared/anaconda3/lib/python3.6/site-packages/IPython/extensions',\n",
       " '/Users/miladjordjevic/.ipython']"
      ]
     },
     "execution_count": 220,
     "metadata": {},
     "output_type": "execute_result"
    }
   ],
   "source": [
    "sys.path"
   ]
  },
  {
   "cell_type": "code",
   "execution_count": 221,
   "metadata": {
    "collapsed": true
   },
   "outputs": [],
   "source": [
    "sitepkgs = '/Users/miladjordjevic/lab01/' #file in my directory\n",
    "testfile = 'utf16_ex.txt' # we're using this text file that contains data on Latin American politicians. \n",
    "altfile = '/Users/miladjordjevic/lab01/'\n"
   ]
  },
  {
   "cell_type": "code",
   "execution_count": 222,
   "metadata": {},
   "outputs": [
    {
     "name": "stdout",
     "output_type": "stream",
     "text": [
      "/Users/miladjordjevic/lab01/ utf16_ex.txt\n"
     ]
    }
   ],
   "source": [
    "print (sitepkgs,testfile)"
   ]
  },
  {
   "cell_type": "code",
   "execution_count": 223,
   "metadata": {
    "collapsed": true
   },
   "outputs": [],
   "source": [
    "data = pd.read_csv( sitepkgs+testfile,  sep='\\t', encoding='utf-16', parse_dates=['Date']) \n",
    "#reads the data (like an excel spread sheet -- first row has column names, Pandas adds row numbers)\n",
    "#\\t means it separates by tab: sep declares elements are separates; \n",
    "#encoding declares what sort of unicode to use; \n",
    "#and parse_dates deals with the dates (Pandas is pretty good at recognizing dates.)"
   ]
  },
  {
   "cell_type": "code",
   "execution_count": 99,
   "metadata": {},
   "outputs": [
    {
     "data": {
      "text/html": [
       "<div>\n",
       "<style>\n",
       "    .dataframe thead tr:only-child th {\n",
       "        text-align: right;\n",
       "    }\n",
       "\n",
       "    .dataframe thead th {\n",
       "        text-align: left;\n",
       "    }\n",
       "\n",
       "    .dataframe tbody tr th {\n",
       "        vertical-align: top;\n",
       "    }\n",
       "</style>\n",
       "<table border=\"1\" class=\"dataframe\">\n",
       "  <thead>\n",
       "    <tr style=\"text-align: right;\">\n",
       "      <th></th>\n",
       "      <th>Country</th>\n",
       "      <th>State/City</th>\n",
       "      <th>Title</th>\n",
       "      <th>Date</th>\n",
       "      <th>Catalogue</th>\n",
       "      <th>Wikipedia Election Page</th>\n",
       "      <th>Wikipedia Individual Page</th>\n",
       "      <th>Electoral Institution in Country</th>\n",
       "      <th>Twitter</th>\n",
       "      <th>CANDIDATE NAME 1</th>\n",
       "      <th>CANDIDATE NAME 2</th>\n",
       "    </tr>\n",
       "  </thead>\n",
       "  <tbody>\n",
       "    <tr>\n",
       "      <th>0</th>\n",
       "      <td>Venezuela</td>\n",
       "      <td>NaN</td>\n",
       "      <td>President</td>\n",
       "      <td>2012-10-07</td>\n",
       "      <td>Hugo Rafael Chavez Frias</td>\n",
       "      <td>Hugo Chávez</td>\n",
       "      <td>Hugo Chávez</td>\n",
       "      <td>Hugo Chavez</td>\n",
       "      <td>Hugo Chávez Frías</td>\n",
       "      <td>Hugo Chavez</td>\n",
       "      <td>Hugo Chávez</td>\n",
       "    </tr>\n",
       "    <tr>\n",
       "      <th>1</th>\n",
       "      <td>Venezuela</td>\n",
       "      <td>NaN</td>\n",
       "      <td>President</td>\n",
       "      <td>2012-10-07</td>\n",
       "      <td>Henrique Capriles Radonski</td>\n",
       "      <td>Henrique Capriles Radonski</td>\n",
       "      <td>Henrique Capriles Radonski</td>\n",
       "      <td>Henrique Capriles Radonski</td>\n",
       "      <td>Henrique Capriles R.</td>\n",
       "      <td>Henrique Capriles</td>\n",
       "      <td>NaN</td>\n",
       "    </tr>\n",
       "    <tr>\n",
       "      <th>2</th>\n",
       "      <td>Venezuela</td>\n",
       "      <td>NaN</td>\n",
       "      <td>President</td>\n",
       "      <td>2012-10-07</td>\n",
       "      <td>Maria Josefina Bolivar</td>\n",
       "      <td>María Bolívar</td>\n",
       "      <td>María Bolívar</td>\n",
       "      <td>Maria Bolivar</td>\n",
       "      <td>Maria Bolivar</td>\n",
       "      <td>Maria Bolivar</td>\n",
       "      <td>María Bolívar</td>\n",
       "    </tr>\n",
       "    <tr>\n",
       "      <th>3</th>\n",
       "      <td>Venezuela</td>\n",
       "      <td>NaN</td>\n",
       "      <td>President</td>\n",
       "      <td>2012-10-07</td>\n",
       "      <td>Orlando Chirino</td>\n",
       "      <td>Orlando Chirinos</td>\n",
       "      <td>None.</td>\n",
       "      <td>Orlando Chirino</td>\n",
       "      <td>Orlando Chirino</td>\n",
       "      <td>Orlando Chirino</td>\n",
       "      <td>NaN</td>\n",
       "    </tr>\n",
       "    <tr>\n",
       "      <th>4</th>\n",
       "      <td>Venezuela</td>\n",
       "      <td>NaN</td>\n",
       "      <td>President</td>\n",
       "      <td>2012-10-07</td>\n",
       "      <td>Luis Reyes</td>\n",
       "      <td>Luis Reyes Castillo</td>\n",
       "      <td>None.</td>\n",
       "      <td>Luis Reyes</td>\n",
       "      <td>Luis Reyes</td>\n",
       "      <td>Luis Reyes</td>\n",
       "      <td>NaN</td>\n",
       "    </tr>\n",
       "    <tr>\n",
       "      <th>5</th>\n",
       "      <td>Venezuela</td>\n",
       "      <td>NaN</td>\n",
       "      <td>President</td>\n",
       "      <td>2012-10-07</td>\n",
       "      <td>Reina Sequera</td>\n",
       "      <td>Reina Sequera</td>\n",
       "      <td>Reina Sequera</td>\n",
       "      <td>Reina Sequera</td>\n",
       "      <td>Reina Sequera</td>\n",
       "      <td>Reina Sequera</td>\n",
       "      <td>NaN</td>\n",
       "    </tr>\n",
       "    <tr>\n",
       "      <th>6</th>\n",
       "      <td>Chile</td>\n",
       "      <td>Santiago</td>\n",
       "      <td>Mayor</td>\n",
       "      <td>2012-10-28</td>\n",
       "      <td>Carolina Montserrat Toha Morales</td>\n",
       "      <td>Carolina Tohá Morales</td>\n",
       "      <td>Carolina Tohá</td>\n",
       "      <td>Carolina Toha Morales</td>\n",
       "      <td>Carolina Tohá</td>\n",
       "      <td>Carolina Tohá</td>\n",
       "      <td>Carolina Toha</td>\n",
       "    </tr>\n",
       "    <tr>\n",
       "      <th>7</th>\n",
       "      <td>Chile</td>\n",
       "      <td>Santiago</td>\n",
       "      <td>Mayor</td>\n",
       "      <td>2012-10-29</td>\n",
       "      <td>Pablo Zalaquett Said</td>\n",
       "      <td>Pablo Zalaquett Said</td>\n",
       "      <td>Pablo Zalaquett</td>\n",
       "      <td>Pablo Zalaquett Said</td>\n",
       "      <td>Pablo Zalaquett Said</td>\n",
       "      <td>Pablo Zalaquett</td>\n",
       "      <td>NaN</td>\n",
       "    </tr>\n",
       "    <tr>\n",
       "      <th>8</th>\n",
       "      <td>Chile</td>\n",
       "      <td>Santiago</td>\n",
       "      <td>Mayor</td>\n",
       "      <td>2012-10-30</td>\n",
       "      <td>Waldo Mora Longa</td>\n",
       "      <td>Waldo Mora Longa</td>\n",
       "      <td>None.</td>\n",
       "      <td>Waldo Mora Longa</td>\n",
       "      <td>Waldo Mora L.</td>\n",
       "      <td>Waldo Mora</td>\n",
       "      <td>NaN</td>\n",
       "    </tr>\n",
       "    <tr>\n",
       "      <th>9</th>\n",
       "      <td>Chile</td>\n",
       "      <td>Santiago</td>\n",
       "      <td>Mayor</td>\n",
       "      <td>2012-10-31</td>\n",
       "      <td>Mario Aguilar</td>\n",
       "      <td>Mario Aguilar Arevalo</td>\n",
       "      <td>None.</td>\n",
       "      <td>Mario Aguilar Arevalo</td>\n",
       "      <td>Mario Aguilar</td>\n",
       "      <td>Mario Aguilar</td>\n",
       "      <td>NaN</td>\n",
       "    </tr>\n",
       "    <tr>\n",
       "      <th>...</th>\n",
       "      <td>...</td>\n",
       "      <td>...</td>\n",
       "      <td>...</td>\n",
       "      <td>...</td>\n",
       "      <td>...</td>\n",
       "      <td>...</td>\n",
       "      <td>...</td>\n",
       "      <td>...</td>\n",
       "      <td>...</td>\n",
       "      <td>...</td>\n",
       "      <td>...</td>\n",
       "    </tr>\n",
       "    <tr>\n",
       "      <th>40</th>\n",
       "      <td>Ecuador</td>\n",
       "      <td>NaN</td>\n",
       "      <td>President</td>\n",
       "      <td>2013-02-07</td>\n",
       "      <td>Alberto Acosta Espinosa</td>\n",
       "      <td>Alberto Acosta Espinosa</td>\n",
       "      <td>Alberto Acosta Espinosa</td>\n",
       "      <td>Alberto Acosta</td>\n",
       "      <td>Alberto Acosta</td>\n",
       "      <td>Alberto Acosta</td>\n",
       "      <td>NaN</td>\n",
       "    </tr>\n",
       "    <tr>\n",
       "      <th>41</th>\n",
       "      <td>Ecuador</td>\n",
       "      <td>NaN</td>\n",
       "      <td>President</td>\n",
       "      <td>2013-02-07</td>\n",
       "      <td>Mauricio Rodas Espinel</td>\n",
       "      <td>Mauricio Rodas</td>\n",
       "      <td>Mauricio Rodas</td>\n",
       "      <td>Mauricio Rodas</td>\n",
       "      <td>Mauricio Rodas</td>\n",
       "      <td>Mauricio Rodas</td>\n",
       "      <td>NaN</td>\n",
       "    </tr>\n",
       "    <tr>\n",
       "      <th>42</th>\n",
       "      <td>Ecuador</td>\n",
       "      <td>NaN</td>\n",
       "      <td>President</td>\n",
       "      <td>2013-02-07</td>\n",
       "      <td>Norman Wray</td>\n",
       "      <td>Norman Wray</td>\n",
       "      <td>None.</td>\n",
       "      <td>Norman Wray</td>\n",
       "      <td>Norman Wray</td>\n",
       "      <td>Norman Wray</td>\n",
       "      <td>NaN</td>\n",
       "    </tr>\n",
       "    <tr>\n",
       "      <th>43</th>\n",
       "      <td>NaN</td>\n",
       "      <td>NaN</td>\n",
       "      <td>NaN</td>\n",
       "      <td>NaT</td>\n",
       "      <td>NaN</td>\n",
       "      <td>NaN</td>\n",
       "      <td>NaN</td>\n",
       "      <td>NaN</td>\n",
       "      <td>NaN</td>\n",
       "      <td>NaN</td>\n",
       "      <td>NaN</td>\n",
       "    </tr>\n",
       "    <tr>\n",
       "      <th>44</th>\n",
       "      <td>NaN</td>\n",
       "      <td>NaN</td>\n",
       "      <td>NaN</td>\n",
       "      <td>NaT</td>\n",
       "      <td>NaN</td>\n",
       "      <td>NaN</td>\n",
       "      <td>NaN</td>\n",
       "      <td>NaN</td>\n",
       "      <td>NaN</td>\n",
       "      <td>NaN</td>\n",
       "      <td>NaN</td>\n",
       "    </tr>\n",
       "    <tr>\n",
       "      <th>45</th>\n",
       "      <td>NaN</td>\n",
       "      <td>NaN</td>\n",
       "      <td>NaN</td>\n",
       "      <td>NaT</td>\n",
       "      <td>NaN</td>\n",
       "      <td>NaN</td>\n",
       "      <td>NaN</td>\n",
       "      <td>NaN</td>\n",
       "      <td>NaN</td>\n",
       "      <td>NaN</td>\n",
       "      <td>NaN</td>\n",
       "    </tr>\n",
       "    <tr>\n",
       "      <th>46</th>\n",
       "      <td>NaN</td>\n",
       "      <td>NaN</td>\n",
       "      <td>NaN</td>\n",
       "      <td>NaT</td>\n",
       "      <td>NaN</td>\n",
       "      <td>NaN</td>\n",
       "      <td>NaN</td>\n",
       "      <td>NaN</td>\n",
       "      <td>NaN</td>\n",
       "      <td>NaN</td>\n",
       "      <td>NaN</td>\n",
       "    </tr>\n",
       "    <tr>\n",
       "      <th>47</th>\n",
       "      <td>NaN</td>\n",
       "      <td>NaN</td>\n",
       "      <td>NaN</td>\n",
       "      <td>NaT</td>\n",
       "      <td>NaN</td>\n",
       "      <td>NaN</td>\n",
       "      <td>NaN</td>\n",
       "      <td>NaN</td>\n",
       "      <td>NaN</td>\n",
       "      <td>NaN</td>\n",
       "      <td>NaN</td>\n",
       "    </tr>\n",
       "    <tr>\n",
       "      <th>48</th>\n",
       "      <td>NaN</td>\n",
       "      <td>NaN</td>\n",
       "      <td>NaN</td>\n",
       "      <td>NaT</td>\n",
       "      <td>NaN</td>\n",
       "      <td>NaN</td>\n",
       "      <td>NaN</td>\n",
       "      <td>NaN</td>\n",
       "      <td>NaN</td>\n",
       "      <td>NaN</td>\n",
       "      <td>NaN</td>\n",
       "    </tr>\n",
       "    <tr>\n",
       "      <th>49</th>\n",
       "      <td>NaN</td>\n",
       "      <td>NaN</td>\n",
       "      <td>NaN</td>\n",
       "      <td>NaT</td>\n",
       "      <td>NaN</td>\n",
       "      <td>NaN</td>\n",
       "      <td>NaN</td>\n",
       "      <td>NaN</td>\n",
       "      <td>NaN</td>\n",
       "      <td>NaN</td>\n",
       "      <td>NaN</td>\n",
       "    </tr>\n",
       "  </tbody>\n",
       "</table>\n",
       "<p>50 rows × 11 columns</p>\n",
       "</div>"
      ],
      "text/plain": [
       "      Country State/City      Title       Date  \\\n",
       "0   Venezuela        NaN  President 2012-10-07   \n",
       "1   Venezuela        NaN  President 2012-10-07   \n",
       "2   Venezuela        NaN  President 2012-10-07   \n",
       "3   Venezuela        NaN  President 2012-10-07   \n",
       "4   Venezuela        NaN  President 2012-10-07   \n",
       "5   Venezuela        NaN  President 2012-10-07   \n",
       "6       Chile   Santiago      Mayor 2012-10-28   \n",
       "7       Chile   Santiago      Mayor 2012-10-29   \n",
       "8       Chile   Santiago      Mayor 2012-10-30   \n",
       "9       Chile   Santiago      Mayor 2012-10-31   \n",
       "..        ...        ...        ...        ...   \n",
       "40    Ecuador        NaN  President 2013-02-07   \n",
       "41    Ecuador        NaN  President 2013-02-07   \n",
       "42    Ecuador        NaN  President 2013-02-07   \n",
       "43        NaN        NaN        NaN        NaT   \n",
       "44        NaN        NaN        NaN        NaT   \n",
       "45        NaN        NaN        NaN        NaT   \n",
       "46        NaN        NaN        NaN        NaT   \n",
       "47        NaN        NaN        NaN        NaT   \n",
       "48        NaN        NaN        NaN        NaT   \n",
       "49        NaN        NaN        NaN        NaT   \n",
       "\n",
       "                           Catalogue     Wikipedia Election Page  \\\n",
       "0           Hugo Rafael Chavez Frias                 Hugo Chávez   \n",
       "1         Henrique Capriles Radonski  Henrique Capriles Radonski   \n",
       "2             Maria Josefina Bolivar               María Bolívar   \n",
       "3                    Orlando Chirino            Orlando Chirinos   \n",
       "4                         Luis Reyes         Luis Reyes Castillo   \n",
       "5                      Reina Sequera               Reina Sequera   \n",
       "6   Carolina Montserrat Toha Morales       Carolina Tohá Morales   \n",
       "7               Pablo Zalaquett Said        Pablo Zalaquett Said   \n",
       "8                   Waldo Mora Longa            Waldo Mora Longa   \n",
       "9                      Mario Aguilar       Mario Aguilar Arevalo   \n",
       "..                               ...                         ...   \n",
       "40           Alberto Acosta Espinosa     Alberto Acosta Espinosa   \n",
       "41            Mauricio Rodas Espinel              Mauricio Rodas   \n",
       "42                       Norman Wray                 Norman Wray   \n",
       "43                               NaN                         NaN   \n",
       "44                               NaN                         NaN   \n",
       "45                               NaN                         NaN   \n",
       "46                               NaN                         NaN   \n",
       "47                               NaN                         NaN   \n",
       "48                               NaN                         NaN   \n",
       "49                               NaN                         NaN   \n",
       "\n",
       "     Wikipedia Individual Page Electoral Institution in Country  \\\n",
       "0                  Hugo Chávez                      Hugo Chavez   \n",
       "1   Henrique Capriles Radonski       Henrique Capriles Radonski   \n",
       "2                María Bolívar                    Maria Bolivar   \n",
       "3                        None.                  Orlando Chirino   \n",
       "4                        None.                       Luis Reyes   \n",
       "5                Reina Sequera                    Reina Sequera   \n",
       "6                Carolina Tohá            Carolina Toha Morales   \n",
       "7              Pablo Zalaquett             Pablo Zalaquett Said   \n",
       "8                        None.                 Waldo Mora Longa   \n",
       "9                        None.            Mario Aguilar Arevalo   \n",
       "..                         ...                              ...   \n",
       "40     Alberto Acosta Espinosa                   Alberto Acosta   \n",
       "41              Mauricio Rodas                   Mauricio Rodas   \n",
       "42                       None.                      Norman Wray   \n",
       "43                         NaN                              NaN   \n",
       "44                         NaN                              NaN   \n",
       "45                         NaN                              NaN   \n",
       "46                         NaN                              NaN   \n",
       "47                         NaN                              NaN   \n",
       "48                         NaN                              NaN   \n",
       "49                         NaN                              NaN   \n",
       "\n",
       "                 Twitter   CANDIDATE NAME 1 CANDIDATE NAME 2  \n",
       "0      Hugo Chávez Frías        Hugo Chavez      Hugo Chávez  \n",
       "1   Henrique Capriles R.  Henrique Capriles              NaN  \n",
       "2          Maria Bolivar      Maria Bolivar    María Bolívar  \n",
       "3        Orlando Chirino    Orlando Chirino              NaN  \n",
       "4             Luis Reyes         Luis Reyes              NaN  \n",
       "5          Reina Sequera      Reina Sequera              NaN  \n",
       "6          Carolina Tohá      Carolina Tohá    Carolina Toha  \n",
       "7   Pablo Zalaquett Said    Pablo Zalaquett              NaN  \n",
       "8          Waldo Mora L.         Waldo Mora              NaN  \n",
       "9          Mario Aguilar      Mario Aguilar              NaN  \n",
       "..                   ...                ...              ...  \n",
       "40        Alberto Acosta     Alberto Acosta              NaN  \n",
       "41        Mauricio Rodas     Mauricio Rodas              NaN  \n",
       "42           Norman Wray        Norman Wray              NaN  \n",
       "43                   NaN                NaN              NaN  \n",
       "44                   NaN                NaN              NaN  \n",
       "45                   NaN                NaN              NaN  \n",
       "46                   NaN                NaN              NaN  \n",
       "47                   NaN                NaN              NaN  \n",
       "48                   NaN                NaN              NaN  \n",
       "49                   NaN                NaN              NaN  \n",
       "\n",
       "[50 rows x 11 columns]"
      ]
     },
     "execution_count": 99,
     "metadata": {},
     "output_type": "execute_result"
    }
   ],
   "source": [
    "data  #native to pandas; prints the data"
   ]
  },
  {
   "cell_type": "code",
   "execution_count": 224,
   "metadata": {
    "collapsed": true
   },
   "outputs": [],
   "source": [
    "data.dropna(subset=['Country', 'Date', 'Title'], inplace=True) # remove objects with empty sets correspond to the columns\n",
    "#drops rows 43 and on. If anywhere there's an NaN in those columns, it will drop that row.\n",
    "#Pandas can drop rown that have non-defined values, or you can replace those values with \n",
    "#specified values"
   ]
  },
  {
   "cell_type": "code",
   "execution_count": 101,
   "metadata": {},
   "outputs": [
    {
     "data": {
      "text/html": [
       "<div>\n",
       "<style>\n",
       "    .dataframe thead tr:only-child th {\n",
       "        text-align: right;\n",
       "    }\n",
       "\n",
       "    .dataframe thead th {\n",
       "        text-align: left;\n",
       "    }\n",
       "\n",
       "    .dataframe tbody tr th {\n",
       "        vertical-align: top;\n",
       "    }\n",
       "</style>\n",
       "<table border=\"1\" class=\"dataframe\">\n",
       "  <thead>\n",
       "    <tr style=\"text-align: right;\">\n",
       "      <th></th>\n",
       "      <th>Country</th>\n",
       "      <th>State/City</th>\n",
       "      <th>Title</th>\n",
       "      <th>Date</th>\n",
       "      <th>Catalogue</th>\n",
       "      <th>Wikipedia Election Page</th>\n",
       "      <th>Wikipedia Individual Page</th>\n",
       "      <th>Electoral Institution in Country</th>\n",
       "      <th>Twitter</th>\n",
       "      <th>CANDIDATE NAME 1</th>\n",
       "      <th>CANDIDATE NAME 2</th>\n",
       "    </tr>\n",
       "  </thead>\n",
       "  <tbody>\n",
       "    <tr>\n",
       "      <th>0</th>\n",
       "      <td>Venezuela</td>\n",
       "      <td>NaN</td>\n",
       "      <td>President</td>\n",
       "      <td>2012-10-07</td>\n",
       "      <td>Hugo Rafael Chavez Frias</td>\n",
       "      <td>Hugo Chávez</td>\n",
       "      <td>Hugo Chávez</td>\n",
       "      <td>Hugo Chavez</td>\n",
       "      <td>Hugo Chávez Frías</td>\n",
       "      <td>Hugo Chavez</td>\n",
       "      <td>Hugo Chávez</td>\n",
       "    </tr>\n",
       "    <tr>\n",
       "      <th>1</th>\n",
       "      <td>Venezuela</td>\n",
       "      <td>NaN</td>\n",
       "      <td>President</td>\n",
       "      <td>2012-10-07</td>\n",
       "      <td>Henrique Capriles Radonski</td>\n",
       "      <td>Henrique Capriles Radonski</td>\n",
       "      <td>Henrique Capriles Radonski</td>\n",
       "      <td>Henrique Capriles Radonski</td>\n",
       "      <td>Henrique Capriles R.</td>\n",
       "      <td>Henrique Capriles</td>\n",
       "      <td>NaN</td>\n",
       "    </tr>\n",
       "    <tr>\n",
       "      <th>2</th>\n",
       "      <td>Venezuela</td>\n",
       "      <td>NaN</td>\n",
       "      <td>President</td>\n",
       "      <td>2012-10-07</td>\n",
       "      <td>Maria Josefina Bolivar</td>\n",
       "      <td>María Bolívar</td>\n",
       "      <td>María Bolívar</td>\n",
       "      <td>Maria Bolivar</td>\n",
       "      <td>Maria Bolivar</td>\n",
       "      <td>Maria Bolivar</td>\n",
       "      <td>María Bolívar</td>\n",
       "    </tr>\n",
       "    <tr>\n",
       "      <th>3</th>\n",
       "      <td>Venezuela</td>\n",
       "      <td>NaN</td>\n",
       "      <td>President</td>\n",
       "      <td>2012-10-07</td>\n",
       "      <td>Orlando Chirino</td>\n",
       "      <td>Orlando Chirinos</td>\n",
       "      <td>None.</td>\n",
       "      <td>Orlando Chirino</td>\n",
       "      <td>Orlando Chirino</td>\n",
       "      <td>Orlando Chirino</td>\n",
       "      <td>NaN</td>\n",
       "    </tr>\n",
       "    <tr>\n",
       "      <th>4</th>\n",
       "      <td>Venezuela</td>\n",
       "      <td>NaN</td>\n",
       "      <td>President</td>\n",
       "      <td>2012-10-07</td>\n",
       "      <td>Luis Reyes</td>\n",
       "      <td>Luis Reyes Castillo</td>\n",
       "      <td>None.</td>\n",
       "      <td>Luis Reyes</td>\n",
       "      <td>Luis Reyes</td>\n",
       "      <td>Luis Reyes</td>\n",
       "      <td>NaN</td>\n",
       "    </tr>\n",
       "    <tr>\n",
       "      <th>5</th>\n",
       "      <td>Venezuela</td>\n",
       "      <td>NaN</td>\n",
       "      <td>President</td>\n",
       "      <td>2012-10-07</td>\n",
       "      <td>Reina Sequera</td>\n",
       "      <td>Reina Sequera</td>\n",
       "      <td>Reina Sequera</td>\n",
       "      <td>Reina Sequera</td>\n",
       "      <td>Reina Sequera</td>\n",
       "      <td>Reina Sequera</td>\n",
       "      <td>NaN</td>\n",
       "    </tr>\n",
       "    <tr>\n",
       "      <th>6</th>\n",
       "      <td>Chile</td>\n",
       "      <td>Santiago</td>\n",
       "      <td>Mayor</td>\n",
       "      <td>2012-10-28</td>\n",
       "      <td>Carolina Montserrat Toha Morales</td>\n",
       "      <td>Carolina Tohá Morales</td>\n",
       "      <td>Carolina Tohá</td>\n",
       "      <td>Carolina Toha Morales</td>\n",
       "      <td>Carolina Tohá</td>\n",
       "      <td>Carolina Tohá</td>\n",
       "      <td>Carolina Toha</td>\n",
       "    </tr>\n",
       "    <tr>\n",
       "      <th>7</th>\n",
       "      <td>Chile</td>\n",
       "      <td>Santiago</td>\n",
       "      <td>Mayor</td>\n",
       "      <td>2012-10-29</td>\n",
       "      <td>Pablo Zalaquett Said</td>\n",
       "      <td>Pablo Zalaquett Said</td>\n",
       "      <td>Pablo Zalaquett</td>\n",
       "      <td>Pablo Zalaquett Said</td>\n",
       "      <td>Pablo Zalaquett Said</td>\n",
       "      <td>Pablo Zalaquett</td>\n",
       "      <td>NaN</td>\n",
       "    </tr>\n",
       "    <tr>\n",
       "      <th>8</th>\n",
       "      <td>Chile</td>\n",
       "      <td>Santiago</td>\n",
       "      <td>Mayor</td>\n",
       "      <td>2012-10-30</td>\n",
       "      <td>Waldo Mora Longa</td>\n",
       "      <td>Waldo Mora Longa</td>\n",
       "      <td>None.</td>\n",
       "      <td>Waldo Mora Longa</td>\n",
       "      <td>Waldo Mora L.</td>\n",
       "      <td>Waldo Mora</td>\n",
       "      <td>NaN</td>\n",
       "    </tr>\n",
       "    <tr>\n",
       "      <th>9</th>\n",
       "      <td>Chile</td>\n",
       "      <td>Santiago</td>\n",
       "      <td>Mayor</td>\n",
       "      <td>2012-10-31</td>\n",
       "      <td>Mario Aguilar</td>\n",
       "      <td>Mario Aguilar Arevalo</td>\n",
       "      <td>None.</td>\n",
       "      <td>Mario Aguilar Arevalo</td>\n",
       "      <td>Mario Aguilar</td>\n",
       "      <td>Mario Aguilar</td>\n",
       "      <td>NaN</td>\n",
       "    </tr>\n",
       "    <tr>\n",
       "      <th>...</th>\n",
       "      <td>...</td>\n",
       "      <td>...</td>\n",
       "      <td>...</td>\n",
       "      <td>...</td>\n",
       "      <td>...</td>\n",
       "      <td>...</td>\n",
       "      <td>...</td>\n",
       "      <td>...</td>\n",
       "      <td>...</td>\n",
       "      <td>...</td>\n",
       "      <td>...</td>\n",
       "    </tr>\n",
       "    <tr>\n",
       "      <th>33</th>\n",
       "      <td>Venezuela</td>\n",
       "      <td>Zulia</td>\n",
       "      <td>Governor</td>\n",
       "      <td>2012-12-16</td>\n",
       "      <td>Iris Rincón</td>\n",
       "      <td>Iris Rincón</td>\n",
       "      <td>None.</td>\n",
       "      <td>Iris Rincon</td>\n",
       "      <td>None.</td>\n",
       "      <td>Iris Rincon</td>\n",
       "      <td>Iris Rincón</td>\n",
       "    </tr>\n",
       "    <tr>\n",
       "      <th>34</th>\n",
       "      <td>Venezuela</td>\n",
       "      <td>Zulia</td>\n",
       "      <td>Governor</td>\n",
       "      <td>2012-12-16</td>\n",
       "      <td>Maria Bolívar</td>\n",
       "      <td>María Bolívar</td>\n",
       "      <td>María Bolívar</td>\n",
       "      <td>Maria Bolivar</td>\n",
       "      <td>Maria Bolivar</td>\n",
       "      <td>Maria Bolivar</td>\n",
       "      <td>María Bolívar</td>\n",
       "    </tr>\n",
       "    <tr>\n",
       "      <th>35</th>\n",
       "      <td>Venezuela</td>\n",
       "      <td>Zulia</td>\n",
       "      <td>Governor</td>\n",
       "      <td>2012-12-16</td>\n",
       "      <td>Pablo Pérez</td>\n",
       "      <td>Pablo Pérez Álvarez</td>\n",
       "      <td>Pablo Pérez Álvarez</td>\n",
       "      <td>Pablo Perez</td>\n",
       "      <td>Pablo Pérez Álvarez</td>\n",
       "      <td>Pablo Perez</td>\n",
       "      <td>Pablo Pérez</td>\n",
       "    </tr>\n",
       "    <tr>\n",
       "      <th>36</th>\n",
       "      <td>Ecuador</td>\n",
       "      <td>NaN</td>\n",
       "      <td>President</td>\n",
       "      <td>2013-02-07</td>\n",
       "      <td>Rafael Vicente Correa Delgado</td>\n",
       "      <td>Rafael Correa</td>\n",
       "      <td>Rafael Correa</td>\n",
       "      <td>Rafael Correa</td>\n",
       "      <td>Rafael Correa</td>\n",
       "      <td>Rafael Correa</td>\n",
       "      <td>NaN</td>\n",
       "    </tr>\n",
       "    <tr>\n",
       "      <th>37</th>\n",
       "      <td>Ecuador</td>\n",
       "      <td>NaN</td>\n",
       "      <td>President</td>\n",
       "      <td>2013-02-07</td>\n",
       "      <td>Guillermo Alberto Santiago Lasso Mendoza</td>\n",
       "      <td>Guillermo Lasso</td>\n",
       "      <td>Guillermo Lasso</td>\n",
       "      <td>Guillermo Lasso</td>\n",
       "      <td>Guillermo Lasso</td>\n",
       "      <td>Guillermo Lasso</td>\n",
       "      <td>NaN</td>\n",
       "    </tr>\n",
       "    <tr>\n",
       "      <th>38</th>\n",
       "      <td>Ecuador</td>\n",
       "      <td>NaN</td>\n",
       "      <td>President</td>\n",
       "      <td>2013-02-07</td>\n",
       "      <td>Lucio Edwin Gutiérrez Borbúa</td>\n",
       "      <td>Lucio Gutiérrez</td>\n",
       "      <td>Lucio Gutiérrez</td>\n",
       "      <td>Lucio Gutiérrez</td>\n",
       "      <td>Lucio Gutiérrez</td>\n",
       "      <td>Lucio Gutierrez</td>\n",
       "      <td>Lucio Gutiérrez</td>\n",
       "    </tr>\n",
       "    <tr>\n",
       "      <th>39</th>\n",
       "      <td>Ecuador</td>\n",
       "      <td>NaN</td>\n",
       "      <td>President</td>\n",
       "      <td>2013-02-07</td>\n",
       "      <td>Álvaro Fernando Noboa Pontón</td>\n",
       "      <td>Álvaro Noboa</td>\n",
       "      <td>Álvaro Noboa</td>\n",
       "      <td>Alvaro Noboa</td>\n",
       "      <td>Alvaro Noboa</td>\n",
       "      <td>Alvaro Noboa</td>\n",
       "      <td>Álvaro Noboa</td>\n",
       "    </tr>\n",
       "    <tr>\n",
       "      <th>40</th>\n",
       "      <td>Ecuador</td>\n",
       "      <td>NaN</td>\n",
       "      <td>President</td>\n",
       "      <td>2013-02-07</td>\n",
       "      <td>Alberto Acosta Espinosa</td>\n",
       "      <td>Alberto Acosta Espinosa</td>\n",
       "      <td>Alberto Acosta Espinosa</td>\n",
       "      <td>Alberto Acosta</td>\n",
       "      <td>Alberto Acosta</td>\n",
       "      <td>Alberto Acosta</td>\n",
       "      <td>NaN</td>\n",
       "    </tr>\n",
       "    <tr>\n",
       "      <th>41</th>\n",
       "      <td>Ecuador</td>\n",
       "      <td>NaN</td>\n",
       "      <td>President</td>\n",
       "      <td>2013-02-07</td>\n",
       "      <td>Mauricio Rodas Espinel</td>\n",
       "      <td>Mauricio Rodas</td>\n",
       "      <td>Mauricio Rodas</td>\n",
       "      <td>Mauricio Rodas</td>\n",
       "      <td>Mauricio Rodas</td>\n",
       "      <td>Mauricio Rodas</td>\n",
       "      <td>NaN</td>\n",
       "    </tr>\n",
       "    <tr>\n",
       "      <th>42</th>\n",
       "      <td>Ecuador</td>\n",
       "      <td>NaN</td>\n",
       "      <td>President</td>\n",
       "      <td>2013-02-07</td>\n",
       "      <td>Norman Wray</td>\n",
       "      <td>Norman Wray</td>\n",
       "      <td>None.</td>\n",
       "      <td>Norman Wray</td>\n",
       "      <td>Norman Wray</td>\n",
       "      <td>Norman Wray</td>\n",
       "      <td>NaN</td>\n",
       "    </tr>\n",
       "  </tbody>\n",
       "</table>\n",
       "<p>43 rows × 11 columns</p>\n",
       "</div>"
      ],
      "text/plain": [
       "      Country State/City      Title       Date  \\\n",
       "0   Venezuela        NaN  President 2012-10-07   \n",
       "1   Venezuela        NaN  President 2012-10-07   \n",
       "2   Venezuela        NaN  President 2012-10-07   \n",
       "3   Venezuela        NaN  President 2012-10-07   \n",
       "4   Venezuela        NaN  President 2012-10-07   \n",
       "5   Venezuela        NaN  President 2012-10-07   \n",
       "6       Chile   Santiago      Mayor 2012-10-28   \n",
       "7       Chile   Santiago      Mayor 2012-10-29   \n",
       "8       Chile   Santiago      Mayor 2012-10-30   \n",
       "9       Chile   Santiago      Mayor 2012-10-31   \n",
       "..        ...        ...        ...        ...   \n",
       "33  Venezuela      Zulia   Governor 2012-12-16   \n",
       "34  Venezuela      Zulia   Governor 2012-12-16   \n",
       "35  Venezuela      Zulia   Governor 2012-12-16   \n",
       "36    Ecuador        NaN  President 2013-02-07   \n",
       "37    Ecuador        NaN  President 2013-02-07   \n",
       "38    Ecuador        NaN  President 2013-02-07   \n",
       "39    Ecuador        NaN  President 2013-02-07   \n",
       "40    Ecuador        NaN  President 2013-02-07   \n",
       "41    Ecuador        NaN  President 2013-02-07   \n",
       "42    Ecuador        NaN  President 2013-02-07   \n",
       "\n",
       "                                   Catalogue     Wikipedia Election Page  \\\n",
       "0                   Hugo Rafael Chavez Frias                 Hugo Chávez   \n",
       "1                 Henrique Capriles Radonski  Henrique Capriles Radonski   \n",
       "2                     Maria Josefina Bolivar               María Bolívar   \n",
       "3                            Orlando Chirino            Orlando Chirinos   \n",
       "4                                 Luis Reyes         Luis Reyes Castillo   \n",
       "5                              Reina Sequera               Reina Sequera   \n",
       "6           Carolina Montserrat Toha Morales       Carolina Tohá Morales   \n",
       "7                       Pablo Zalaquett Said        Pablo Zalaquett Said   \n",
       "8                           Waldo Mora Longa            Waldo Mora Longa   \n",
       "9                              Mario Aguilar       Mario Aguilar Arevalo   \n",
       "..                                       ...                         ...   \n",
       "33                               Iris Rincón                 Iris Rincón   \n",
       "34                             Maria Bolívar               María Bolívar   \n",
       "35                               Pablo Pérez         Pablo Pérez Álvarez   \n",
       "36             Rafael Vicente Correa Delgado               Rafael Correa   \n",
       "37  Guillermo Alberto Santiago Lasso Mendoza             Guillermo Lasso   \n",
       "38              Lucio Edwin Gutiérrez Borbúa             Lucio Gutiérrez   \n",
       "39              Álvaro Fernando Noboa Pontón                Álvaro Noboa   \n",
       "40                   Alberto Acosta Espinosa     Alberto Acosta Espinosa   \n",
       "41                    Mauricio Rodas Espinel              Mauricio Rodas   \n",
       "42                               Norman Wray                 Norman Wray   \n",
       "\n",
       "     Wikipedia Individual Page Electoral Institution in Country  \\\n",
       "0                  Hugo Chávez                      Hugo Chavez   \n",
       "1   Henrique Capriles Radonski       Henrique Capriles Radonski   \n",
       "2                María Bolívar                    Maria Bolivar   \n",
       "3                        None.                  Orlando Chirino   \n",
       "4                        None.                       Luis Reyes   \n",
       "5                Reina Sequera                    Reina Sequera   \n",
       "6                Carolina Tohá            Carolina Toha Morales   \n",
       "7              Pablo Zalaquett             Pablo Zalaquett Said   \n",
       "8                        None.                 Waldo Mora Longa   \n",
       "9                        None.            Mario Aguilar Arevalo   \n",
       "..                         ...                              ...   \n",
       "33                       None.                      Iris Rincon   \n",
       "34               María Bolívar                    Maria Bolivar   \n",
       "35         Pablo Pérez Álvarez                      Pablo Perez   \n",
       "36               Rafael Correa                    Rafael Correa   \n",
       "37             Guillermo Lasso                  Guillermo Lasso   \n",
       "38             Lucio Gutiérrez                  Lucio Gutiérrez   \n",
       "39                Álvaro Noboa                     Alvaro Noboa   \n",
       "40     Alberto Acosta Espinosa                   Alberto Acosta   \n",
       "41              Mauricio Rodas                   Mauricio Rodas   \n",
       "42                       None.                      Norman Wray   \n",
       "\n",
       "                 Twitter   CANDIDATE NAME 1 CANDIDATE NAME 2  \n",
       "0      Hugo Chávez Frías        Hugo Chavez      Hugo Chávez  \n",
       "1   Henrique Capriles R.  Henrique Capriles              NaN  \n",
       "2          Maria Bolivar      Maria Bolivar    María Bolívar  \n",
       "3        Orlando Chirino    Orlando Chirino              NaN  \n",
       "4             Luis Reyes         Luis Reyes              NaN  \n",
       "5          Reina Sequera      Reina Sequera              NaN  \n",
       "6          Carolina Tohá      Carolina Tohá    Carolina Toha  \n",
       "7   Pablo Zalaquett Said    Pablo Zalaquett              NaN  \n",
       "8          Waldo Mora L.         Waldo Mora              NaN  \n",
       "9          Mario Aguilar      Mario Aguilar              NaN  \n",
       "..                   ...                ...              ...  \n",
       "33                 None.        Iris Rincon      Iris Rincón  \n",
       "34         Maria Bolivar      Maria Bolivar    María Bolívar  \n",
       "35   Pablo Pérez Álvarez        Pablo Perez      Pablo Pérez  \n",
       "36         Rafael Correa      Rafael Correa              NaN  \n",
       "37       Guillermo Lasso    Guillermo Lasso              NaN  \n",
       "38       Lucio Gutiérrez    Lucio Gutierrez  Lucio Gutiérrez  \n",
       "39          Alvaro Noboa       Alvaro Noboa     Álvaro Noboa  \n",
       "40        Alberto Acosta     Alberto Acosta              NaN  \n",
       "41        Mauricio Rodas     Mauricio Rodas              NaN  \n",
       "42           Norman Wray        Norman Wray              NaN  \n",
       "\n",
       "[43 rows x 11 columns]"
      ]
     },
     "execution_count": 101,
     "metadata": {},
     "output_type": "execute_result"
    }
   ],
   "source": [
    "data  "
   ]
  },
  {
   "cell_type": "code",
   "execution_count": 225,
   "metadata": {
    "collapsed": true
   },
   "outputs": [],
   "source": [
    "data.to_excel('people.xls')  \n",
    "#exporting function specific to pandas -- takes your data set and exports it into excel file"
   ]
  },
  {
   "cell_type": "code",
   "execution_count": 226,
   "metadata": {},
   "outputs": [
    {
     "data": {
      "text/html": [
       "<div>\n",
       "<style>\n",
       "    .dataframe thead tr:only-child th {\n",
       "        text-align: right;\n",
       "    }\n",
       "\n",
       "    .dataframe thead th {\n",
       "        text-align: left;\n",
       "    }\n",
       "\n",
       "    .dataframe tbody tr th {\n",
       "        vertical-align: top;\n",
       "    }\n",
       "</style>\n",
       "<table border=\"1\" class=\"dataframe\">\n",
       "  <thead>\n",
       "    <tr style=\"text-align: right;\">\n",
       "      <th></th>\n",
       "      <th>Country</th>\n",
       "      <th>State/City</th>\n",
       "      <th>Title</th>\n",
       "      <th>Date</th>\n",
       "      <th>Catalogue</th>\n",
       "      <th>Wikipedia Election Page</th>\n",
       "      <th>Wikipedia Individual Page</th>\n",
       "      <th>Electoral Institution in Country</th>\n",
       "      <th>Twitter</th>\n",
       "      <th>CANDIDATE NAME 1</th>\n",
       "      <th>CANDIDATE NAME 2</th>\n",
       "    </tr>\n",
       "  </thead>\n",
       "  <tbody>\n",
       "    <tr>\n",
       "      <th>6</th>\n",
       "      <td>Chile</td>\n",
       "      <td>Santiago</td>\n",
       "      <td>Mayor</td>\n",
       "      <td>2012-10-28</td>\n",
       "      <td>Carolina Montserrat Toha Morales</td>\n",
       "      <td>Carolina Tohá Morales</td>\n",
       "      <td>Carolina Tohá</td>\n",
       "      <td>Carolina Toha Morales</td>\n",
       "      <td>Carolina Tohá</td>\n",
       "      <td>Carolina Tohá</td>\n",
       "      <td>Carolina Toha</td>\n",
       "    </tr>\n",
       "    <tr>\n",
       "      <th>7</th>\n",
       "      <td>Chile</td>\n",
       "      <td>Santiago</td>\n",
       "      <td>Mayor</td>\n",
       "      <td>2012-10-29</td>\n",
       "      <td>Pablo Zalaquett Said</td>\n",
       "      <td>Pablo Zalaquett Said</td>\n",
       "      <td>Pablo Zalaquett</td>\n",
       "      <td>Pablo Zalaquett Said</td>\n",
       "      <td>Pablo Zalaquett Said</td>\n",
       "      <td>Pablo Zalaquett</td>\n",
       "      <td>NaN</td>\n",
       "    </tr>\n",
       "    <tr>\n",
       "      <th>8</th>\n",
       "      <td>Chile</td>\n",
       "      <td>Santiago</td>\n",
       "      <td>Mayor</td>\n",
       "      <td>2012-10-30</td>\n",
       "      <td>Waldo Mora Longa</td>\n",
       "      <td>Waldo Mora Longa</td>\n",
       "      <td>None.</td>\n",
       "      <td>Waldo Mora Longa</td>\n",
       "      <td>Waldo Mora L.</td>\n",
       "      <td>Waldo Mora</td>\n",
       "      <td>NaN</td>\n",
       "    </tr>\n",
       "    <tr>\n",
       "      <th>9</th>\n",
       "      <td>Chile</td>\n",
       "      <td>Santiago</td>\n",
       "      <td>Mayor</td>\n",
       "      <td>2012-10-31</td>\n",
       "      <td>Mario Aguilar</td>\n",
       "      <td>Mario Aguilar Arevalo</td>\n",
       "      <td>None.</td>\n",
       "      <td>Mario Aguilar Arevalo</td>\n",
       "      <td>Mario Aguilar</td>\n",
       "      <td>Mario Aguilar</td>\n",
       "      <td>NaN</td>\n",
       "    </tr>\n",
       "    <tr>\n",
       "      <th>10</th>\n",
       "      <td>Chile</td>\n",
       "      <td>Santiago</td>\n",
       "      <td>Mayor</td>\n",
       "      <td>2012-11-01</td>\n",
       "      <td>Ivan Carrasco</td>\n",
       "      <td>Iván Carrasco Mora</td>\n",
       "      <td>None.</td>\n",
       "      <td>Ivan Carrasco Mora</td>\n",
       "      <td>None.</td>\n",
       "      <td>Iván Carrasco Mora</td>\n",
       "      <td>Ivan Carrasco Mora</td>\n",
       "    </tr>\n",
       "  </tbody>\n",
       "</table>\n",
       "</div>"
      ],
      "text/plain": [
       "   Country State/City  Title       Date                         Catalogue  \\\n",
       "6    Chile   Santiago  Mayor 2012-10-28  Carolina Montserrat Toha Morales   \n",
       "7    Chile   Santiago  Mayor 2012-10-29              Pablo Zalaquett Said   \n",
       "8    Chile   Santiago  Mayor 2012-10-30                  Waldo Mora Longa   \n",
       "9    Chile   Santiago  Mayor 2012-10-31                     Mario Aguilar   \n",
       "10   Chile   Santiago  Mayor 2012-11-01                     Ivan Carrasco   \n",
       "\n",
       "   Wikipedia Election Page Wikipedia Individual Page  \\\n",
       "6    Carolina Tohá Morales             Carolina Tohá   \n",
       "7     Pablo Zalaquett Said           Pablo Zalaquett   \n",
       "8         Waldo Mora Longa                     None.   \n",
       "9    Mario Aguilar Arevalo                     None.   \n",
       "10      Iván Carrasco Mora                     None.   \n",
       "\n",
       "   Electoral Institution in Country               Twitter    CANDIDATE NAME 1  \\\n",
       "6             Carolina Toha Morales         Carolina Tohá       Carolina Tohá   \n",
       "7              Pablo Zalaquett Said  Pablo Zalaquett Said     Pablo Zalaquett   \n",
       "8                  Waldo Mora Longa         Waldo Mora L.          Waldo Mora   \n",
       "9             Mario Aguilar Arevalo         Mario Aguilar       Mario Aguilar   \n",
       "10               Ivan Carrasco Mora                 None.  Iván Carrasco Mora   \n",
       "\n",
       "      CANDIDATE NAME 2  \n",
       "6        Carolina Toha  \n",
       "7                  NaN  \n",
       "8                  NaN  \n",
       "9                  NaN  \n",
       "10  Ivan Carrasco Mora  "
      ]
     },
     "execution_count": 226,
     "metadata": {},
     "output_type": "execute_result"
    }
   ],
   "source": [
    "data[data.Country == 'Chile'] #selecting data for Chile only"
   ]
  },
  {
   "cell_type": "code",
   "execution_count": 227,
   "metadata": {},
   "outputs": [
    {
     "data": {
      "text/html": [
       "<div>\n",
       "<style>\n",
       "    .dataframe thead tr:only-child th {\n",
       "        text-align: right;\n",
       "    }\n",
       "\n",
       "    .dataframe thead th {\n",
       "        text-align: left;\n",
       "    }\n",
       "\n",
       "    .dataframe tbody tr th {\n",
       "        vertical-align: top;\n",
       "    }\n",
       "</style>\n",
       "<table border=\"1\" class=\"dataframe\">\n",
       "  <thead>\n",
       "    <tr style=\"text-align: right;\">\n",
       "      <th></th>\n",
       "      <th>Country</th>\n",
       "      <th>State/City</th>\n",
       "      <th>Title</th>\n",
       "      <th>Date</th>\n",
       "      <th>Catalogue</th>\n",
       "      <th>Wikipedia Election Page</th>\n",
       "      <th>Wikipedia Individual Page</th>\n",
       "      <th>Electoral Institution in Country</th>\n",
       "      <th>Twitter</th>\n",
       "      <th>CANDIDATE NAME 1</th>\n",
       "      <th>CANDIDATE NAME 2</th>\n",
       "    </tr>\n",
       "  </thead>\n",
       "  <tbody>\n",
       "    <tr>\n",
       "      <th>0</th>\n",
       "      <td>Venezuela</td>\n",
       "      <td>NaN</td>\n",
       "      <td>President</td>\n",
       "      <td>2012-10-07</td>\n",
       "      <td>Hugo Rafael Chavez Frias</td>\n",
       "      <td>Hugo Chávez</td>\n",
       "      <td>Hugo Chávez</td>\n",
       "      <td>Hugo Chavez</td>\n",
       "      <td>Hugo Chávez Frías</td>\n",
       "      <td>Hugo Chavez</td>\n",
       "      <td>Hugo Chávez</td>\n",
       "    </tr>\n",
       "    <tr>\n",
       "      <th>1</th>\n",
       "      <td>Venezuela</td>\n",
       "      <td>NaN</td>\n",
       "      <td>President</td>\n",
       "      <td>2012-10-07</td>\n",
       "      <td>Henrique Capriles Radonski</td>\n",
       "      <td>Henrique Capriles Radonski</td>\n",
       "      <td>Henrique Capriles Radonski</td>\n",
       "      <td>Henrique Capriles Radonski</td>\n",
       "      <td>Henrique Capriles R.</td>\n",
       "      <td>Henrique Capriles</td>\n",
       "      <td>NaN</td>\n",
       "    </tr>\n",
       "    <tr>\n",
       "      <th>2</th>\n",
       "      <td>Venezuela</td>\n",
       "      <td>NaN</td>\n",
       "      <td>President</td>\n",
       "      <td>2012-10-07</td>\n",
       "      <td>Maria Josefina Bolivar</td>\n",
       "      <td>María Bolívar</td>\n",
       "      <td>María Bolívar</td>\n",
       "      <td>Maria Bolivar</td>\n",
       "      <td>Maria Bolivar</td>\n",
       "      <td>Maria Bolivar</td>\n",
       "      <td>María Bolívar</td>\n",
       "    </tr>\n",
       "    <tr>\n",
       "      <th>3</th>\n",
       "      <td>Venezuela</td>\n",
       "      <td>NaN</td>\n",
       "      <td>President</td>\n",
       "      <td>2012-10-07</td>\n",
       "      <td>Orlando Chirino</td>\n",
       "      <td>Orlando Chirinos</td>\n",
       "      <td>None.</td>\n",
       "      <td>Orlando Chirino</td>\n",
       "      <td>Orlando Chirino</td>\n",
       "      <td>Orlando Chirino</td>\n",
       "      <td>NaN</td>\n",
       "    </tr>\n",
       "    <tr>\n",
       "      <th>4</th>\n",
       "      <td>Venezuela</td>\n",
       "      <td>NaN</td>\n",
       "      <td>President</td>\n",
       "      <td>2012-10-07</td>\n",
       "      <td>Luis Reyes</td>\n",
       "      <td>Luis Reyes Castillo</td>\n",
       "      <td>None.</td>\n",
       "      <td>Luis Reyes</td>\n",
       "      <td>Luis Reyes</td>\n",
       "      <td>Luis Reyes</td>\n",
       "      <td>NaN</td>\n",
       "    </tr>\n",
       "    <tr>\n",
       "      <th>5</th>\n",
       "      <td>Venezuela</td>\n",
       "      <td>NaN</td>\n",
       "      <td>President</td>\n",
       "      <td>2012-10-07</td>\n",
       "      <td>Reina Sequera</td>\n",
       "      <td>Reina Sequera</td>\n",
       "      <td>Reina Sequera</td>\n",
       "      <td>Reina Sequera</td>\n",
       "      <td>Reina Sequera</td>\n",
       "      <td>Reina Sequera</td>\n",
       "      <td>NaN</td>\n",
       "    </tr>\n",
       "    <tr>\n",
       "      <th>6</th>\n",
       "      <td>Chile</td>\n",
       "      <td>Santiago</td>\n",
       "      <td>Mayor</td>\n",
       "      <td>2012-10-28</td>\n",
       "      <td>Carolina Montserrat Toha Morales</td>\n",
       "      <td>Carolina Tohá Morales</td>\n",
       "      <td>Carolina Tohá</td>\n",
       "      <td>Carolina Toha Morales</td>\n",
       "      <td>Carolina Tohá</td>\n",
       "      <td>Carolina Tohá</td>\n",
       "      <td>Carolina Toha</td>\n",
       "    </tr>\n",
       "    <tr>\n",
       "      <th>7</th>\n",
       "      <td>Chile</td>\n",
       "      <td>Santiago</td>\n",
       "      <td>Mayor</td>\n",
       "      <td>2012-10-29</td>\n",
       "      <td>Pablo Zalaquett Said</td>\n",
       "      <td>Pablo Zalaquett Said</td>\n",
       "      <td>Pablo Zalaquett</td>\n",
       "      <td>Pablo Zalaquett Said</td>\n",
       "      <td>Pablo Zalaquett Said</td>\n",
       "      <td>Pablo Zalaquett</td>\n",
       "      <td>NaN</td>\n",
       "    </tr>\n",
       "    <tr>\n",
       "      <th>8</th>\n",
       "      <td>Chile</td>\n",
       "      <td>Santiago</td>\n",
       "      <td>Mayor</td>\n",
       "      <td>2012-10-30</td>\n",
       "      <td>Waldo Mora Longa</td>\n",
       "      <td>Waldo Mora Longa</td>\n",
       "      <td>None.</td>\n",
       "      <td>Waldo Mora Longa</td>\n",
       "      <td>Waldo Mora L.</td>\n",
       "      <td>Waldo Mora</td>\n",
       "      <td>NaN</td>\n",
       "    </tr>\n",
       "    <tr>\n",
       "      <th>9</th>\n",
       "      <td>Chile</td>\n",
       "      <td>Santiago</td>\n",
       "      <td>Mayor</td>\n",
       "      <td>2012-10-31</td>\n",
       "      <td>Mario Aguilar</td>\n",
       "      <td>Mario Aguilar Arevalo</td>\n",
       "      <td>None.</td>\n",
       "      <td>Mario Aguilar Arevalo</td>\n",
       "      <td>Mario Aguilar</td>\n",
       "      <td>Mario Aguilar</td>\n",
       "      <td>NaN</td>\n",
       "    </tr>\n",
       "  </tbody>\n",
       "</table>\n",
       "</div>"
      ],
      "text/plain": [
       "     Country State/City      Title       Date  \\\n",
       "0  Venezuela        NaN  President 2012-10-07   \n",
       "1  Venezuela        NaN  President 2012-10-07   \n",
       "2  Venezuela        NaN  President 2012-10-07   \n",
       "3  Venezuela        NaN  President 2012-10-07   \n",
       "4  Venezuela        NaN  President 2012-10-07   \n",
       "5  Venezuela        NaN  President 2012-10-07   \n",
       "6      Chile   Santiago      Mayor 2012-10-28   \n",
       "7      Chile   Santiago      Mayor 2012-10-29   \n",
       "8      Chile   Santiago      Mayor 2012-10-30   \n",
       "9      Chile   Santiago      Mayor 2012-10-31   \n",
       "\n",
       "                          Catalogue     Wikipedia Election Page  \\\n",
       "0          Hugo Rafael Chavez Frias                 Hugo Chávez   \n",
       "1        Henrique Capriles Radonski  Henrique Capriles Radonski   \n",
       "2            Maria Josefina Bolivar               María Bolívar   \n",
       "3                   Orlando Chirino            Orlando Chirinos   \n",
       "4                        Luis Reyes         Luis Reyes Castillo   \n",
       "5                     Reina Sequera               Reina Sequera   \n",
       "6  Carolina Montserrat Toha Morales       Carolina Tohá Morales   \n",
       "7              Pablo Zalaquett Said        Pablo Zalaquett Said   \n",
       "8                  Waldo Mora Longa            Waldo Mora Longa   \n",
       "9                     Mario Aguilar       Mario Aguilar Arevalo   \n",
       "\n",
       "    Wikipedia Individual Page Electoral Institution in Country  \\\n",
       "0                 Hugo Chávez                      Hugo Chavez   \n",
       "1  Henrique Capriles Radonski       Henrique Capriles Radonski   \n",
       "2               María Bolívar                    Maria Bolivar   \n",
       "3                       None.                  Orlando Chirino   \n",
       "4                       None.                       Luis Reyes   \n",
       "5               Reina Sequera                    Reina Sequera   \n",
       "6               Carolina Tohá            Carolina Toha Morales   \n",
       "7             Pablo Zalaquett             Pablo Zalaquett Said   \n",
       "8                       None.                 Waldo Mora Longa   \n",
       "9                       None.            Mario Aguilar Arevalo   \n",
       "\n",
       "                Twitter   CANDIDATE NAME 1 CANDIDATE NAME 2  \n",
       "0     Hugo Chávez Frías        Hugo Chavez      Hugo Chávez  \n",
       "1  Henrique Capriles R.  Henrique Capriles              NaN  \n",
       "2         Maria Bolivar      Maria Bolivar    María Bolívar  \n",
       "3       Orlando Chirino    Orlando Chirino              NaN  \n",
       "4            Luis Reyes         Luis Reyes              NaN  \n",
       "5         Reina Sequera      Reina Sequera              NaN  \n",
       "6         Carolina Tohá      Carolina Tohá    Carolina Toha  \n",
       "7  Pablo Zalaquett Said    Pablo Zalaquett              NaN  \n",
       "8         Waldo Mora L.         Waldo Mora              NaN  \n",
       "9         Mario Aguilar      Mario Aguilar              NaN  "
      ]
     },
     "execution_count": 227,
     "metadata": {},
     "output_type": "execute_result"
    }
   ],
   "source": [
    "data[data.Date < '2012-11'] #selecting dates before November 2012"
   ]
  },
  {
   "cell_type": "code",
   "execution_count": 228,
   "metadata": {},
   "outputs": [
    {
     "data": {
      "text/plain": [
       "array(['Venezuela', 'Chile', 'Nicaragua', 'Ecuador'], dtype=object)"
      ]
     },
     "execution_count": 228,
     "metadata": {},
     "output_type": "execute_result"
    }
   ],
   "source": [
    "data.Country.unique()  #select unique country names without repetition"
   ]
  },
  {
   "cell_type": "code",
   "execution_count": 229,
   "metadata": {},
   "outputs": [
    {
     "data": {
      "text/plain": [
       "0     Venezuela\n",
       "1     Venezuela\n",
       "2     Venezuela\n",
       "3     Venezuela\n",
       "4     Venezuela\n",
       "5     Venezuela\n",
       "6         Chile\n",
       "7         Chile\n",
       "8         Chile\n",
       "9         Chile\n",
       "        ...    \n",
       "33    Venezuela\n",
       "34    Venezuela\n",
       "35    Venezuela\n",
       "36      Ecuador\n",
       "37      Ecuador\n",
       "38      Ecuador\n",
       "39      Ecuador\n",
       "40      Ecuador\n",
       "41      Ecuador\n",
       "42      Ecuador\n",
       "Name: Country, Length: 43, dtype: object"
      ]
     },
     "execution_count": 229,
     "metadata": {},
     "output_type": "execute_result"
    }
   ],
   "source": [
    "data.Country #this is the entire Country column, and you can see repetition\n"
   ]
  },
  {
   "cell_type": "code",
   "execution_count": 230,
   "metadata": {},
   "outputs": [
    {
     "data": {
      "text/plain": [
       "Venezuela    25\n",
       "Ecuador       7\n",
       "Nicaragua     6\n",
       "Chile         5\n",
       "Name: Country, dtype: int64"
      ]
     },
     "execution_count": 230,
     "metadata": {},
     "output_type": "execute_result"
    }
   ],
   "source": [
    "data.Country.value_counts()"
   ]
  },
  {
   "cell_type": "markdown",
   "metadata": {},
   "source": [
    "Matplotlib\n",
    "==========\n",
    "\n",
    "Matplotlib is a Python 2D plotting library that is both approachable but still very capable of generating sophisticated images.\n",
    "* Images are outputted to a MATLAB-like interface for simple plotting\n",
    "    * MATLAB-like features makes it easily incorporated into established industry standards\n",
    "* Default plot styles allow for rapid visualization of data\n",
    "* Deep integration with Python libraries\n",
    "* Reliant on other Python libraries such as NumPy\n",
    "\n",
    "We will look at how to display data and functions "
   ]
  },
  {
   "cell_type": "code",
   "execution_count": 231,
   "metadata": {
    "collapsed": true
   },
   "outputs": [],
   "source": [
    "%matplotlib inline\n",
    "# magic function, says that matplotlib will be included in IPython and makes outputs appear \n",
    "#and be stored in the notebook\n",
    "#important because you want your graphics in the jupyter notebook"
   ]
  },
  {
   "cell_type": "code",
   "execution_count": 232,
   "metadata": {
    "collapsed": true
   },
   "outputs": [],
   "source": [
    "import numpy as np\n",
    "from   pylab import *\n",
    "\n",
    "n     = 200      # number of elements in array\n",
    "x     = np.linspace(0,10,n) # creates a liner array of 200 elements between 0 and 10 \n",
    "#(can add additional term to define step size)\n",
    "data  = np.sin(x) #for every element, calculate the sin\n",
    "#note that unlike in mathematics, sin function accepts vector as its argument, \n",
    "#and calcualtes sin for every element of this vector. \n",
    "#You can also do this with a for loop that passes each scalar element in the vector, \n",
    "#but this is much slower than passing a vector to sign function\n",
    "noise = np.random.randn(n) \n",
    "#random normal distribution (generates values that are normally distributed around 0 \n",
    "#so you get positive and negative values) ; adding noise to the sin function; \n",
    "#noise is a separte array\n",
    "noise2 = np.random.normal(0,.1,n) \n",
    "# 0 is the mean or center of the distribution, .1 is the standard deviation"
   ]
  },
  {
   "cell_type": "code",
   "execution_count": 112,
   "metadata": {},
   "outputs": [
    {
     "data": {
      "text/plain": [
       "[<matplotlib.lines.Line2D at 0x1168a55c0>]"
      ]
     },
     "execution_count": 112,
     "metadata": {},
     "output_type": "execute_result"
    },
    {
     "data": {
      "image/png": "[encoded data removed]",
      "text/plain": [
       "<matplotlib.figure.Figure at 0x115e3c710>"
      ]
     },
     "metadata": {},
     "output_type": "display_data"
    }
   ],
   "source": [
    "plot(x,data) #here we plot the sin function"
   ]
  },
  {
   "cell_type": "code",
   "execution_count": 233,
   "metadata": {},
   "outputs": [
    {
     "data": {
      "text/plain": [
       "[<matplotlib.lines.Line2D at 0x1518e19828>]"
      ]
     },
     "execution_count": 233,
     "metadata": {},
     "output_type": "execute_result"
    },
    {
     "data": {
      "image/png": "[encoded data removed]",
      "text/plain": [
       "<matplotlib.figure.Figure at 0x1518dd6a58>"
      ]
     },
     "metadata": {},
     "output_type": "display_data"
    }
   ],
   "source": [
    "plot(x,noise, 'rx') #here we plot the noise; note that the data points are dense around 0, \n",
    "#which means the function does have a normal distribution "
   ]
  },
  {
   "cell_type": "code",
   "execution_count": 234,
   "metadata": {},
   "outputs": [
    {
     "data": {
      "text/plain": [
       "3.5120459207031534"
      ]
     },
     "execution_count": 234,
     "metadata": {},
     "output_type": "execute_result"
    }
   ],
   "source": [
    "np.max(noise) #maximum value produced by random functions"
   ]
  },
  {
   "cell_type": "code",
   "execution_count": 235,
   "metadata": {},
   "outputs": [
    {
     "data": {
      "text/plain": [
       "(array([  2.,   1.,   3.,   7.,  10.,  13.,  13.,  21.,  22.,  29.,  19.,\n",
       "         16.,  15.,  11.,   8.,   6.,   1.,   1.,   1.,   1.]),\n",
       " array([-3.12762525, -2.79564169, -2.46365813, -2.13167457, -1.79969101,\n",
       "        -1.46770745, -1.1357239 , -0.80374034, -0.47175678, -0.13977322,\n",
       "         0.19221034,  0.5241939 ,  0.85617745,  1.18816101,  1.52014457,\n",
       "         1.85212813,  2.18411169,  2.51609525,  2.8480788 ,  3.18006236,\n",
       "         3.51204592]),\n",
       " <a list of 20 Patch objects>)"
      ]
     },
     "execution_count": 235,
     "metadata": {},
     "output_type": "execute_result"
    },
    {
     "data": {
      "image/png": "[encoded data removed]",
      "text/plain": [
       "<matplotlib.figure.Figure at 0x1518defb38>"
      ]
     },
     "metadata": {},
     "output_type": "display_data"
    }
   ],
   "source": [
    "hist(noise, 20)  #histogram is used to display radom distributions; \n",
    "#it's a histogram with 20 intervals that start at the negative max and go to the positive max\n",
    "#the first array contains the values of the verticals in the histogram, \n",
    "#and the second array are the coordinates of the intervals \n"
   ]
  },
  {
   "cell_type": "code",
   "execution_count": 236,
   "metadata": {},
   "outputs": [
    {
     "data": {
      "image/png": "[encoded data removed]",
      "text/plain": [
       "<matplotlib.figure.Figure at 0x1518d12ac8>"
      ]
     },
     "metadata": {},
     "output_type": "display_data"
    }
   ],
   "source": [
    "_ = hist(noise, 20)\n",
    "# if you don't want to print the values, use underscore; convention in python to use _ for throwaway variables"
   ]
  },
  {
   "cell_type": "code",
   "execution_count": 237,
   "metadata": {},
   "outputs": [
    {
     "data": {
      "text/plain": [
       "[<matplotlib.lines.Line2D at 0x15190810f0>]"
      ]
     },
     "execution_count": 237,
     "metadata": {},
     "output_type": "execute_result"
    },
    {
     "data": {
      "image/png": "[encoded data removed]",
      "text/plain": [
       "<matplotlib.figure.Figure at 0x15190e5390>"
      ]
     },
     "metadata": {},
     "output_type": "display_data"
    }
   ],
   "source": [
    "obs = data + noise #a major component of our exprimental data is the sin function, but because our experiments are\n",
    "#always stocahstic, we added noise; in other words, our observed values (obs) are sin plus noise -- we add arrays element by element\n",
    "plot(x, obs)\n",
    "#we get a plot that resembles a noisy sin function"
   ]
  },
  {
   "cell_type": "markdown",
   "metadata": {},
   "source": [
    "We can also show the sin function superimposed with the noise"
   ]
  },
  {
   "cell_type": "code",
   "execution_count": 238,
   "metadata": {},
   "outputs": [
    {
     "data": {
      "image/png": "[encoded data removed]",
      "text/plain": [
       "<matplotlib.figure.Figure at 0x15190a3f60>"
      ]
     },
     "metadata": {},
     "output_type": "display_data"
    }
   ],
   "source": [
    "obs = data + noise\n",
    "figure()\n",
    "subplot(211)  # declares a subplot of two rows and one column and selects the first, \n",
    "#starting from top to bottom (left to right)\n",
    "title('sin + $\\mathcal{N}$(0,1) noise') #how you add titles to your displays\n",
    "xlabel('time (s)') #how add labels to your graphs\n",
    "ylabel('reading (mV)')\n",
    "plot(x, obs, 'r')\n",
    "subplot(212)\n",
    "plot(x, data, 'r')\n",
    "plot(x, noise, 'x')\n",
    "show()"
   ]
  },
  {
   "cell_type": "markdown",
   "metadata": {},
   "source": [
    "Scipy\n",
    "=====\n",
    "\n",
    "Python library used for scientific and technical computing. Contains modules for the following:\n",
    "* Optimization & linear algebra\n",
    "* Integration & interpolation\n",
    "* Special functions (Bessel, ArcTan, Laguerre, etc...)\n",
    "* Fast Fourier Transform (FFT)\n",
    "* signal and image processing\n",
    "* ODE solvers\n",
    "\n",
    "Uses and expands on the capabilities of NumPy\n",
    "\n",
    "The following example is  a brief illustration of how convenient it is to use functions in python and these packages, including Scipy."
   ]
  },
  {
   "cell_type": "code",
   "execution_count": 239,
   "metadata": {
    "collapsed": true
   },
   "outputs": [],
   "source": [
    "import matplotlib.pyplot as plt\n",
    "import numpy as np\n",
    "import scipy as sp\n",
    "import scipy.optimize\n",
    "from numpy.random import rand"
   ]
  },
  {
   "cell_type": "code",
   "execution_count": 240,
   "metadata": {},
   "outputs": [
    {
     "data": {
      "text/plain": [
       "True"
      ]
     },
     "execution_count": 240,
     "metadata": {},
     "output_type": "execute_result"
    }
   ],
   "source": [
    "'optimize' in dir(sp)  #checks if sp package contains optimized subfunction"
   ]
  },
  {
   "cell_type": "markdown",
   "metadata": {},
   "source": [
    "Again we want to show you how you can display various function. \n",
    "For example say we have a signal that can be described by the following function\n",
    "\n",
    "$signal = A\\times cos(2{\\pi}x-1.32) + 0.22x$"
   ]
  },
  {
   "cell_type": "code",
   "execution_count": 241,
   "metadata": {
    "collapsed": true
   },
   "outputs": [],
   "source": [
    "points = 200\n",
    "x      = np.linspace(0, 10, points)  #defines points on the axis\n",
    "\n",
    "# func-> A*cos(2pi*x-B)+x*C+noise\n",
    "signal = 12.0 * np.cos(2*np.pi*x-1.32) + 0.22 * x \n",
    "# we don't actually see the linear function .22x in our plot because it grows slowly\n",
    "noise  = 4 * ((0.5-rand(points)) * np.exp(2*rand(points)**2)) #generating random noise again\n",
    "combined = signal + noise"
   ]
  },
  {
   "cell_type": "code",
   "execution_count": 242,
   "metadata": {},
   "outputs": [
    {
     "data": {
      "image/png": "[encoded data removed]",
      "text/plain": [
       "<matplotlib.figure.Figure at 0x1519353ac8>"
      ]
     },
     "metadata": {},
     "output_type": "display_data"
    }
   ],
   "source": [
    "figure()\n",
    "subplot(211)\n",
    "plot(x, noise)\n",
    "subplot(212)\n",
    "_ = hist(noise,20)"
   ]
  },
  {
   "cell_type": "code",
   "execution_count": 243,
   "metadata": {},
   "outputs": [
    {
     "data": {
      "text/plain": [
       "[<matplotlib.lines.Line2D at 0x1518a86668>]"
      ]
     },
     "execution_count": 243,
     "metadata": {},
     "output_type": "execute_result"
    },
    {
     "data": {
      "image/png": "[encoded data removed]",
      "text/plain": [
       "<matplotlib.figure.Figure at 0x151931ba20>"
      ]
     },
     "metadata": {},
     "output_type": "display_data"
    }
   ],
   "source": [
    "plot(x, combined, 'x')\n",
    "#plot(x, signal, 'o')"
   ]
  },
  {
   "cell_type": "markdown",
   "metadata": {},
   "source": [
    "We generated a cos function with noise. Now we need to find a function that's a best fit.\n",
    "Inside the optimization subpackage we have the least square fit function that identifies the best fitting periodic function for experimental data:. We will call this function 'model' and it will have two variable: parameter 0 and parameter 1\n",
    "\n",
    "$model = p_0 \\times cos(2\\pi x - p_1)$"
   ]
  },
  {
   "cell_type": "code",
   "execution_count": 244,
   "metadata": {
    "collapsed": true
   },
   "outputs": [],
   "source": [
    "model = lambda p, x:    p[0] * np.cos(2*np.pi*x-p[1]) \n",
    "# the function we are trying to extract\n",
    "#lambda operator, creates anonymous throwaway function of argument p,x, output p[0]...\n",
    "#p is a vector of paramaters that we are looking for\n",
    "err   = lambda p, x, y: model(p, x) - y \n",
    "#also a lambda function that finds the error in the model compared to our \n",
    "#experimental data; you subtract y values that were generated above by the original signal \n",
    "#function"
   ]
  },
  {
   "cell_type": "code",
   "execution_count": 245,
   "metadata": {
    "collapsed": true
   },
   "outputs": [],
   "source": [
    "guess = [1., 0.8]\n",
    "fitted, success = sp.optimize.leastsq(err, guess, args=(x, combined))   \n",
    "#guess = starting values for the function;\n",
    "#the function calculates errors for value iteratively, trying to minimize error\n",
    "# it minimizes the sum of squares of a set of equations"
   ]
  },
  {
   "cell_type": "code",
   "execution_count": 246,
   "metadata": {},
   "outputs": [
    {
     "data": {
      "text/plain": [
       "1"
      ]
     },
     "execution_count": 246,
     "metadata": {},
     "output_type": "execute_result"
    }
   ],
   "source": [
    "success "
   ]
  },
  {
   "cell_type": "code",
   "execution_count": 247,
   "metadata": {},
   "outputs": [
    {
     "data": {
      "text/plain": [
       "[<matplotlib.lines.Line2D at 0x15190964a8>]"
      ]
     },
     "execution_count": 247,
     "metadata": {},
     "output_type": "execute_result"
    },
    {
     "data": {
      "image/png": "[encoded data removed]",
      "text/plain": [
       "<matplotlib.figure.Figure at 0x1518aa9208>"
      ]
     },
     "metadata": {},
     "output_type": "display_data"
    }
   ],
   "source": [
    "plt.plot(x, combined,'r^')\n",
    "plt.plot(x, model(fitted,x), 'k-')\n",
    "# red is simulated experimental data; \n",
    "#black lines is least square best fit (we used optimize function for that)\n",
    " "
   ]
  },
  {
   "cell_type": "markdown",
   "metadata": {},
   "source": [
    "Injest, analyze, and clean data with Pandas\n",
    "-----------------------------------------------"
   ]
  },
  {
   "cell_type": "markdown",
   "metadata": {},
   "source": [
    "## Example 1: Car catalog\n",
    "\n",
    "Simple analysis workflow of a well known sample data set of 400 cars from the 1970s."
   ]
  },
  {
   "cell_type": "code",
   "execution_count": 2,
   "metadata": {
    "collapsed": true
   },
   "outputs": [],
   "source": [
    "import pandas as pd\n",
    "\n",
    "pd.set_option(\"display.max_rows\",10)"
   ]
  },
  {
   "cell_type": "code",
   "execution_count": 130,
   "metadata": {},
   "outputs": [
    {
     "name": "stdout",
     "output_type": "stream",
     "text": [
      "number of rows  100\n",
      "number of columns  11\n"
     ]
    }
   ],
   "source": [
    "from  pandas.plotting import scatter_matrix\n",
    "import matplotlib.pyplot as plt\n",
    "\n",
    "\n",
    "# Load the datset of metrics from csnttd servers\n",
    "#file = 'D:\\Dropbox\\AZURE\\Lab2\\Small_Car_Data.csv'\n",
    "file = '/Users/miladjordjevic/lab01/Small_Car_Data.csv'\n",
    "autompg = pd.read_csv(file)\n",
    "no_rows = len(autompg.index)\n",
    "no_columns = len(autompg.columns)\n",
    "print(\"number of rows \",no_rows)\n",
    "print(\"number of columns \", no_columns)\n",
    "\n",
    "#attributes = ['Acceleration', 'Cylinders', 'Displacement', 'Horsepower','MPG']\n",
    "#scatter_matrix(autompg[attributes], figsize=(12,8))\n",
    "\n",
    "#plt.show();"
   ]
  },
  {
   "cell_type": "code",
   "execution_count": 138,
   "metadata": {},
   "outputs": [
    {
     "data": {
      "text/html": [
       "<div>\n",
       "<table border=\"1\" class=\"dataframe\">\n",
       "  <thead>\n",
       "    <tr style=\"text-align: right;\">\n",
       "      <th></th>\n",
       "      <th>Unnamed: 0</th>\n",
       "      <th>Acceleration</th>\n",
       "      <th>Cylinders</th>\n",
       "      <th>Displacement</th>\n",
       "      <th>Horsepower</th>\n",
       "      <th>Manufacturer</th>\n",
       "      <th>Model</th>\n",
       "      <th>Model_Year</th>\n",
       "      <th>MPG</th>\n",
       "      <th>Origin</th>\n",
       "      <th>Weight</th>\n",
       "    </tr>\n",
       "  </thead>\n",
       "  <tbody>\n",
       "    <tr>\n",
       "      <th>0</th>\n",
       "      <td>1</td>\n",
       "      <td>12.0</td>\n",
       "      <td>8</td>\n",
       "      <td>307</td>\n",
       "      <td>130</td>\n",
       "      <td>chevrolet</td>\n",
       "      <td>chevrolet chevelle malibu</td>\n",
       "      <td>70</td>\n",
       "      <td>18.0</td>\n",
       "      <td>USA</td>\n",
       "      <td>3504</td>\n",
       "    </tr>\n",
       "    <tr>\n",
       "      <th>1</th>\n",
       "      <td>2</td>\n",
       "      <td>11.5</td>\n",
       "      <td>8</td>\n",
       "      <td>350</td>\n",
       "      <td>165</td>\n",
       "      <td>buick</td>\n",
       "      <td>buick skylark 320</td>\n",
       "      <td>70</td>\n",
       "      <td>15.0</td>\n",
       "      <td>USA</td>\n",
       "      <td>3693</td>\n",
       "    </tr>\n",
       "    <tr>\n",
       "      <th>2</th>\n",
       "      <td>3</td>\n",
       "      <td>11.0</td>\n",
       "      <td>8</td>\n",
       "      <td>318</td>\n",
       "      <td>150</td>\n",
       "      <td>plymouth</td>\n",
       "      <td>plymouth satellite</td>\n",
       "      <td>70</td>\n",
       "      <td>18.0</td>\n",
       "      <td>USA</td>\n",
       "      <td>3436</td>\n",
       "    </tr>\n",
       "    <tr>\n",
       "      <th>3</th>\n",
       "      <td>4</td>\n",
       "      <td>12.0</td>\n",
       "      <td>8</td>\n",
       "      <td>304</td>\n",
       "      <td>150</td>\n",
       "      <td>amc</td>\n",
       "      <td>amc rebel sst</td>\n",
       "      <td>70</td>\n",
       "      <td>16.0</td>\n",
       "      <td>USA</td>\n",
       "      <td>3433</td>\n",
       "    </tr>\n",
       "    <tr>\n",
       "      <th>4</th>\n",
       "      <td>5</td>\n",
       "      <td>10.5</td>\n",
       "      <td>8</td>\n",
       "      <td>302</td>\n",
       "      <td>140</td>\n",
       "      <td>ford</td>\n",
       "      <td>ford torino</td>\n",
       "      <td>70</td>\n",
       "      <td>17.0</td>\n",
       "      <td>USA</td>\n",
       "      <td>3449</td>\n",
       "    </tr>\n",
       "    <tr>\n",
       "      <th>...</th>\n",
       "      <td>...</td>\n",
       "      <td>...</td>\n",
       "      <td>...</td>\n",
       "      <td>...</td>\n",
       "      <td>...</td>\n",
       "      <td>...</td>\n",
       "      <td>...</td>\n",
       "      <td>...</td>\n",
       "      <td>...</td>\n",
       "      <td>...</td>\n",
       "      <td>...</td>\n",
       "    </tr>\n",
       "    <tr>\n",
       "      <th>95</th>\n",
       "      <td>96</td>\n",
       "      <td>15.6</td>\n",
       "      <td>4</td>\n",
       "      <td>140</td>\n",
       "      <td>86</td>\n",
       "      <td>ford</td>\n",
       "      <td>ford mustang gl</td>\n",
       "      <td>82</td>\n",
       "      <td>27.0</td>\n",
       "      <td>USA</td>\n",
       "      <td>2790</td>\n",
       "    </tr>\n",
       "    <tr>\n",
       "      <th>96</th>\n",
       "      <td>97</td>\n",
       "      <td>24.6</td>\n",
       "      <td>4</td>\n",
       "      <td>97</td>\n",
       "      <td>52</td>\n",
       "      <td>volkswagen</td>\n",
       "      <td>volkswagen pickup</td>\n",
       "      <td>82</td>\n",
       "      <td>44.0</td>\n",
       "      <td>Germany</td>\n",
       "      <td>2130</td>\n",
       "    </tr>\n",
       "    <tr>\n",
       "      <th>97</th>\n",
       "      <td>98</td>\n",
       "      <td>11.6</td>\n",
       "      <td>4</td>\n",
       "      <td>135</td>\n",
       "      <td>84</td>\n",
       "      <td>dodge</td>\n",
       "      <td>dodge rampage</td>\n",
       "      <td>82</td>\n",
       "      <td>32.0</td>\n",
       "      <td>USA</td>\n",
       "      <td>2295</td>\n",
       "    </tr>\n",
       "    <tr>\n",
       "      <th>98</th>\n",
       "      <td>99</td>\n",
       "      <td>18.6</td>\n",
       "      <td>4</td>\n",
       "      <td>120</td>\n",
       "      <td>79</td>\n",
       "      <td>ford</td>\n",
       "      <td>ford ranger</td>\n",
       "      <td>82</td>\n",
       "      <td>28.0</td>\n",
       "      <td>USA</td>\n",
       "      <td>2625</td>\n",
       "    </tr>\n",
       "    <tr>\n",
       "      <th>99</th>\n",
       "      <td>100</td>\n",
       "      <td>19.4</td>\n",
       "      <td>4</td>\n",
       "      <td>119</td>\n",
       "      <td>82</td>\n",
       "      <td>chevrolet</td>\n",
       "      <td>chevrolet s-10</td>\n",
       "      <td>82</td>\n",
       "      <td>31.0</td>\n",
       "      <td>USA</td>\n",
       "      <td>2720</td>\n",
       "    </tr>\n",
       "  </tbody>\n",
       "</table>\n",
       "<p>100 rows × 11 columns</p>\n",
       "</div>"
      ],
      "text/plain": [
       "    Unnamed: 0  Acceleration  Cylinders  Displacement  Horsepower  \\\n",
       "0            1          12.0          8           307         130   \n",
       "1            2          11.5          8           350         165   \n",
       "2            3          11.0          8           318         150   \n",
       "3            4          12.0          8           304         150   \n",
       "4            5          10.5          8           302         140   \n",
       "..         ...           ...        ...           ...         ...   \n",
       "95          96          15.6          4           140          86   \n",
       "96          97          24.6          4            97          52   \n",
       "97          98          11.6          4           135          84   \n",
       "98          99          18.6          4           120          79   \n",
       "99         100          19.4          4           119          82   \n",
       "\n",
       "     Manufacturer                              Model  Model_Year   MPG  \\\n",
       "0   chevrolet      chevrolet chevelle malibu                  70  18.0   \n",
       "1   buick          buick skylark 320                          70  15.0   \n",
       "2   plymouth       plymouth satellite                         70  18.0   \n",
       "3   amc            amc rebel sst                              70  16.0   \n",
       "4   ford           ford torino                                70  17.0   \n",
       "..            ...                                ...         ...   ...   \n",
       "95  ford           ford mustang gl                            82  27.0   \n",
       "96  volkswagen     volkswagen pickup                          82  44.0   \n",
       "97  dodge          dodge rampage                              82  32.0   \n",
       "98  ford           ford ranger                                82  28.0   \n",
       "99  chevrolet      chevrolet s-10                             82  31.0   \n",
       "\n",
       "     Origin  Weight  \n",
       "0   USA        3504  \n",
       "1   USA        3693  \n",
       "2   USA        3436  \n",
       "3   USA        3433  \n",
       "4   USA        3449  \n",
       "..      ...     ...  \n",
       "95  USA        2790  \n",
       "96  Germany    2130  \n",
       "97  USA        2295  \n",
       "98  USA        2625  \n",
       "99  USA        2720  \n",
       "\n",
       "[100 rows x 11 columns]"
      ]
     },
     "execution_count": 138,
     "metadata": {},
     "output_type": "execute_result"
    }
   ],
   "source": [
    "autompg  #prints the data"
   ]
  },
  {
   "cell_type": "code",
   "execution_count": 4,
   "metadata": {},
   "outputs": [
    {
     "data": {
      "text/plain": [
       "pandas.core.frame.DataFrame"
      ]
     },
     "execution_count": 4,
     "metadata": {},
     "output_type": "execute_result"
    }
   ],
   "source": [
    "type(autompg)"
   ]
  },
  {
   "cell_type": "code",
   "execution_count": 140,
   "metadata": {},
   "outputs": [
    {
     "data": {
      "text/html": [
       "<div>\n",
       "<table border=\"1\" class=\"dataframe\">\n",
       "  <thead>\n",
       "    <tr style=\"text-align: right;\">\n",
       "      <th></th>\n",
       "      <th>Unnamed: 0</th>\n",
       "      <th>Acceleration</th>\n",
       "      <th>Cylinders</th>\n",
       "      <th>Displacement</th>\n",
       "      <th>Horsepower</th>\n",
       "      <th>Manufacturer</th>\n",
       "      <th>Model</th>\n",
       "      <th>Model_Year</th>\n",
       "      <th>MPG</th>\n",
       "      <th>Origin</th>\n",
       "      <th>Weight</th>\n",
       "    </tr>\n",
       "  </thead>\n",
       "  <tbody>\n",
       "    <tr>\n",
       "      <th>34</th>\n",
       "      <td>35</td>\n",
       "      <td>18.5</td>\n",
       "      <td>8</td>\n",
       "      <td>304</td>\n",
       "      <td>193</td>\n",
       "      <td>ih</td>\n",
       "      <td>ih 1200d</td>\n",
       "      <td>70</td>\n",
       "      <td>9.0</td>\n",
       "      <td>USA</td>\n",
       "      <td>4732</td>\n",
       "    </tr>\n",
       "    <tr>\n",
       "      <th>31</th>\n",
       "      <td>32</td>\n",
       "      <td>14.0</td>\n",
       "      <td>8</td>\n",
       "      <td>360</td>\n",
       "      <td>215</td>\n",
       "      <td>ford</td>\n",
       "      <td>ford f250</td>\n",
       "      <td>70</td>\n",
       "      <td>10.0</td>\n",
       "      <td>USA</td>\n",
       "      <td>4615</td>\n",
       "    </tr>\n",
       "    <tr>\n",
       "      <th>32</th>\n",
       "      <td>33</td>\n",
       "      <td>15.0</td>\n",
       "      <td>8</td>\n",
       "      <td>307</td>\n",
       "      <td>200</td>\n",
       "      <td>chevrolet</td>\n",
       "      <td>chevrolet c20</td>\n",
       "      <td>70</td>\n",
       "      <td>10.0</td>\n",
       "      <td>USA</td>\n",
       "      <td>4376</td>\n",
       "    </tr>\n",
       "    <tr>\n",
       "      <th>33</th>\n",
       "      <td>34</td>\n",
       "      <td>13.5</td>\n",
       "      <td>8</td>\n",
       "      <td>318</td>\n",
       "      <td>210</td>\n",
       "      <td>dodge</td>\n",
       "      <td>dodge d200</td>\n",
       "      <td>70</td>\n",
       "      <td>11.0</td>\n",
       "      <td>USA</td>\n",
       "      <td>4382</td>\n",
       "    </tr>\n",
       "    <tr>\n",
       "      <th>67</th>\n",
       "      <td>68</td>\n",
       "      <td>15.0</td>\n",
       "      <td>8</td>\n",
       "      <td>302</td>\n",
       "      <td>130</td>\n",
       "      <td>ford</td>\n",
       "      <td>ford f108</td>\n",
       "      <td>76</td>\n",
       "      <td>13.0</td>\n",
       "      <td>USA</td>\n",
       "      <td>3870</td>\n",
       "    </tr>\n",
       "    <tr>\n",
       "      <th>...</th>\n",
       "      <td>...</td>\n",
       "      <td>...</td>\n",
       "      <td>...</td>\n",
       "      <td>...</td>\n",
       "      <td>...</td>\n",
       "      <td>...</td>\n",
       "      <td>...</td>\n",
       "      <td>...</td>\n",
       "      <td>...</td>\n",
       "      <td>...</td>\n",
       "      <td>...</td>\n",
       "    </tr>\n",
       "    <tr>\n",
       "      <th>80</th>\n",
       "      <td>81</td>\n",
       "      <td>14.7</td>\n",
       "      <td>4</td>\n",
       "      <td>105</td>\n",
       "      <td>63</td>\n",
       "      <td>plymouth</td>\n",
       "      <td>plymouth horizon miser</td>\n",
       "      <td>82</td>\n",
       "      <td>38.0</td>\n",
       "      <td>USA</td>\n",
       "      <td>2125</td>\n",
       "    </tr>\n",
       "    <tr>\n",
       "      <th>85</th>\n",
       "      <td>86</td>\n",
       "      <td>15.0</td>\n",
       "      <td>4</td>\n",
       "      <td>91</td>\n",
       "      <td>67</td>\n",
       "      <td>honda</td>\n",
       "      <td>honda civic</td>\n",
       "      <td>82</td>\n",
       "      <td>38.0</td>\n",
       "      <td>Japan</td>\n",
       "      <td>1965</td>\n",
       "    </tr>\n",
       "    <tr>\n",
       "      <th>87</th>\n",
       "      <td>88</td>\n",
       "      <td>16.2</td>\n",
       "      <td>4</td>\n",
       "      <td>91</td>\n",
       "      <td>67</td>\n",
       "      <td>datsun</td>\n",
       "      <td>datsun 310 gx</td>\n",
       "      <td>82</td>\n",
       "      <td>38.0</td>\n",
       "      <td>Japan</td>\n",
       "      <td>1995</td>\n",
       "    </tr>\n",
       "    <tr>\n",
       "      <th>89</th>\n",
       "      <td>90</td>\n",
       "      <td>17.0</td>\n",
       "      <td>6</td>\n",
       "      <td>262</td>\n",
       "      <td>85</td>\n",
       "      <td>oldsmobile</td>\n",
       "      <td>oldsmobile cutlass ciera (diesel)</td>\n",
       "      <td>82</td>\n",
       "      <td>38.0</td>\n",
       "      <td>USA</td>\n",
       "      <td>3015</td>\n",
       "    </tr>\n",
       "    <tr>\n",
       "      <th>96</th>\n",
       "      <td>97</td>\n",
       "      <td>24.6</td>\n",
       "      <td>4</td>\n",
       "      <td>97</td>\n",
       "      <td>52</td>\n",
       "      <td>volkswagen</td>\n",
       "      <td>volkswagen pickup</td>\n",
       "      <td>82</td>\n",
       "      <td>44.0</td>\n",
       "      <td>Germany</td>\n",
       "      <td>2130</td>\n",
       "    </tr>\n",
       "  </tbody>\n",
       "</table>\n",
       "<p>100 rows × 11 columns</p>\n",
       "</div>"
      ],
      "text/plain": [
       "    Unnamed: 0  Acceleration  Cylinders  Displacement  Horsepower  \\\n",
       "34          35          18.5          8           304         193   \n",
       "31          32          14.0          8           360         215   \n",
       "32          33          15.0          8           307         200   \n",
       "33          34          13.5          8           318         210   \n",
       "67          68          15.0          8           302         130   \n",
       "..         ...           ...        ...           ...         ...   \n",
       "80          81          14.7          4           105          63   \n",
       "85          86          15.0          4            91          67   \n",
       "87          88          16.2          4            91          67   \n",
       "89          90          17.0          6           262          85   \n",
       "96          97          24.6          4            97          52   \n",
       "\n",
       "     Manufacturer                              Model  Model_Year   MPG  \\\n",
       "34  ih             ih 1200d                                   70   9.0   \n",
       "31  ford           ford f250                                  70  10.0   \n",
       "32  chevrolet      chevrolet c20                              70  10.0   \n",
       "33  dodge          dodge d200                                 70  11.0   \n",
       "67  ford           ford f108                                  76  13.0   \n",
       "..            ...                                ...         ...   ...   \n",
       "80  plymouth       plymouth horizon miser                     82  38.0   \n",
       "85  honda          honda civic                                82  38.0   \n",
       "87  datsun         datsun 310 gx                              82  38.0   \n",
       "89  oldsmobile     oldsmobile cutlass ciera (diesel)          82  38.0   \n",
       "96  volkswagen     volkswagen pickup                          82  44.0   \n",
       "\n",
       "     Origin  Weight  \n",
       "34  USA        4732  \n",
       "31  USA        4615  \n",
       "32  USA        4376  \n",
       "33  USA        4382  \n",
       "67  USA        3870  \n",
       "..      ...     ...  \n",
       "80  USA        2125  \n",
       "85  Japan      1965  \n",
       "87  Japan      1995  \n",
       "89  USA        3015  \n",
       "96  Germany    2130  \n",
       "\n",
       "[100 rows x 11 columns]"
      ]
     },
     "execution_count": 140,
     "metadata": {},
     "output_type": "execute_result"
    }
   ],
   "source": [
    "autompg.sort_values(by='MPG')"
   ]
  },
  {
   "cell_type": "code",
   "execution_count": 141,
   "metadata": {},
   "outputs": [
    {
     "data": {
      "text/html": [
       "<div>\n",
       "<table border=\"1\" class=\"dataframe\">\n",
       "  <thead>\n",
       "    <tr style=\"text-align: right;\">\n",
       "      <th></th>\n",
       "      <th>Unnamed: 0</th>\n",
       "      <th>Acceleration</th>\n",
       "      <th>Cylinders</th>\n",
       "      <th>Displacement</th>\n",
       "      <th>Horsepower</th>\n",
       "      <th>Manufacturer</th>\n",
       "      <th>Model</th>\n",
       "      <th>Model_Year</th>\n",
       "      <th>MPG</th>\n",
       "      <th>Origin</th>\n",
       "      <th>Weight</th>\n",
       "    </tr>\n",
       "  </thead>\n",
       "  <tbody>\n",
       "    <tr>\n",
       "      <th>96</th>\n",
       "      <td>97</td>\n",
       "      <td>24.6</td>\n",
       "      <td>4</td>\n",
       "      <td>97</td>\n",
       "      <td>52</td>\n",
       "      <td>volkswagen</td>\n",
       "      <td>volkswagen pickup</td>\n",
       "      <td>82</td>\n",
       "      <td>44.0</td>\n",
       "      <td>Germany</td>\n",
       "      <td>2130</td>\n",
       "    </tr>\n",
       "    <tr>\n",
       "      <th>89</th>\n",
       "      <td>90</td>\n",
       "      <td>17.0</td>\n",
       "      <td>6</td>\n",
       "      <td>262</td>\n",
       "      <td>85</td>\n",
       "      <td>oldsmobile</td>\n",
       "      <td>oldsmobile cutlass ciera (diesel)</td>\n",
       "      <td>82</td>\n",
       "      <td>38.0</td>\n",
       "      <td>USA</td>\n",
       "      <td>3015</td>\n",
       "    </tr>\n",
       "    <tr>\n",
       "      <th>87</th>\n",
       "      <td>88</td>\n",
       "      <td>16.2</td>\n",
       "      <td>4</td>\n",
       "      <td>91</td>\n",
       "      <td>67</td>\n",
       "      <td>datsun</td>\n",
       "      <td>datsun 310 gx</td>\n",
       "      <td>82</td>\n",
       "      <td>38.0</td>\n",
       "      <td>Japan</td>\n",
       "      <td>1995</td>\n",
       "    </tr>\n",
       "    <tr>\n",
       "      <th>85</th>\n",
       "      <td>86</td>\n",
       "      <td>15.0</td>\n",
       "      <td>4</td>\n",
       "      <td>91</td>\n",
       "      <td>67</td>\n",
       "      <td>honda</td>\n",
       "      <td>honda civic</td>\n",
       "      <td>82</td>\n",
       "      <td>38.0</td>\n",
       "      <td>Japan</td>\n",
       "      <td>1965</td>\n",
       "    </tr>\n",
       "    <tr>\n",
       "      <th>80</th>\n",
       "      <td>81</td>\n",
       "      <td>14.7</td>\n",
       "      <td>4</td>\n",
       "      <td>105</td>\n",
       "      <td>63</td>\n",
       "      <td>plymouth</td>\n",
       "      <td>plymouth horizon miser</td>\n",
       "      <td>82</td>\n",
       "      <td>38.0</td>\n",
       "      <td>USA</td>\n",
       "      <td>2125</td>\n",
       "    </tr>\n",
       "    <tr>\n",
       "      <th>...</th>\n",
       "      <td>...</td>\n",
       "      <td>...</td>\n",
       "      <td>...</td>\n",
       "      <td>...</td>\n",
       "      <td>...</td>\n",
       "      <td>...</td>\n",
       "      <td>...</td>\n",
       "      <td>...</td>\n",
       "      <td>...</td>\n",
       "      <td>...</td>\n",
       "      <td>...</td>\n",
       "    </tr>\n",
       "    <tr>\n",
       "      <th>66</th>\n",
       "      <td>67</td>\n",
       "      <td>12.0</td>\n",
       "      <td>8</td>\n",
       "      <td>350</td>\n",
       "      <td>145</td>\n",
       "      <td>chevrolet</td>\n",
       "      <td>chevrolet c10</td>\n",
       "      <td>76</td>\n",
       "      <td>13.0</td>\n",
       "      <td>USA</td>\n",
       "      <td>4055</td>\n",
       "    </tr>\n",
       "    <tr>\n",
       "      <th>33</th>\n",
       "      <td>34</td>\n",
       "      <td>13.5</td>\n",
       "      <td>8</td>\n",
       "      <td>318</td>\n",
       "      <td>210</td>\n",
       "      <td>dodge</td>\n",
       "      <td>dodge d200</td>\n",
       "      <td>70</td>\n",
       "      <td>11.0</td>\n",
       "      <td>USA</td>\n",
       "      <td>4382</td>\n",
       "    </tr>\n",
       "    <tr>\n",
       "      <th>32</th>\n",
       "      <td>33</td>\n",
       "      <td>15.0</td>\n",
       "      <td>8</td>\n",
       "      <td>307</td>\n",
       "      <td>200</td>\n",
       "      <td>chevrolet</td>\n",
       "      <td>chevrolet c20</td>\n",
       "      <td>70</td>\n",
       "      <td>10.0</td>\n",
       "      <td>USA</td>\n",
       "      <td>4376</td>\n",
       "    </tr>\n",
       "    <tr>\n",
       "      <th>31</th>\n",
       "      <td>32</td>\n",
       "      <td>14.0</td>\n",
       "      <td>8</td>\n",
       "      <td>360</td>\n",
       "      <td>215</td>\n",
       "      <td>ford</td>\n",
       "      <td>ford f250</td>\n",
       "      <td>70</td>\n",
       "      <td>10.0</td>\n",
       "      <td>USA</td>\n",
       "      <td>4615</td>\n",
       "    </tr>\n",
       "    <tr>\n",
       "      <th>34</th>\n",
       "      <td>35</td>\n",
       "      <td>18.5</td>\n",
       "      <td>8</td>\n",
       "      <td>304</td>\n",
       "      <td>193</td>\n",
       "      <td>ih</td>\n",
       "      <td>ih 1200d</td>\n",
       "      <td>70</td>\n",
       "      <td>9.0</td>\n",
       "      <td>USA</td>\n",
       "      <td>4732</td>\n",
       "    </tr>\n",
       "  </tbody>\n",
       "</table>\n",
       "<p>100 rows × 11 columns</p>\n",
       "</div>"
      ],
      "text/plain": [
       "    Unnamed: 0  Acceleration  Cylinders  Displacement  Horsepower  \\\n",
       "96          97          24.6          4            97          52   \n",
       "89          90          17.0          6           262          85   \n",
       "87          88          16.2          4            91          67   \n",
       "85          86          15.0          4            91          67   \n",
       "80          81          14.7          4           105          63   \n",
       "..         ...           ...        ...           ...         ...   \n",
       "66          67          12.0          8           350         145   \n",
       "33          34          13.5          8           318         210   \n",
       "32          33          15.0          8           307         200   \n",
       "31          32          14.0          8           360         215   \n",
       "34          35          18.5          8           304         193   \n",
       "\n",
       "     Manufacturer                              Model  Model_Year   MPG  \\\n",
       "96  volkswagen     volkswagen pickup                          82  44.0   \n",
       "89  oldsmobile     oldsmobile cutlass ciera (diesel)          82  38.0   \n",
       "87  datsun         datsun 310 gx                              82  38.0   \n",
       "85  honda          honda civic                                82  38.0   \n",
       "80  plymouth       plymouth horizon miser                     82  38.0   \n",
       "..            ...                                ...         ...   ...   \n",
       "66  chevrolet      chevrolet c10                              76  13.0   \n",
       "33  dodge          dodge d200                                 70  11.0   \n",
       "32  chevrolet      chevrolet c20                              70  10.0   \n",
       "31  ford           ford f250                                  70  10.0   \n",
       "34  ih             ih 1200d                                   70   9.0   \n",
       "\n",
       "     Origin  Weight  \n",
       "96  Germany    2130  \n",
       "89  USA        3015  \n",
       "87  Japan      1995  \n",
       "85  Japan      1965  \n",
       "80  USA        2125  \n",
       "..      ...     ...  \n",
       "66  USA        4055  \n",
       "33  USA        4382  \n",
       "32  USA        4376  \n",
       "31  USA        4615  \n",
       "34  USA        4732  \n",
       "\n",
       "[100 rows x 11 columns]"
      ]
     },
     "execution_count": 141,
     "metadata": {},
     "output_type": "execute_result"
    }
   ],
   "source": [
    "autompg.sort_values(by='MPG',ascending=False) # ascending descending"
   ]
  },
  {
   "cell_type": "code",
   "execution_count": 5,
   "metadata": {},
   "outputs": [
    {
     "data": {
      "text/html": [
       "<div>\n",
       "<style>\n",
       "    .dataframe thead tr:only-child th {\n",
       "        text-align: right;\n",
       "    }\n",
       "\n",
       "    .dataframe thead th {\n",
       "        text-align: left;\n",
       "    }\n",
       "\n",
       "    .dataframe tbody tr th {\n",
       "        vertical-align: top;\n",
       "    }\n",
       "</style>\n",
       "<table border=\"1\" class=\"dataframe\">\n",
       "  <thead>\n",
       "    <tr style=\"text-align: right;\">\n",
       "      <th></th>\n",
       "      <th>Acceleration</th>\n",
       "      <th>Cylinders</th>\n",
       "      <th>Displacement</th>\n",
       "      <th>Horsepower</th>\n",
       "      <th>MPG</th>\n",
       "    </tr>\n",
       "  </thead>\n",
       "  <tbody>\n",
       "    <tr>\n",
       "      <th>0</th>\n",
       "      <td>12.0</td>\n",
       "      <td>8</td>\n",
       "      <td>307</td>\n",
       "      <td>130</td>\n",
       "      <td>18.0</td>\n",
       "    </tr>\n",
       "    <tr>\n",
       "      <th>1</th>\n",
       "      <td>11.5</td>\n",
       "      <td>8</td>\n",
       "      <td>350</td>\n",
       "      <td>165</td>\n",
       "      <td>15.0</td>\n",
       "    </tr>\n",
       "    <tr>\n",
       "      <th>2</th>\n",
       "      <td>11.0</td>\n",
       "      <td>8</td>\n",
       "      <td>318</td>\n",
       "      <td>150</td>\n",
       "      <td>18.0</td>\n",
       "    </tr>\n",
       "    <tr>\n",
       "      <th>3</th>\n",
       "      <td>12.0</td>\n",
       "      <td>8</td>\n",
       "      <td>304</td>\n",
       "      <td>150</td>\n",
       "      <td>16.0</td>\n",
       "    </tr>\n",
       "    <tr>\n",
       "      <th>4</th>\n",
       "      <td>10.5</td>\n",
       "      <td>8</td>\n",
       "      <td>302</td>\n",
       "      <td>140</td>\n",
       "      <td>17.0</td>\n",
       "    </tr>\n",
       "    <tr>\n",
       "      <th>...</th>\n",
       "      <td>...</td>\n",
       "      <td>...</td>\n",
       "      <td>...</td>\n",
       "      <td>...</td>\n",
       "      <td>...</td>\n",
       "    </tr>\n",
       "    <tr>\n",
       "      <th>95</th>\n",
       "      <td>15.6</td>\n",
       "      <td>4</td>\n",
       "      <td>140</td>\n",
       "      <td>86</td>\n",
       "      <td>27.0</td>\n",
       "    </tr>\n",
       "    <tr>\n",
       "      <th>96</th>\n",
       "      <td>24.6</td>\n",
       "      <td>4</td>\n",
       "      <td>97</td>\n",
       "      <td>52</td>\n",
       "      <td>44.0</td>\n",
       "    </tr>\n",
       "    <tr>\n",
       "      <th>97</th>\n",
       "      <td>11.6</td>\n",
       "      <td>4</td>\n",
       "      <td>135</td>\n",
       "      <td>84</td>\n",
       "      <td>32.0</td>\n",
       "    </tr>\n",
       "    <tr>\n",
       "      <th>98</th>\n",
       "      <td>18.6</td>\n",
       "      <td>4</td>\n",
       "      <td>120</td>\n",
       "      <td>79</td>\n",
       "      <td>28.0</td>\n",
       "    </tr>\n",
       "    <tr>\n",
       "      <th>99</th>\n",
       "      <td>19.4</td>\n",
       "      <td>4</td>\n",
       "      <td>119</td>\n",
       "      <td>82</td>\n",
       "      <td>31.0</td>\n",
       "    </tr>\n",
       "  </tbody>\n",
       "</table>\n",
       "<p>100 rows × 5 columns</p>\n",
       "</div>"
      ],
      "text/plain": [
       "    Acceleration  Cylinders  Displacement  Horsepower   MPG\n",
       "0           12.0          8           307         130  18.0\n",
       "1           11.5          8           350         165  15.0\n",
       "2           11.0          8           318         150  18.0\n",
       "3           12.0          8           304         150  16.0\n",
       "4           10.5          8           302         140  17.0\n",
       "..           ...        ...           ...         ...   ...\n",
       "95          15.6          4           140          86  27.0\n",
       "96          24.6          4            97          52  44.0\n",
       "97          11.6          4           135          84  32.0\n",
       "98          18.6          4           120          79  28.0\n",
       "99          19.4          4           119          82  31.0\n",
       "\n",
       "[100 rows x 5 columns]"
      ]
     },
     "execution_count": 5,
     "metadata": {},
     "output_type": "execute_result"
    }
   ],
   "source": [
    "attributes = ['Acceleration', 'Cylinders', 'Displacement', 'Horsepower','MPG']  # allows us to pick a few columns, not the whole set\n",
    "autompg[attributes]"
   ]
  },
  {
   "cell_type": "code",
   "execution_count": 5,
   "metadata": {},
   "outputs": [
    {
     "data": {
      "image/png": "[encoded data removed]",
      "text/plain": [
       "<matplotlib.figure.Figure at 0xaf31748>"
      ]
     },
     "metadata": {},
     "output_type": "display_data"
    }
   ],
   "source": [
    "attributes =['Acceleration', 'Cylinders', 'Displacement', 'Horsepower','MPG']\n",
    "scatter_matrix(autompg[attributes], figsize=(12,8))\n",
    "plt.show()     "
   ]
  },
  {
   "cell_type": "markdown",
   "metadata": {},
   "source": [
    "On the diagonal of the scatter matrix we see (statistical) distributions of values in respective column. The off diagonal plots present values in the row atribute as a function of values in the column attribute. Those off diagonal plots coupled with covariance matrices for ecah par of variables (attributes) tell us about mutual correlation between two variable (attributes). For example, Displacement and Horsepower are positively correlated. splacement and MPG are negatively correlated. A broad cloud means little correlation beween two variables."
   ]
  },
  {
   "cell_type": "code",
   "execution_count": 146,
   "metadata": {
    "collapsed": true
   },
   "outputs": [],
   "source": [
    "autompg['make'] = pd.Series((n.split()[0] for n in autompg.Manufacturer), \n",
    "                            index=autompg.index)"
   ]
  },
  {
   "cell_type": "code",
   "execution_count": 147,
   "metadata": {},
   "outputs": [
    {
     "data": {
      "text/html": [
       "<div>\n",
       "<table border=\"1\" class=\"dataframe\">\n",
       "  <thead>\n",
       "    <tr style=\"text-align: right;\">\n",
       "      <th></th>\n",
       "      <th>Unnamed: 0</th>\n",
       "      <th>Acceleration</th>\n",
       "      <th>Cylinders</th>\n",
       "      <th>Displacement</th>\n",
       "      <th>Horsepower</th>\n",
       "      <th>Manufacturer</th>\n",
       "      <th>Model</th>\n",
       "      <th>Model_Year</th>\n",
       "      <th>MPG</th>\n",
       "      <th>Origin</th>\n",
       "      <th>Weight</th>\n",
       "      <th>make</th>\n",
       "    </tr>\n",
       "  </thead>\n",
       "  <tbody>\n",
       "    <tr>\n",
       "      <th>0</th>\n",
       "      <td>1</td>\n",
       "      <td>12.0</td>\n",
       "      <td>8</td>\n",
       "      <td>307</td>\n",
       "      <td>130</td>\n",
       "      <td>chevrolet</td>\n",
       "      <td>chevrolet chevelle malibu</td>\n",
       "      <td>70</td>\n",
       "      <td>18.0</td>\n",
       "      <td>USA</td>\n",
       "      <td>3504</td>\n",
       "      <td>chevrolet</td>\n",
       "    </tr>\n",
       "    <tr>\n",
       "      <th>1</th>\n",
       "      <td>2</td>\n",
       "      <td>11.5</td>\n",
       "      <td>8</td>\n",
       "      <td>350</td>\n",
       "      <td>165</td>\n",
       "      <td>buick</td>\n",
       "      <td>buick skylark 320</td>\n",
       "      <td>70</td>\n",
       "      <td>15.0</td>\n",
       "      <td>USA</td>\n",
       "      <td>3693</td>\n",
       "      <td>buick</td>\n",
       "    </tr>\n",
       "    <tr>\n",
       "      <th>2</th>\n",
       "      <td>3</td>\n",
       "      <td>11.0</td>\n",
       "      <td>8</td>\n",
       "      <td>318</td>\n",
       "      <td>150</td>\n",
       "      <td>plymouth</td>\n",
       "      <td>plymouth satellite</td>\n",
       "      <td>70</td>\n",
       "      <td>18.0</td>\n",
       "      <td>USA</td>\n",
       "      <td>3436</td>\n",
       "      <td>plymouth</td>\n",
       "    </tr>\n",
       "    <tr>\n",
       "      <th>3</th>\n",
       "      <td>4</td>\n",
       "      <td>12.0</td>\n",
       "      <td>8</td>\n",
       "      <td>304</td>\n",
       "      <td>150</td>\n",
       "      <td>amc</td>\n",
       "      <td>amc rebel sst</td>\n",
       "      <td>70</td>\n",
       "      <td>16.0</td>\n",
       "      <td>USA</td>\n",
       "      <td>3433</td>\n",
       "      <td>amc</td>\n",
       "    </tr>\n",
       "    <tr>\n",
       "      <th>4</th>\n",
       "      <td>5</td>\n",
       "      <td>10.5</td>\n",
       "      <td>8</td>\n",
       "      <td>302</td>\n",
       "      <td>140</td>\n",
       "      <td>ford</td>\n",
       "      <td>ford torino</td>\n",
       "      <td>70</td>\n",
       "      <td>17.0</td>\n",
       "      <td>USA</td>\n",
       "      <td>3449</td>\n",
       "      <td>ford</td>\n",
       "    </tr>\n",
       "    <tr>\n",
       "      <th>...</th>\n",
       "      <td>...</td>\n",
       "      <td>...</td>\n",
       "      <td>...</td>\n",
       "      <td>...</td>\n",
       "      <td>...</td>\n",
       "      <td>...</td>\n",
       "      <td>...</td>\n",
       "      <td>...</td>\n",
       "      <td>...</td>\n",
       "      <td>...</td>\n",
       "      <td>...</td>\n",
       "      <td>...</td>\n",
       "    </tr>\n",
       "    <tr>\n",
       "      <th>95</th>\n",
       "      <td>96</td>\n",
       "      <td>15.6</td>\n",
       "      <td>4</td>\n",
       "      <td>140</td>\n",
       "      <td>86</td>\n",
       "      <td>ford</td>\n",
       "      <td>ford mustang gl</td>\n",
       "      <td>82</td>\n",
       "      <td>27.0</td>\n",
       "      <td>USA</td>\n",
       "      <td>2790</td>\n",
       "      <td>ford</td>\n",
       "    </tr>\n",
       "    <tr>\n",
       "      <th>96</th>\n",
       "      <td>97</td>\n",
       "      <td>24.6</td>\n",
       "      <td>4</td>\n",
       "      <td>97</td>\n",
       "      <td>52</td>\n",
       "      <td>volkswagen</td>\n",
       "      <td>volkswagen pickup</td>\n",
       "      <td>82</td>\n",
       "      <td>44.0</td>\n",
       "      <td>Germany</td>\n",
       "      <td>2130</td>\n",
       "      <td>volkswagen</td>\n",
       "    </tr>\n",
       "    <tr>\n",
       "      <th>97</th>\n",
       "      <td>98</td>\n",
       "      <td>11.6</td>\n",
       "      <td>4</td>\n",
       "      <td>135</td>\n",
       "      <td>84</td>\n",
       "      <td>dodge</td>\n",
       "      <td>dodge rampage</td>\n",
       "      <td>82</td>\n",
       "      <td>32.0</td>\n",
       "      <td>USA</td>\n",
       "      <td>2295</td>\n",
       "      <td>dodge</td>\n",
       "    </tr>\n",
       "    <tr>\n",
       "      <th>98</th>\n",
       "      <td>99</td>\n",
       "      <td>18.6</td>\n",
       "      <td>4</td>\n",
       "      <td>120</td>\n",
       "      <td>79</td>\n",
       "      <td>ford</td>\n",
       "      <td>ford ranger</td>\n",
       "      <td>82</td>\n",
       "      <td>28.0</td>\n",
       "      <td>USA</td>\n",
       "      <td>2625</td>\n",
       "      <td>ford</td>\n",
       "    </tr>\n",
       "    <tr>\n",
       "      <th>99</th>\n",
       "      <td>100</td>\n",
       "      <td>19.4</td>\n",
       "      <td>4</td>\n",
       "      <td>119</td>\n",
       "      <td>82</td>\n",
       "      <td>chevrolet</td>\n",
       "      <td>chevrolet s-10</td>\n",
       "      <td>82</td>\n",
       "      <td>31.0</td>\n",
       "      <td>USA</td>\n",
       "      <td>2720</td>\n",
       "      <td>chevrolet</td>\n",
       "    </tr>\n",
       "  </tbody>\n",
       "</table>\n",
       "<p>100 rows × 12 columns</p>\n",
       "</div>"
      ],
      "text/plain": [
       "    Unnamed: 0  Acceleration  Cylinders  Displacement  Horsepower  \\\n",
       "0            1          12.0          8           307         130   \n",
       "1            2          11.5          8           350         165   \n",
       "2            3          11.0          8           318         150   \n",
       "3            4          12.0          8           304         150   \n",
       "4            5          10.5          8           302         140   \n",
       "..         ...           ...        ...           ...         ...   \n",
       "95          96          15.6          4           140          86   \n",
       "96          97          24.6          4            97          52   \n",
       "97          98          11.6          4           135          84   \n",
       "98          99          18.6          4           120          79   \n",
       "99         100          19.4          4           119          82   \n",
       "\n",
       "     Manufacturer                              Model  Model_Year   MPG  \\\n",
       "0   chevrolet      chevrolet chevelle malibu                  70  18.0   \n",
       "1   buick          buick skylark 320                          70  15.0   \n",
       "2   plymouth       plymouth satellite                         70  18.0   \n",
       "3   amc            amc rebel sst                              70  16.0   \n",
       "4   ford           ford torino                                70  17.0   \n",
       "..            ...                                ...         ...   ...   \n",
       "95  ford           ford mustang gl                            82  27.0   \n",
       "96  volkswagen     volkswagen pickup                          82  44.0   \n",
       "97  dodge          dodge rampage                              82  32.0   \n",
       "98  ford           ford ranger                                82  28.0   \n",
       "99  chevrolet      chevrolet s-10                             82  31.0   \n",
       "\n",
       "     Origin  Weight        make  \n",
       "0   USA        3504   chevrolet  \n",
       "1   USA        3693       buick  \n",
       "2   USA        3436    plymouth  \n",
       "3   USA        3433         amc  \n",
       "4   USA        3449        ford  \n",
       "..      ...     ...         ...  \n",
       "95  USA        2790        ford  \n",
       "96  Germany    2130  volkswagen  \n",
       "97  USA        2295       dodge  \n",
       "98  USA        2625        ford  \n",
       "99  USA        2720   chevrolet  \n",
       "\n",
       "[100 rows x 12 columns]"
      ]
     },
     "execution_count": 147,
     "metadata": {},
     "output_type": "execute_result"
    }
   ],
   "source": [
    "autompg"
   ]
  },
  {
   "cell_type": "code",
   "execution_count": 148,
   "metadata": {},
   "outputs": [
    {
     "data": {
      "text/plain": [
       "['amc',\n",
       " 'audi',\n",
       " 'bmw',\n",
       " 'buick',\n",
       " 'cadillac',\n",
       " 'chevrolet',\n",
       " 'chrysler',\n",
       " 'citroen',\n",
       " 'datsun',\n",
       " 'dodge',\n",
       " 'fiat',\n",
       " 'ford',\n",
       " 'honda',\n",
       " 'ih',\n",
       " 'mazda',\n",
       " 'mercedes-benz',\n",
       " 'mercury',\n",
       " 'nissan',\n",
       " 'oldsmobile',\n",
       " 'opel',\n",
       " 'peugeot',\n",
       " 'plymouth',\n",
       " 'pontiac',\n",
       " 'renault',\n",
       " 'saab',\n",
       " 'toyota',\n",
       " 'volkswagen',\n",
       " 'volvo']"
      ]
     },
     "execution_count": 148,
     "metadata": {},
     "output_type": "execute_result"
    }
   ],
   "source": [
    "sorted(autompg.make.unique())"
   ]
  },
  {
   "cell_type": "code",
   "execution_count": 149,
   "metadata": {},
   "outputs": [
    {
     "data": {
      "text/plain": [
       "[1,\n",
       " 1,\n",
       " 1,\n",
       " 1,\n",
       " 1,\n",
       " 1,\n",
       " 1,\n",
       " 1,\n",
       " 1,\n",
       " 1,\n",
       " 1,\n",
       " 1,\n",
       " 1,\n",
       " 1,\n",
       " 1,\n",
       " 2,\n",
       " 2,\n",
       " 3,\n",
       " 3,\n",
       " 4,\n",
       " 4,\n",
       " 5,\n",
       " 5,\n",
       " 8,\n",
       " 9,\n",
       " 9,\n",
       " 15,\n",
       " 16]"
      ]
     },
     "execution_count": 149,
     "metadata": {},
     "output_type": "execute_result"
    }
   ],
   "source": [
    "sorted(autompg.make.value_counts())"
   ]
  },
  {
   "cell_type": "markdown",
   "metadata": {},
   "source": [
    "Several makes have spelling errors or inconsistencies. Pandas can help us fix those in place:"
   ]
  },
  {
   "cell_type": "code",
   "execution_count": 150,
   "metadata": {
    "collapsed": true
   },
   "outputs": [],
   "source": [
    "autompg.loc[autompg.make == 'chevroelt', 'make'] = 'chevrolet'\n",
    "autompg.loc[autompg.make == 'chevy',     'make'] = 'chevrolet'\n",
    "autompg.loc[autompg.make == 'maxda',     'make'] = 'mazda'\n",
    "autompg.loc[autompg.make == 'mercedes',  'make'] = 'mercedes-benz'\n",
    "autompg.loc[autompg.make == 'toyouta',   'make'] = 'toyota'\n",
    "autompg.loc[autompg.make == 'vokswagen', 'make'] = 'volkswagen'\n",
    "autompg.loc[autompg.make == 'vw',        'make'] = 'volkswagen'"
   ]
  },
  {
   "cell_type": "code",
   "execution_count": 153,
   "metadata": {},
   "outputs": [
    {
     "data": {
      "text/plain": [
       "['amc',\n",
       " 'audi',\n",
       " 'bmw',\n",
       " 'buick',\n",
       " 'cadillac',\n",
       " 'chevrolet',\n",
       " 'chrysler',\n",
       " 'citroen',\n",
       " 'datsun',\n",
       " 'dodge',\n",
       " 'fiat',\n",
       " 'ford',\n",
       " 'honda',\n",
       " 'ih',\n",
       " 'mazda',\n",
       " 'mercedes-benz',\n",
       " 'mercury',\n",
       " 'nissan',\n",
       " 'oldsmobile',\n",
       " 'opel',\n",
       " 'peugeot',\n",
       " 'plymouth',\n",
       " 'pontiac',\n",
       " 'renault',\n",
       " 'saab',\n",
       " 'toyota',\n",
       " 'volkswagen',\n",
       " 'volvo']"
      ]
     },
     "execution_count": 153,
     "metadata": {},
     "output_type": "execute_result"
    }
   ],
   "source": [
    "sorted(autompg.make.unique())"
   ]
  },
  {
   "cell_type": "code",
   "execution_count": 154,
   "metadata": {},
   "outputs": [
    {
     "name": "stdout",
     "output_type": "stream",
     "text": [
      "make\n",
      "amc               9\n",
      "audi              1\n",
      "bmw               1\n",
      "buick             3\n",
      "cadillac          1\n",
      "chevrolet        15\n",
      "chrysler          1\n",
      "citroen           1\n",
      "datsun            3\n",
      "dodge             9\n",
      "fiat              1\n",
      "ford             16\n",
      "honda             4\n",
      "ih                1\n",
      "mazda             2\n",
      "mercedes-benz     1\n",
      "mercury           1\n",
      "nissan            1\n",
      "oldsmobile        1\n",
      "opel              1\n",
      "peugeot           2\n",
      "plymouth          8\n",
      "pontiac           4\n",
      "renault           1\n",
      "saab              1\n",
      "toyota            5\n",
      "volkswagen        5\n",
      "volvo             1\n",
      "dtype: int64\n"
     ]
    }
   ],
   "source": [
    "with pd.option_context('display.max_rows', 999):\n",
    "    print(autompg.groupby('make').size())"
   ]
  },
  {
   "cell_type": "markdown",
   "metadata": {},
   "source": [
    "## Example 2: Heat Map Representation of Correlations Between Variables\n",
    "### Pearson Correlations\n",
    "\n",
    "Seaborn is another popular Graphics Library like Matplotlib. We will demonstrate its heat-map functions"
   ]
  },
  {
   "cell_type": "code",
   "execution_count": 155,
   "metadata": {},
   "outputs": [
    {
     "name": "stdout",
     "output_type": "stream",
     "text": [
      "['Acceleration' 'Cylinders' 'Displacement' 'Horsepower' 'MPG']\n"
     ]
    },
    {
     "data": {
      "image/png": "[encoded data removed]",
      "text/plain": [
       "<matplotlib.figure.Figure at 0x10364240>"
      ]
     },
     "metadata": {},
     "output_type": "display_data"
    }
   ],
   "source": [
    "import seaborn as sns\n",
    "import matplotlib.pyplot as plt\n",
    "import pandas as pd\n",
    "sns.set(context=\"paper\", font=\"monospace\")\n",
    "#sns.palplot(sns.color_palette(\"hls\",4))\n",
    "\n",
    "small_auto = autompg[attributes]\n",
    "#no_rows = len(small_auto.index)\n",
    "#no_columns = len(small_auto.columns)\n",
    "#print(\"number of rows \",no_rows)\n",
    "#print(\"number of columns \", no_columns)\n",
    "print( small_auto.columns.values)\n",
    "\n",
    "corrmat = small_auto.corr(method='pearson')\n",
    "\n",
    "# Set up the matplotlib figure\n",
    "f, ax = plt.subplots(figsize=(12, 9))\n",
    "\n",
    "# Draw the heatmap using seaborn\n",
    "sns.heatmap(corrmat,center=0, cmap=\"YlGnBu\")\n",
    "plt.show()"
   ]
  },
  {
   "cell_type": "markdown",
   "metadata": {},
   "source": [
    "Positively correlated attributes intersect at dark blue squares. Negatively correlated attributes intersect and off-white squares."
   ]
  },
  {
   "cell_type": "markdown",
   "metadata": {},
   "source": [
    "The above Heat-map actually represents well known statistical measures known as Pearson Correlation Coefficients. The text below is from Wikipedia.org."
   ]
  },
  {
   "cell_type": "markdown",
   "metadata": {},
   "source": [
    "Pearson's correlation coefficient when applied to a population is commonly represented by the Greek letter ρ (rho) and may be referred to as the population correlation coefficient or the population Pearson correlation coefficient. The formula for ρ[5] is:\n",
    "{\\displaystyle \\rho _{X,Y}={\\frac {\\operatorname {cov} (X,Y)}{\\sigma _{X}\\sigma _{Y}}}} \\rho _{X,Y}={\\frac {\\operatorname {cov} (X,Y)}{\\sigma _{X}\\sigma _{Y}}}\n",
    "where:\n",
    "{\\displaystyle \\operatorname {cov} } \\operatorname {cov}  is the covariance\n",
    "{\\displaystyle \\sigma _{X}} \\sigma _{X} is the standard deviation of {\\displaystyle X} X\n",
    "{\\displaystyle \\sigma _{Y}}  \\sigma_Y  is the standard deviation of {\\displaystyle Y} Y\n",
    "The formula for ρ can be expressed in terms of mean and expectation. Since\n",
    "{\\displaystyle \\operatorname {cov} (X,Y)=\\operatorname {E} [(X-\\mu _{X})(Y-\\mu _{Y})],} {\\displaystyle \\operatorname {cov} (X,Y)=\\operatorname {E} [(X-\\mu _{X})(Y-\\mu _{Y})],}[5]\n",
    "the formula for ρ can also be written as\n",
    "{\\displaystyle \\rho _{X,Y}={\\frac {\\operatorname {E} [(X-\\mu _{X})(Y-\\mu _{Y})]}{\\sigma _{X}\\sigma _{Y}}}} \\rho _{X,Y}={\\frac {\\operatorname {E} [(X-\\mu _{X})(Y-\\mu _{Y})]}{\\sigma _{X}\\sigma _{Y}}}\n",
    "where:\n",
    "{\\displaystyle \\operatorname {cov} } \\operatorname {cov}  and {\\displaystyle \\sigma _{X}} \\sigma _{X} are defined as above\n",
    "{\\displaystyle \\mu _{X}} \\mu _{X} is the mean of {\\displaystyle X} X\n",
    "{\\displaystyle \\operatorname {E} } \\operatorname {E}  is the expectation."
   ]
  },
  {
   "cell_type": "markdown",
   "metadata": {
    "collapsed": true
   },
   "source": [
    "## Example 3: Solar wind measurement\n",
    "\n",
    "### Nonlinear fit\n",
    "\n",
    "Uses the Levenberg-Marquadt nonlinear fit to extract model parameters from the electrostatic analyzer of the WIND spacecraft"
   ]
  },
  {
   "cell_type": "markdown",
   "metadata": {},
   "source": [
    "Levenberg-Marquardt, nonlinear least squares fit, is a popular alternative to the Gauss-Newton method of finding the minimum of a function $F(x)$ that is a sum of squares of nonlinear functions,\n",
    "\n",
    "$$ F(x)=\\frac{1}{2}\\sum_{i=1}^m[f_i(x)]^2.$$ \n",
    "Let the Jacobian of $f_i(x)$ be denoted  $J_i(x)$, then the Levenberg-Marquardt method searches in the direction given by the solution $p$ to the equations\n",
    "\n",
    "$$(J_k^T J_k+\\lambda_kI)p_k=-J_k^Tf_k, $$\n",
    "\n",
    "where $\\lambda_k$ are nonnegative scalars and $I$ is the identity matrix. In python it is defined as:\n"
   ]
  },
  {
   "cell_type": "code",
   "execution_count": null,
   "metadata": {
    "collapsed": true
   },
   "outputs": [],
   "source": [
    "scipy.optimize.curve_fit"
   ]
  },
  {
   "cell_type": "markdown",
   "metadata": {},
   "source": [
    "### WIND spacecraft and electrostatic\n",
    "\n",
    "WIND is a spacecraft launched by NASA in 2004 and is still operational. It's purpose was to study radio waves and plasma physics that occur in the solar wind and the Earth's magnetosphere. An electrostatic analyzers (ESA) are shaped like tophats that sample charged particles in the plane in the azimuthal direction with respect to the symmetry axis. The natural rotation of the spacecraft allows the solar wind to be samples in almost all directions. The ESA also sweeps an electric field between the two semispherical plates to sample charged particles at different energy levels. In the following example it samples 14 energy levels (3eV to 1keV) in 25 different directions with a 3 ms samples period with angular resolution of $5.6^\\circ$ within a $\\pm22.5^\\circ$ fan of the ecliptic plane. Coupled with the magnetic field readins, a lot of data to process. The effective measured quantity is the velocity distribution function $f_j({\\bf u})$, which effective gives the particle count at a specific velocity (energy level). Here we will be studying data from the PESA-Low ESA, which measures the properties of positively charges particles in the solar wind (generally just protons(hydrogen), $H^+$, and occasionaly alphas (helium), $\\alpha, He^{2+}$. "
   ]
  },
  {
   "cell_type": "markdown",
   "metadata": {},
   "source": [
    " <tr>\n",
    "    <td> <img src=\"http://clasp.engin.umich.edu/img/research/wind-spacecraft.jpg\" alt=\"Drawing\" style=\"width: 400px;\"/> </td>\n",
    "    <td> <img src=\"http://www-pi.physics.uiowa.edu/pls/pls_description/figure5.gif\" alt=\"Drawing\" style=\"width: 400px;\"/> </td>\n",
    "    </tr>"
   ]
  },
  {
   "cell_type": "markdown",
   "metadata": {},
   "source": [
    "Use the scipy package to process the data, where we a fitting the following two models of the solar wind,\n",
    "\n",
    "Tri-Maxwellian:\n",
    "\n",
    "$$ f_k^{(b)}({\\bf u}) = \\frac{n_j}{ (2\\pi)^{3/2}w_x w_y  w_z} \\exp\\left( -\\frac{|u_x-v_{x,j}|^2}{2w_x^2} -\\frac{|u_y-v_{y,j}|^2}{2w_y^2} -\\frac{|u_z-v_{z,j}|^2}{2w_z^2}  \\right)$$\n",
    "\n",
    "Bi-Maxwellian (w.r.t to magnetic field $B$):\n",
    "\n",
    "$$ f_k^{(b)}({\\bf u}) = \\frac{n_j}{ (2\\pi)^{3/2}w_\\perp^2 w_\\parallel} \\exp\\left( -\\frac{|{\\bf u_\\parallel-v_{\\parallel,j}}|^2}{2w_\\parallel^2} -\\frac{|{\\bf u_\\perp-v_{\\perp,j}}|^2}{2w_\\perp^2}  \\right)$$\n",
    "\n",
    "where ${\\bf u} = (u_x,u_y,u_z)$, ${\\bf u}_\\parallel = {\\bf (u\\cdot B)B}$ and ${\\bf u}_\\perp = {\\bf u- u_\\parallel = u\\times B}$, where $\\bf B$ is measured by a magnetometer on the spacecraft (Magnetic Field Investigation, MFI). Specific parameters can also be extracted numerically from the dataset using moments analysis, i.e.:\n",
    "\n",
    "$$ n_j = \\int_{\\bf u} d^3u \\ f_j({\\bf u}) $$\n",
    "\n",
    "$$ n_j {\\bf v_j} = \\int_{\\bf u} d^3u \\ {\\bf u} \\ f_j({\\bf u}) $$\n",
    "\n",
    "$$ n_j (v_j^2 + 3 w_j^2)= \\int_{\\bf u} d^3u \\ u^2 \\ f_j({\\bf u}) $$\n",
    "\n",
    "where $n_j$ is the particle density, $v_j$ is the bulk velocity, and $w_j$ is the thermal speed."
   ]
  }
 ],
 "metadata": {
  "anaconda-cloud": {},
  "kernelspec": {
   "display_name": "Python 3",
   "language": "python",
   "name": "python3"
  },
  "language_info": {
   "codemirror_mode": {
    "name": "ipython",
    "version": 3
   },
   "file_extension": ".py",
   "mimetype": "text/x-python",
   "name": "python",
   "nbconvert_exporter": "python",
   "pygments_lexer": "ipython3",
   "version": "3.6.1"
  }
 },
 "nbformat": 4,
 "nbformat_minor": 1
}
