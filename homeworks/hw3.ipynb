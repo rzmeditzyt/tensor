{
 "cells": [
  {
   "attachments": {},
   "cell_type": "markdown",
   "metadata": {},
   "source": [
    "Problem 1. \n",
    "===\n",
    "Create a computational graph for the following expression:\n",
    "$$(x*y + z+1/x)* w = f$$\n",
    "Calculate the forward values of all the nodes and function f starting with $x = -1, y = 2, z = 4, w = 5$. Subsequently, determine backward values, and finally the derivatives of  f with respect with x, y, z and w. Please, present your results as a simple graph. You can draw you graph by any means you find convenient, including by hand. Please place forward values above the lines representing propagation of values and backpropagation values (derivatives) below the lines.\n",
    "(25%)"
   ]
  },
  {
   "cell_type": "markdown",
   "metadata": {},
   "source": [
    "![hw3_p1.png](hw3_p1.png)"
   ]
  },
  {
   "attachments": {},
   "cell_type": "markdown",
   "metadata": {},
   "source": [
    "Problem 2. \n",
    "===\n",
    "Create a computational graph for the following expression:\n",
    "$$f =\\frac{x+ \\sigma(y)}{\\sigma(z)+(x+y)^2}$$\n",
    "Where$$\\sigma(q) = \\frac{1}{1+ e^{-q}}$$\n",
    "Calculate forward computational values of all nodes and the derivatives of function f with respect to x,y and z. Please, present your results as a simple graph. Please place forward values above the lines representing propagation of values and backpropagation values (derivatives) below the lines. Perform your calculations manually. \n",
    "As values for x,y,z use (2, -4, 3)\n",
    "(25%)"
   ]
  },
  {
   "attachments": {},
   "cell_type": "markdown",
   "metadata": {},
   "source": [
    "Problem 3. \n",
    "===\n",
    "Please perform calculations in problem 2 using TensorFlow. As you are moving forward, please calculate and store (cash) values of various derivatives you will need for backward calculations. \n",
    "(25%)"
   ]
  },
  {
   "attachments": {},
   "cell_type": "markdown",
   "metadata": {},
   "source": [
    "Problem 4. \n",
    "===\n",
    "Please examine attached Python code for classification of MNIST hand written digits dataset. Please try to find “optimal” values of two hyper parameters: learning_rate and batch_size. Optimal is a vague term. You would like to achieve the best accuracy in the shortest possible time. Please do not sweat it out. \n",
    "(25%)"
   ]
  },
  {
   "cell_type": "code",
   "execution_count": null,
   "metadata": {},
   "outputs": [],
   "source": []
  }
 ],
 "metadata": {
  "kernelspec": {
   "display_name": "Python 3",
   "language": "python",
   "name": "python3"
  },
  "language_info": {
   "codemirror_mode": {
    "name": "ipython",
    "version": 3
   },
   "file_extension": ".py",
   "mimetype": "text/x-python",
   "name": "python",
   "nbconvert_exporter": "python",
   "pygments_lexer": "ipython3",
   "version": "3.6.1"
  }
 },
 "nbformat": 4,
 "nbformat_minor": 2
}
