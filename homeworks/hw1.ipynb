{
 "cells": [
  {
   "cell_type": "markdown",
   "metadata": {},
   "source": [
    "HU Extension            Assignment 01      E-89 Deep Learning\n",
    "===    \t\t                  \t\n",
    "Name: Yuntao Zhang\n",
    " \n",
    "It is recommended that your solution for this assignment is implemented in Python.\n",
    "If you insist, you can submit the solution in the language of your choice.\n"
   ]
  },
  {
   "cell_type": "markdown",
   "metadata": {},
   "source": [
    "Problem 1.\n",
    "===\n",
    "Represent Matrix A as a numpy array:\n",
    "\n",
    "${\\bf A} = \\begin{bmatrix} -2&1&0\\\\1&-2&1\\\\0&1&-2\\\\ \\end{bmatrix}$\n",
    "\n",
    "Find eigenvalues and eigenvectors of this matrix. Demonstrate using numpy operations that matrix product of matrix A and any one of its eigen vectors is collinear with that same eigen vector."
   ]
  },
  {
   "cell_type": "code",
   "execution_count": 341,
   "metadata": {},
   "outputs": [],
   "source": [
    "import numpy as np"
   ]
  },
  {
   "cell_type": "code",
   "execution_count": 342,
   "metadata": {},
   "outputs": [],
   "source": [
    "# Set precision 4 for readability\n",
    "PRECISION = 4\n",
    "np.set_printoptions(precision=PRECISION, suppress=True)"
   ]
  },
  {
   "cell_type": "code",
   "execution_count": 343,
   "metadata": {},
   "outputs": [
    {
     "data": {
      "text/plain": [
       "array([[-2,  1,  0],\n",
       "       [ 1, -2,  1],\n",
       "       [ 0,  1, -2]])"
      ]
     },
     "execution_count": 343,
     "metadata": {},
     "output_type": "execute_result"
    }
   ],
   "source": [
    "# Define A\n",
    "A = np.array([[-2, 1, 0], [1, -2, 1], [0, 1, -2]])\n",
    "A"
   ]
  },
  {
   "cell_type": "code",
   "execution_count": 344,
   "metadata": {},
   "outputs": [],
   "source": [
    "# take eigen values in an array eigen_v \n",
    "#  and eigen matrix eigen_m \n",
    "#  where its column vectors are A's eigen vectors\n",
    "(eigen_v, eigen_m) = np.linalg.eig(A)"
   ]
  },
  {
   "cell_type": "code",
   "execution_count": 345,
   "metadata": {},
   "outputs": [
    {
     "data": {
      "text/plain": [
       "array([[-3.4142],\n",
       "       [-2.    ],\n",
       "       [-0.5858]])"
      ]
     },
     "execution_count": 345,
     "metadata": {},
     "output_type": "execute_result"
    }
   ],
   "source": [
    "# Print vertical for readability\n",
    "#  Each row: an eigen value of A\n",
    "eigen_v.reshape(3, 1)"
   ]
  },
  {
   "cell_type": "code",
   "execution_count": 346,
   "metadata": {},
   "outputs": [
    {
     "data": {
      "text/plain": [
       "array([[ 0.5   ,  0.7071,  0.5   ],\n",
       "       [-0.7071, -0.    ,  0.7071],\n",
       "       [ 0.5   , -0.7071,  0.5   ]])"
      ]
     },
     "execution_count": 346,
     "metadata": {},
     "output_type": "execute_result"
    }
   ],
   "source": [
    "# Eigen vectors are columnar vectors in this matrix\n",
    "eigen_m"
   ]
  },
  {
   "cell_type": "code",
   "execution_count": 347,
   "metadata": {},
   "outputs": [
    {
     "name": "stdout",
     "output_type": "stream",
     "text": [
      "Eigen Vector 0\n",
      "[[ 0.5   ]\n",
      " [-0.7071]\n",
      " [ 0.5   ]]\n",
      "Eigen Vector 1\n",
      "[[ 0.7071]\n",
      " [-0.    ]\n",
      " [-0.7071]]\n",
      "Eigen Vector 2\n",
      "[[0.5   ]\n",
      " [0.7071]\n",
      " [0.5   ]]\n"
     ]
    }
   ],
   "source": [
    "# Eigen vectors printed separately\n",
    "for x in range(0,3):\n",
    "    print(\"Eigen Vector {}\".format(x))\n",
    "    print(eigen_m[:,x].reshape(3, 1))"
   ]
  },
  {
   "cell_type": "code",
   "execution_count": 348,
   "metadata": {},
   "outputs": [
    {
     "name": "stdout",
     "output_type": "stream",
     "text": [
      "Testing for Eigen 0\n",
      "A * eigen_vector = [-1.7071  2.4142 -1.7071]\n",
      "eigen_value * eigen_vector = [-1.7071  2.4142 -1.7071]\n",
      "Testing for Eigen 1\n",
      "A * eigen_vector = [-1.4142  0.      1.4142]\n",
      "eigen_value * eigen_vector = [-1.4142  0.      1.4142]\n",
      "Testing for Eigen 2\n",
      "A * eigen_vector = [-0.2929 -0.4142 -0.2929]\n",
      "eigen_value * eigen_vector = [-0.2929 -0.4142 -0.2929]\n"
     ]
    }
   ],
   "source": [
    "# Validate charactoristics of eigen vector and value\n",
    "#    matrix product of matrix A and any one of its eigen vectors is collinear with that same eigen vector\n",
    "for x in range(0, 3):\n",
    "    # A * Eigen_Vector\n",
    "    A_x_eigen_vector = np.dot(A, eigen_m[:, x])\n",
    "    # Eigen_value * Eigen_Vector\n",
    "    eigen_value_x_eigen_vector = eigen_v[x] * eigen_m[:, x]\n",
    "    print(\"Testing for Eigen {}\".format(x))\n",
    "    print(\"A * eigen_vector = {}\".format(A_x_eigen_vector))\n",
    "    print(\"eigen_value * eigen_vector = {}\".format(eigen_value_x_eigen_vector))\n",
    "    # Expect them to be (almost: due to precision) equal\n",
    "    #  Error when not equal\n",
    "    np.testing.assert_almost_equal(\n",
    "        A_x_eigen_vector, \n",
    "        eigen_value_x_eigen_vector,\n",
    "        decimal=PRECISION,\n",
    "        verbose=True\n",
    "    )"
   ]
  },
  {
   "cell_type": "markdown",
   "metadata": {},
   "source": [
    "Problem 2. \n",
    "===\n",
    "Create a numpy array whose columns are the eigen vectors of above matrix A. Call that E. Calculate, using numpy tools, the matrix products ${E^T AE}$ and ${EAE^T}$\n",
    "\n",
    "What are the characteristic of the resulting matrix."
   ]
  },
  {
   "cell_type": "code",
   "execution_count": 349,
   "metadata": {},
   "outputs": [
    {
     "data": {
      "text/plain": [
       "array([[ 0.5   ,  0.7071,  0.5   ],\n",
       "       [-0.7071, -0.    ,  0.7071],\n",
       "       [ 0.5   , -0.7071,  0.5   ]])"
      ]
     },
     "execution_count": 349,
     "metadata": {},
     "output_type": "execute_result"
    }
   ],
   "source": [
    "# Created numpy array is exactly eigen_m calculated above\n",
    "E = eigen_m\n",
    "E"
   ]
  },
  {
   "cell_type": "code",
   "execution_count": 350,
   "metadata": {},
   "outputs": [
    {
     "data": {
      "text/plain": [
       "array([[-3.4142, -0.    ,  0.    ],\n",
       "       [-0.    , -2.    ,  0.    ],\n",
       "       [ 0.    ,  0.    , -0.5858]])"
      ]
     },
     "execution_count": 350,
     "metadata": {},
     "output_type": "execute_result"
    }
   ],
   "source": [
    "# Transpose(E) * A * E\n",
    "E.transpose().dot(A).dot(E)"
   ]
  },
  {
   "cell_type": "code",
   "execution_count": 351,
   "metadata": {},
   "outputs": [
    {
     "data": {
      "text/plain": [
       "array([-3.4142, -2.    , -0.5858])"
      ]
     },
     "execution_count": 351,
     "metadata": {},
     "output_type": "execute_result"
    }
   ],
   "source": [
    "# Eigen Values\n",
    "eigen_v"
   ]
  },
  {
   "cell_type": "markdown",
   "metadata": {},
   "source": [
    "${E^T AE}$ is a 3x3 matrix with A's eigen values on its diagonal "
   ]
  },
  {
   "cell_type": "code",
   "execution_count": 352,
   "metadata": {},
   "outputs": [
    {
     "data": {
      "text/plain": [
       "array([[-0.5858, -0.    ,  0.    ],\n",
       "       [-0.    , -2.    , -0.    ],\n",
       "       [ 0.    , -0.    , -3.4142]])"
      ]
     },
     "execution_count": 352,
     "metadata": {},
     "output_type": "execute_result"
    }
   ],
   "source": [
    "# E * A * Transpose(E)\n",
    "E.dot(A).dot(E.transpose())"
   ]
  },
  {
   "cell_type": "code",
   "execution_count": 353,
   "metadata": {},
   "outputs": [
    {
     "data": {
      "text/plain": [
       "array([-3.4142, -2.    , -0.5858])"
      ]
     },
     "execution_count": 353,
     "metadata": {},
     "output_type": "execute_result"
    }
   ],
   "source": [
    "# Eigen Values\n",
    "eigen_v"
   ]
  },
  {
   "cell_type": "markdown",
   "metadata": {},
   "source": [
    "${EAE^T}$ is a 3x3 matrix with A's eigen value in reverse order on its diagonal"
   ]
  },
  {
   "cell_type": "markdown",
   "metadata": {},
   "source": [
    "Problem 3. \n",
    "===\n",
    "Consider vector \\[2, -1, 3\\]T. Express that vector as a linear combination of the eigenvectors identified in problem 1."
   ]
  },
  {
   "cell_type": "code",
   "execution_count": 354,
   "metadata": {},
   "outputs": [
    {
     "data": {
      "text/plain": [
       "array([ 2, -1,  3])"
      ]
     },
     "execution_count": 354,
     "metadata": {},
     "output_type": "execute_result"
    }
   ],
   "source": [
    "# Define v\n",
    "v = np.array([2, -1, 3]).transpose()\n",
    "v"
   ]
  },
  {
   "cell_type": "code",
   "execution_count": 355,
   "metadata": {},
   "outputs": [
    {
     "data": {
      "text/plain": [
       "array([ 3.2071, -0.7071,  1.7929])"
      ]
     },
     "execution_count": 355,
     "metadata": {},
     "output_type": "execute_result"
    }
   ],
   "source": [
    "# X = inv(E) * v\n",
    "co = np.linalg.inv(eigen_m).dot(v)\n",
    "co"
   ]
  },
  {
   "cell_type": "code",
   "execution_count": 356,
   "metadata": {},
   "outputs": [
    {
     "data": {
      "text/plain": [
       "array([ 2., -1.,  3.])"
      ]
     },
     "execution_count": 356,
     "metadata": {},
     "output_type": "execute_result"
    }
   ],
   "source": [
    "# Prove linear combination of eigenvectors co forms v\n",
    "#  i.e. v = co1 * e1 + co2 * e2 + co3 * e3\n",
    "v_cal = np.array([0, 0, 0])\n",
    "for x in range(0, 3):\n",
    "    v_cal = v_cal + co[x] * eigen_m[:,x]\n",
    "v_cal"
   ]
  },
  {
   "cell_type": "code",
   "execution_count": 357,
   "metadata": {},
   "outputs": [],
   "source": [
    "# Test equality, error when not equal\n",
    "np.testing.assert_almost_equal(\n",
    "        v, \n",
    "        v_cal,\n",
    "        decimal=PRECISION,\n",
    "        verbose=True\n",
    "    )"
   ]
  },
  {
   "cell_type": "markdown",
   "metadata": {},
   "source": [
    "Problem 4. \n",
    "===\n",
    "Calculate, using numpy tools,  matrix B which is the inverse of matrix A from problem 1. Demonstrate that matrix products AB and BA are both very close to the identity  matrix."
   ]
  },
  {
   "cell_type": "code",
   "execution_count": 358,
   "metadata": {},
   "outputs": [
    {
     "data": {
      "text/plain": [
       "array([[-0.75, -0.5 , -0.25],\n",
       "       [-0.5 , -1.  , -0.5 ],\n",
       "       [-0.25, -0.5 , -0.75]])"
      ]
     },
     "execution_count": 358,
     "metadata": {},
     "output_type": "execute_result"
    }
   ],
   "source": [
    "# Let B be the inverse matrix of A\n",
    "B = np.linalg.inv(A)\n",
    "B"
   ]
  },
  {
   "cell_type": "code",
   "execution_count": 359,
   "metadata": {},
   "outputs": [
    {
     "data": {
      "text/plain": [
       "array([[ 1.,  0.,  0.],\n",
       "       [ 0.,  1., -0.],\n",
       "       [-0., -0.,  1.]])"
      ]
     },
     "execution_count": 359,
     "metadata": {},
     "output_type": "execute_result"
    }
   ],
   "source": [
    "# AB, within precision, equals to a 3x3 identity matrix I\n",
    "A.dot(B)"
   ]
  },
  {
   "cell_type": "code",
   "execution_count": 360,
   "metadata": {},
   "outputs": [
    {
     "data": {
      "text/plain": [
       "array([[ 1.,  0., -0.],\n",
       "       [ 0.,  1., -0.],\n",
       "       [ 0., -0.,  1.]])"
      ]
     },
     "execution_count": 360,
     "metadata": {},
     "output_type": "execute_result"
    }
   ],
   "source": [
    "# BA, within precision, equals to a 3x3 identity matrix I\n",
    "B.dot(A)"
   ]
  },
  {
   "cell_type": "markdown",
   "metadata": {},
   "source": [
    "Problem 5. \n",
    "===\n",
    "Generate a matrix C of dimensions 20 X 20 populated with random values following a normal distribution centered around zero and with a standard deviation of  . Export rows of matrix C into a one–dimensional array and plot the histogram of values contained in that array. Use 20 intervals for your histogram. Subsequently plot a Gaussian bell curve which approximately “fits” the histogram. If you know how, you could superimpose that curve over the histogram. You can as well present two separate plots. Also, if you know how, you can fit parameters of the Gaussian curve to achieve the least square fit of the curve and histogram. Otherwise, just adjust the parameters of the Gaussian curve by the eye. "
   ]
  },
  {
   "cell_type": "markdown",
   "metadata": {},
   "source": [
    "$$ G(x)=\\frac{1}{\\sigma\\sqrt{2\\pi}}e^{-\\frac{(x-\\mu)^2}{2\\sigma^2}}$$ "
   ]
  },
  {
   "cell_type": "markdown",
   "metadata": {},
   "source": [
    "G(x) has two parameters: mean μ and standard deviation σ "
   ]
  },
  {
   "cell_type": "code",
   "execution_count": 361,
   "metadata": {},
   "outputs": [],
   "source": [
    "# Generate C 20x20, values follow normal dist (μ = 0, σ = 1)\n",
    "C = np.random.randn(20, 20)"
   ]
  },
  {
   "cell_type": "code",
   "execution_count": 362,
   "metadata": {},
   "outputs": [],
   "source": [
    "%matplotlib inline\n",
    "import numpy as np\n",
    "import matplotlib.pyplot as plt\n",
    "import scipy as sp\n",
    "import scipy.optimize"
   ]
  },
  {
   "cell_type": "code",
   "execution_count": 363,
   "metadata": {},
   "outputs": [
    {
     "data": {
      "image/png": "[encoded data removed]",
      "text/plain": [
       "<matplotlib.figure.Figure at 0x11678f908>"
      ]
     },
     "metadata": {},
     "output_type": "display_data"
    }
   ],
   "source": [
    "# cast the 20x20 matrix with value following statndard normal distribution into one-dimension\n",
    "sample = C.reshape(400)\n",
    "\n",
    "# histgram with density True, i.e. area sum to 1\n",
    "#   this is meant to scale to the range of gaussian distribution for a better fitting\n",
    "y, x_raw, _ = plt.hist(sample, 20, density=True)\n"
   ]
  },
  {
   "cell_type": "code",
   "execution_count": 364,
   "metadata": {},
   "outputs": [],
   "source": [
    "# Prepare for fitting, calculate x value\n",
    "# y is hight of each histogram bar, x is X value of center of each bar\n",
    "x = [(x_raw[i] + x_raw[i+1])/2 for i in range(0, len(y))]"
   ]
  },
  {
   "cell_type": "code",
   "execution_count": 365,
   "metadata": {},
   "outputs": [],
   "source": [
    "# Gaussian curve model \n",
    "# p = (mu, sigma)\n",
    "model = lambda p, x : np.exp(-(x-p[0])**2/(2.*p[1]*p[1]))/(p[1]*np.sqrt(2.*np.pi))"
   ]
  },
  {
   "cell_type": "code",
   "execution_count": 366,
   "metadata": {},
   "outputs": [],
   "source": [
    "# Least square fit error model\n",
    "err = lambda p, x, y: (model(p, x) - y)**2"
   ]
  },
  {
   "cell_type": "code",
   "execution_count": 367,
   "metadata": {},
   "outputs": [],
   "source": [
    "# start from a guess run optimization\n",
    "guess = [1, 1]\n",
    "fitted, success = sp.optimize.leastsq(err, guess, args=(x, y))   "
   ]
  },
  {
   "cell_type": "code",
   "execution_count": 368,
   "metadata": {},
   "outputs": [
    {
     "data": {
      "text/plain": [
       "array([-0.0662,  0.9377])"
      ]
     },
     "execution_count": 368,
     "metadata": {},
     "output_type": "execute_result"
    }
   ],
   "source": [
    "# Fitted model: [mu, sigma]\n",
    "fitted"
   ]
  },
  {
   "cell_type": "code",
   "execution_count": 369,
   "metadata": {},
   "outputs": [
    {
     "data": {
      "text/plain": [
       "[<matplotlib.lines.Line2D at 0x1167bf438>]"
      ]
     },
     "execution_count": 369,
     "metadata": {},
     "output_type": "execute_result"
    },
    {
     "data": {
      "image/png": "[encoded data removed]",
      "text/plain": [
       "<matplotlib.figure.Figure at 0x1166fd160>"
      ]
     },
     "metadata": {},
     "output_type": "display_data"
    }
   ],
   "source": [
    "# Plot original value in blue and fitted model in red\n",
    "plt.figure()\n",
    "plt.plot(x, y)\n",
    "plt.plot(x, model(fitted, x), 'r')"
   ]
  }
 ],
 "metadata": {
  "kernelspec": {
   "display_name": "Python 3",
   "language": "python",
   "name": "python3"
  },
  "language_info": {
   "codemirror_mode": {
    "name": "ipython",
    "version": 3
   },
   "file_extension": ".py",
   "mimetype": "text/x-python",
   "name": "python",
   "nbconvert_exporter": "python",
   "pygments_lexer": "ipython3",
   "version": "3.6.1"
  }
 },
 "nbformat": 4,
 "nbformat_minor": 2
}
