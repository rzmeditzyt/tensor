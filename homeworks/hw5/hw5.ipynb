{
 "cells": [
  {
   "cell_type": "markdown",
   "metadata": {},
   "source": [
    "HU Extension Assignment 05 E89 Deep Learning\n",
    "===\n",
    "Due by 11:59 AM EST on Saturday, 03/03/208\n"
   ]
  },
  {
   "cell_type": "markdown",
   "metadata": {},
   "source": [
    "Problem 1.\n",
    "---\n",
    "Consider Jupyter Notebook 3.6-classifying-newswires.ipynb analyzing classification of Reuters newswires into 46 classes. Consider the model used in the notebook:\n",
    "```python\n",
    "model = models.Sequential() model.add(layers.Dense(64, activation='relu', input_shape=(10000,))) model.add(layers.Dense(64, activation='relu')) model.add(layers.Dense(46, activation='softmax'))\n",
    "model.compile(optimizer='rmsprop',\n",
    "              loss='categorical_crossentropy',\n",
    "              metrics=['accuracy'])\n",
    "model.fit(partial_x_train,\n",
    "          partial_y_train,\n",
    "          epochs=20,\n",
    "          batch_size=512,\n",
    "          validation_data=(x_val, y_val))\n",
    "results = model.evaluate(x_test, one_hot_test_labels)\n",
    "\n",
    "```\n",
    "\n",
    "Determine the optimal number of epochs by training the model with one training set of 7982 samples and one validation set of 1000 samples.\n",
    "Determine the accuracy of the model when trained with such optimal number of epochs. (35%)\n",
    "\n"
   ]
  },
  {
   "cell_type": "markdown",
   "metadata": {},
   "source": [
    "Problem 2. \n",
    "---\n",
    "Run the above model with the optimal number of epochs. Determine the accuracy of the model using 4 fold validation. Model accuracy should be considered the average accuracy of all 4 training runs with one of 4 validation sets. Compare this accuracy the accuracy obtain in Problem 1.\n",
    "(35%)"
   ]
  },
  {
   "cell_type": "markdown",
   "metadata": {},
   "source": [
    "Problem 3. \n",
    "---\n",
    "Consider the model in Problem 1. Examine the effect of L2 regularization on the optimal number of epochs. Perform experiments with the Lambda value of 0.001, 0,005 and 0.0005. Present the dependence of the optimal number of epochs on the varying regularization parameter.\n",
    "(30%)\n"
   ]
  },
  {
   "cell_type": "code",
   "execution_count": null,
   "metadata": {},
   "outputs": [],
   "source": []
  }
 ],
 "metadata": {
  "kernelspec": {
   "display_name": "Python 3",
   "language": "python",
   "name": "python3"
  },
  "language_info": {
   "codemirror_mode": {
    "name": "ipython",
    "version": 3
   },
   "file_extension": ".py",
   "mimetype": "text/x-python",
   "name": "python",
   "nbconvert_exporter": "python",
   "pygments_lexer": "ipython3",
   "version": "3.6.1"
  }
 },
 "nbformat": 4,
 "nbformat_minor": 2
}
