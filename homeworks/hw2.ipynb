{
 "cells": [
  {
   "cell_type": "markdown",
   "metadata": {},
   "source": [
    "Problem 1. \n",
    "===\n",
    "Install newest release of TensorFlow 1.5 on the operating system of your\n",
    "choice. Use installation instructions on https://www.tensorflow.org site and instructions\n",
    "on https://github.com/tensorflow/tensorflow. Install TensorFlow for CPU. Use attach\n",
    "Jupyter notebook: 0_test_install.ipynb to demonstrate that TensorFlow is properly\n",
    "installed. Please document all installation steps including the version of Python you are\n",
    "using. (20%)"
   ]
  },
  {
   "cell_type": "markdown",
   "metadata": {},
   "source": [
    "0_test_install tets code starts\n",
    "------------------\n",
    "------------------\n",
    "This snippet of Python creates a simple graph."
   ]
  },
  {
   "cell_type": "code",
   "execution_count": 4,
   "metadata": {},
   "outputs": [
    {
     "name": "stdout",
     "output_type": "stream",
     "text": [
      "b'It works!'\n"
     ]
    }
   ],
   "source": [
    "import tensorflow as tf\n",
    "hello = tf.constant('It works!')\n",
    "sess = tf.Session()\n",
    "print(sess.run(hello))"
   ]
  },
  {
   "cell_type": "markdown",
   "metadata": {},
   "source": [
    "Check that you have a recent version of TensorFlow installed, >= 0.12.0rc0"
   ]
  },
  {
   "cell_type": "code",
   "execution_count": 5,
   "metadata": {},
   "outputs": [
    {
     "name": "stdout",
     "output_type": "stream",
     "text": [
      "You have version 1.5.0\n"
     ]
    }
   ],
   "source": [
    "print(\"You have version %s\" % tf.__version__)"
   ]
  },
  {
   "cell_type": "markdown",
   "metadata": {},
   "source": [
    "We'll also use matplotlib, so let's test if that's working."
   ]
  },
  {
   "cell_type": "code",
   "execution_count": 6,
   "metadata": {},
   "outputs": [
    {
     "data": {
      "text/plain": [
       "[<matplotlib.lines.Line2D at 0x110b71f28>]"
      ]
     },
     "execution_count": 6,
     "metadata": {},
     "output_type": "execute_result"
    },
    {
     "data": {
      "image/png": "[encoded data removed]",
      "text/plain": [
       "<matplotlib.figure.Figure at 0x10fea6898>"
      ]
     },
     "metadata": {},
     "output_type": "display_data"
    }
   ],
   "source": [
    "%matplotlib inline\n",
    "import pylab\n",
    "import numpy as np\n",
    "\n",
    "# create some data using numpy. y = x * 0.1 + 0.3 + noise\n",
    "x_train = np.random.rand(100).astype(np.float32)\n",
    "noise = np.random.normal(scale=0.01, size=len(x_train))\n",
    "y_train = x_train * 0.1 + 0.3 + noise\n",
    "\n",
    "# plot it\n",
    "pylab.plot(x_train, y_train, '.')"
   ]
  },
  {
   "cell_type": "markdown",
   "metadata": {},
   "source": [
    "Problem 1 test code end\n",
    "------------------\n",
    "------------------"
   ]
  },
  {
   "cell_type": "markdown",
   "metadata": {},
   "source": [
    "Problem 2. \n",
    "===\n",
    "Represent the following expressions in TensorFlow\n",
    "$$ y = x^2 + 3$$\n",
    "$$ 𝑧 = (2 ∗ 𝑦 + 4)/x$$\n",
    "\n",
    "Calculate and print the value of 𝑦 when 𝑥 is a series of values starting with 1, incremented by 1 and ending at 9. Define variable x with a placeholder so that you could feed different values of 𝑥 while calculating 𝑦. Similarly, calculate and print values of 𝑧. (20%)"
   ]
  },
  {
   "cell_type": "code",
   "execution_count": 2,
   "metadata": {},
   "outputs": [],
   "source": [
    "import tensorflow as tf\n"
   ]
  },
  {
   "cell_type": "code",
   "execution_count": 18,
   "metadata": {},
   "outputs": [
    {
     "name": "stdout",
     "output_type": "stream",
     "text": [
      "Feeding x=1 run graph get 4\n",
      "Feeding x=2 run graph get 7\n",
      "Feeding x=3 run graph get 12\n",
      "Feeding x=4 run graph get 19\n",
      "Feeding x=5 run graph get 28\n",
      "Feeding x=6 run graph get 39\n",
      "Feeding x=7 run graph get 52\n",
      "Feeding x=8 run graph get 67\n",
      "Feeding x=9 run graph get 84\n"
     ]
    }
   ],
   "source": [
    "g1 = tf.Graph()\n",
    "with g1.as_default():\n",
    "    c3 = tf.constant(3, dtype=tf.int32)\n",
    "    x = tf.placeholder(tf.int32)\n",
    "    xx = tf.multiply(x, x)\n",
    "    y = tf.add(xx, c3)\n",
    "    for n in range(1, 10):\n",
    "        with tf.Session() as sess:\n",
    "            print(\"Feeding x={} run graph get {}\".format(n, sess.run(y, feed_dict={x: n})))\n",
    "    "
   ]
  },
  {
   "cell_type": "code",
   "execution_count": null,
   "metadata": {},
   "outputs": [],
   "source": []
  },
  {
   "cell_type": "markdown",
   "metadata": {},
   "source": [
    "Problem 3. \n",
    "===\n",
    "Modify your TensorFlow code so that all variables, constants and operations have a “display name”. Generate a TensorBoard graph representing above equtions. (20%)"
   ]
  },
  {
   "cell_type": "markdown",
   "metadata": {},
   "source": [
    "Problem 4.\n",
    "===\n",
    "Construct a simple neural network (a network of logistic units) which will implement the following truth table.\n",
    "\n",
    "|x1|x2|x3|y|\n",
    "|:-|:-|:-|:-|\n",
    "|0|0|0|0|\n",
    "|1|0|0|1| \n",
    "|0|1|0|1| \n",
    "|1|1|0|1| \n",
    "|0|0|1|0| \n",
    "|1|0|1|0|\n",
    "|0|1|1|0| \n",
    "|1|1|1|0|\n",
    "Present your neural network as a graph. Use any technique you find convenient, to draw that graph, including pencil and paper. Do scan the drawing and include the image in your submission.\n",
    "(20%)"
   ]
  },
  {
   "cell_type": "markdown",
   "metadata": {},
   "source": [
    "Problem 5.\n",
    "===\n",
    "Express operations in the above neural network as operations in TensorFlow. Place variables x1 and x2 in one name scope and variables x3 and y in another name scope. Generate the TensorBoard graph of your operations. We are just practicing name scope separation in TensorBoard graphs.\n",
    "(20%)"
   ]
  },
  {
   "cell_type": "code",
   "execution_count": null,
   "metadata": {},
   "outputs": [],
   "source": []
  },
  {
   "cell_type": "code",
   "execution_count": null,
   "metadata": {},
   "outputs": [],
   "source": []
  }
 ],
 "metadata": {
  "kernelspec": {
   "display_name": "Python 3",
   "language": "python",
   "name": "python3"
  },
  "language_info": {
   "codemirror_mode": {
    "name": "ipython",
    "version": 3
   },
   "file_extension": ".py",
   "mimetype": "text/x-python",
   "name": "python",
   "nbconvert_exporter": "python",
   "pygments_lexer": "ipython3",
   "version": "3.6.1"
  }
 },
 "nbformat": 4,
 "nbformat_minor": 1
}
