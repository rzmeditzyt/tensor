{
 "cells": [
  {
   "cell_type": "markdown",
   "metadata": {},
   "source": [
    "Problem 1. \n",
    "===\n",
    "Install newest release of TensorFlow 1.5 on the operating system of your\n",
    "choice. Use installation instructions on https://www.tensorflow.org site and instructions\n",
    "on https://github.com/tensorflow/tensorflow. Install TensorFlow for CPU. Use attach\n",
    "Jupyter notebook: 0_test_install.ipynb to demonstrate that TensorFlow is properly\n",
    "installed. Please document all installation steps including the version of Python you are\n",
    "using. (20%)"
   ]
  },
  {
   "cell_type": "markdown",
   "metadata": {},
   "source": [
    "Steps\n",
    "---\n",
    "* virtualenv --python python3 cscie89 # Create virtual environment for the class with python3.6\n",
    "* pip install [supporting modules]\n",
    "* pip install tensorflow\n",
    "* pip freeze > requirement.txt"
   ]
  },
  {
   "cell_type": "code",
   "execution_count": 55,
   "metadata": {},
   "outputs": [
    {
     "name": "stdout",
     "output_type": "stream",
     "text": [
      "Python 3.6.1\r\n"
     ]
    }
   ],
   "source": [
    "!python -V"
   ]
  },
  {
   "cell_type": "code",
   "execution_count": 56,
   "metadata": {},
   "outputs": [
    {
     "name": "stdout",
     "output_type": "stream",
     "text": [
      "Name: tensorflow\r\n",
      "Version: 1.5.0\r\n",
      "Summary: TensorFlow helps the tensors flow\r\n",
      "Home-page: https://www.tensorflow.org/\r\n",
      "Author: Google Inc.\r\n",
      "Author-email: opensource@google.com\r\n",
      "License: Apache 2.0\r\n",
      "Location: /Users/yuzhang/hw/tensor/cscie89/lib/python3.6/site-packages\r\n",
      "Requires: protobuf, six, absl-py, numpy, wheel, tensorflow-tensorboard\r\n"
     ]
    }
   ],
   "source": [
    "!pip show tensorflow"
   ]
  },
  {
   "cell_type": "markdown",
   "metadata": {},
   "source": [
    "0_test_install tets code starts\n",
    "------------------\n",
    "------------------\n",
    "This snippet of Python creates a simple graph."
   ]
  },
  {
   "cell_type": "code",
   "execution_count": 57,
   "metadata": {},
   "outputs": [
    {
     "name": "stdout",
     "output_type": "stream",
     "text": [
      "b'It works!'\n"
     ]
    }
   ],
   "source": [
    "import tensorflow as tf\n",
    "hello = tf.constant('It works!')\n",
    "sess = tf.Session()\n",
    "print(sess.run(hello))"
   ]
  },
  {
   "cell_type": "markdown",
   "metadata": {},
   "source": [
    "Check that you have a recent version of TensorFlow installed, >= 0.12.0rc0"
   ]
  },
  {
   "cell_type": "code",
   "execution_count": 58,
   "metadata": {},
   "outputs": [
    {
     "name": "stdout",
     "output_type": "stream",
     "text": [
      "You have version 1.5.0\n"
     ]
    }
   ],
   "source": [
    "print(\"You have version %s\" % tf.__version__)"
   ]
  },
  {
   "cell_type": "markdown",
   "metadata": {},
   "source": [
    "We'll also use matplotlib, so let's test if that's working."
   ]
  },
  {
   "cell_type": "code",
   "execution_count": 59,
   "metadata": {},
   "outputs": [
    {
     "data": {
      "text/plain": [
       "[<matplotlib.lines.Line2D at 0x11b5e24a8>]"
      ]
     },
     "execution_count": 59,
     "metadata": {},
     "output_type": "execute_result"
    },
    {
     "data": {
      "image/png": "[encoded data removed]",
      "text/plain": [
       "<matplotlib.figure.Figure at 0x11b3942e8>"
      ]
     },
     "metadata": {},
     "output_type": "display_data"
    }
   ],
   "source": [
    "%matplotlib inline\n",
    "import pylab\n",
    "import numpy as np\n",
    "\n",
    "# create some data using numpy. y = x * 0.1 + 0.3 + noise\n",
    "x_train = np.random.rand(100).astype(np.float32)\n",
    "noise = np.random.normal(scale=0.01, size=len(x_train))\n",
    "y_train = x_train * 0.1 + 0.3 + noise\n",
    "\n",
    "# plot it\n",
    "pylab.plot(x_train, y_train, '.')"
   ]
  },
  {
   "cell_type": "markdown",
   "metadata": {},
   "source": [
    "Problem 1 test code end\n",
    "------------------\n",
    "------------------"
   ]
  },
  {
   "cell_type": "markdown",
   "metadata": {},
   "source": [
    "Problem 2. \n",
    "===\n",
    "Represent the following expressions in TensorFlow\n",
    "$$ y = x^2 + 3$$\n",
    "$$ 𝑧 = (2 ∗ 𝑦 + 4)/x$$\n",
    "\n",
    "Calculate and print the value of 𝑦 when 𝑥 is a series of values starting with 1, incremented by 1 and ending at 9. Define variable x with a placeholder so that you could feed different values of 𝑥 while calculating 𝑦. Similarly, calculate and print values of 𝑧. (20%)"
   ]
  },
  {
   "cell_type": "code",
   "execution_count": 60,
   "metadata": {},
   "outputs": [],
   "source": [
    "import tensorflow as tf"
   ]
  },
  {
   "cell_type": "code",
   "execution_count": 61,
   "metadata": {
    "scrolled": true
   },
   "outputs": [
    {
     "name": "stdout",
     "output_type": "stream",
     "text": [
      "Feeding x=1 run graph get 4.0\n",
      "Feeding x=2 run graph get 7.0\n",
      "Feeding x=3 run graph get 12.0\n",
      "Feeding x=4 run graph get 19.0\n",
      "Feeding x=5 run graph get 28.0\n",
      "Feeding x=6 run graph get 39.0\n",
      "Feeding x=7 run graph get 52.0\n",
      "Feeding x=8 run graph get 67.0\n",
      "Feeding x=9 run graph get 84.0\n"
     ]
    }
   ],
   "source": [
    "# y = x^2 + 3\n",
    "c3 = tf.constant(3, dtype=tf.float32, name=\"Constant_3\")\n",
    "x = tf.placeholder(tf.float32)\n",
    "y = x*x + c3\n",
    "for n in range(1, 10):\n",
    "    with tf.Session() as sess:\n",
    "        print(\"Feeding x={} run graph get {}\".format(n, sess.run(y, feed_dict={x: n})))"
   ]
  },
  {
   "cell_type": "code",
   "execution_count": 62,
   "metadata": {},
   "outputs": [
    {
     "name": "stdout",
     "output_type": "stream",
     "text": [
      "Feeding x=1 run graph get y = 4.0, z = 12.0\n",
      "Feeding x=2 run graph get y = 7.0, z = 9.0\n",
      "Feeding x=3 run graph get y = 12.0, z = 9.333333015441895\n",
      "Feeding x=4 run graph get y = 19.0, z = 10.5\n",
      "Feeding x=5 run graph get y = 28.0, z = 12.0\n",
      "Feeding x=6 run graph get y = 39.0, z = 13.666666984558105\n",
      "Feeding x=7 run graph get y = 52.0, z = 15.428571701049805\n",
      "Feeding x=8 run graph get y = 67.0, z = 17.25\n",
      "Feeding x=9 run graph get y = 84.0, z = 19.11111068725586\n"
     ]
    }
   ],
   "source": [
    "# z = (2*y +4)/x\n",
    "c4 = tf.constant(4, dtype=tf.float32, name=\"Constant_4\")\n",
    "c2 = tf.constant(2, dtype=tf.float32, name=\"Constant_2\")\n",
    "z = (c2*y + c4)/x\n",
    "for n in range(1, 10):\n",
    "    with tf.Session() as sess:\n",
    "        y_val, z_val = sess.run((y, z), feed_dict={x: n})\n",
    "        print(\"Feeding x={} run graph get y = {}, z = {}\".format(n, y_val, z_val))"
   ]
  },
  {
   "cell_type": "markdown",
   "metadata": {},
   "source": [
    "Problem 3. \n",
    "===\n",
    "Modify your TensorFlow code so that all variables, constants and operations have a “display name”. Generate a TensorBoard graph representing above equtions. (20%)"
   ]
  },
  {
   "cell_type": "code",
   "execution_count": 63,
   "metadata": {},
   "outputs": [
    {
     "name": "stdout",
     "output_type": "stream",
     "text": [
      "Feeding x=1 run graph get y = 4.0, z = 12.0\n",
      "Feeding x=2 run graph get y = 7.0, z = 9.0\n",
      "Feeding x=3 run graph get y = 12.0, z = 9.333333015441895\n",
      "Feeding x=4 run graph get y = 19.0, z = 10.5\n",
      "Feeding x=5 run graph get y = 28.0, z = 12.0\n",
      "Feeding x=6 run graph get y = 39.0, z = 13.666666984558105\n",
      "Feeding x=7 run graph get y = 52.0, z = 15.428571701049805\n",
      "Feeding x=8 run graph get y = 67.0, z = 17.25\n",
      "Feeding x=9 run graph get y = 84.0, z = 19.11111068725586\n"
     ]
    }
   ],
   "source": [
    "import tensorflow as tf\n",
    "# With names:\n",
    "#     y = x^2 + 3\n",
    "#     z = (2*y +4)/x\n",
    "g_named = tf.Graph()\n",
    "with g_named.as_default():\n",
    "    c3 = tf.constant(3, dtype=tf.float32, name=\"3\")\n",
    "    c4 = tf.constant(4, dtype=tf.float32, name=\"4\")\n",
    "    c2 = tf.constant(2, dtype=tf.float32, name=\"2\")\n",
    "    x = tf.placeholder(tf.float32, name = \"x\")\n",
    "    x_sqr = tf.multiply(x, x, name = \"squre\")\n",
    "    y = tf.add(x_sqr, c3, name = \"plus\")\n",
    "    y_times_2 = tf.multiply(y, c2, name = \"times\")\n",
    "    y_times_2_plus_4 = tf.add(y_times_2, c4, name = \"plus\")\n",
    "    z = tf.div(y_times_2_plus_4, x, name = \"divide\")\n",
    "    # Run for x in 1 - 9\n",
    "    for n in range(1, 10):\n",
    "        with tf.Session() as sess:\n",
    "            y_val, z_val = sess.run((y, z), feed_dict={x: n})\n",
    "            print(\"Feeding x={} run graph get y = {}, z = {}\".format(n, y_val, z_val))\n",
    "    # Write tensor flow to file\n",
    "    tf.summary.FileWriter(\"hw2_p3_yz\", g_named)"
   ]
  },
  {
   "cell_type": "markdown",
   "metadata": {},
   "source": [
    "Generated TensorBoard Graph:\n",
    "---\n",
    "![hw2_p2.png](hw2_p2.png)"
   ]
  },
  {
   "cell_type": "markdown",
   "metadata": {},
   "source": [
    "Problem 4.\n",
    "===\n",
    "Construct a simple neural network (a network of logistic units) which will implement the following truth table.\n",
    "\n",
    "|x1|x2|x3|y|\n",
    "|:-|:-|:-|:-|\n",
    "|0|0|0|0|\n",
    "|1|0|0|1| \n",
    "|0|1|0|1| \n",
    "|1|1|0|1| \n",
    "|0|0|1|0| \n",
    "|1|0|1|0|\n",
    "|0|1|1|0| \n",
    "|1|1|1|0|\n",
    "Present your neural network as a graph. Use any technique you find convenient, to draw that graph, including pencil and paper. Do scan the drawing and include the image in your submission.\n",
    "(20%)"
   ]
  },
  {
   "cell_type": "markdown",
   "metadata": {},
   "source": [
    "Solution:\n",
    "---\n",
    "$$h(x) = 20x_1 + 20x_2 - 40x_3 - 10$$\n",
    "![hw2_p4.png](hw2_p4.png)    "
   ]
  },
  {
   "cell_type": "markdown",
   "metadata": {},
   "source": [
    "Problem 5.\n",
    "===\n",
    "Express operations in the above neural network as operations in TensorFlow. Place variables x1 and x2 in one name scope and variables x3 and y in another name scope. Generate the TensorBoard graph of your operations. We are just practicing name scope separation in TensorBoard graphs.\n",
    "(20%)"
   ]
  },
  {
   "cell_type": "code",
   "execution_count": 64,
   "metadata": {},
   "outputs": [
    {
     "name": "stdout",
     "output_type": "stream",
     "text": [
      "Feeding X : [0. 0. 0.]\n",
      "Expect y  : 0\n",
      "Actual y  : [0.]\n",
      "\n",
      "Feeding X : [1. 0. 0.]\n",
      "Expect y  : 1\n",
      "Actual y  : [1.]\n",
      "\n",
      "Feeding X : [0. 1. 0.]\n",
      "Expect y  : 1\n",
      "Actual y  : [1.]\n",
      "\n",
      "Feeding X : [1. 1. 0.]\n",
      "Expect y  : 1\n",
      "Actual y  : [1.]\n",
      "\n",
      "Feeding X : [0. 0. 1.]\n",
      "Expect y  : 0\n",
      "Actual y  : [0.]\n",
      "\n",
      "Feeding X : [1. 0. 1.]\n",
      "Expect y  : 0\n",
      "Actual y  : [0.]\n",
      "\n",
      "Feeding X : [0. 1. 1.]\n",
      "Expect y  : 0\n",
      "Actual y  : [0.]\n",
      "\n",
      "Feeding X : [1. 1. 1.]\n",
      "Expect y  : 0\n",
      "Actual y  : [0.]\n",
      "\n"
     ]
    }
   ],
   "source": [
    "import tensorflow as tf\n",
    "import numpy as np\n",
    "# Set precision\n",
    "np.set_printoptions(precision=2, suppress=True)\n",
    "\n",
    "# X values according to table\n",
    "#  each column represent [x1, x2, x3, 1].transpose()\n",
    "FEED_X = np.array([\n",
    "        [0, 1, 0, 1, 0, 1, 0, 1],  # x1\n",
    "        [0, 0, 1, 1, 0, 0, 1, 1],  # x2\n",
    "        [0, 0, 0, 0, 1, 1, 1, 1],  # x3\n",
    "        [1, 1, 1, 1, 1, 1, 1, 1]   # bias 1\n",
    "    ],\n",
    "    dtype = np.float32)\n",
    "\n",
    "# TRUTH Y as shown in table\n",
    "TRUTH_Y= [0, 1, 1, 1, 0, 0, 0, 0]\n",
    "\n",
    "# Constructed weights for each feature x and a bias of -10\n",
    "WEIGHTS = np.array([[20, 20, -40, -10]], dtype = np.float32)\n",
    "\n",
    "with tf.Graph().as_default():\n",
    "    # Init weights and bias\n",
    "    w = tf.constant(WEIGHTS)\n",
    "    # Create place holder for X and bias\n",
    "    x = tf.placeholder(tf.float32, shape=(4, 1))\n",
    "    # y is sigmoid function sig(Z) where Z = [w1, w2, w3, 1]*[x1, x2, x3, b]T = w1*x1 + w2*x2 + w3*x3 + b\n",
    "    y = tf.sigmoid(tf.matmul(w, x))\n",
    "    for i in range(0, 8):\n",
    "        sess= tf.Session()\n",
    "        # Get i column as X\n",
    "        feed = FEED_X[:, i]\n",
    "        print(\"Feeding X : {}\".format(feed[:3]))\n",
    "        print(\"Expect y  : {}\".format(TRUTH_Y[i]))\n",
    "        print(\"Actual y  : {}\\n\".format(sess.run(y, feed_dict={x: feed.reshape(4, 1)})[0]))"
   ]
  },
  {
   "cell_type": "markdown",
   "metadata": {},
   "source": [
    "Paste truth table here for comparision:\n",
    "\n",
    "|x1|x2|x3|y|\n",
    "|:-|:-|:-|:-|\n",
    "|0|0|0|0|\n",
    "|1|0|0|1| \n",
    "|0|1|0|1| \n",
    "|1|1|0|1| \n",
    "|0|0|1|0| \n",
    "|1|0|1|0|\n",
    "|0|1|1|0| \n",
    "|1|1|1|0|"
   ]
  },
  {
   "cell_type": "code",
   "execution_count": null,
   "metadata": {},
   "outputs": [],
   "source": []
  }
 ],
 "metadata": {
  "kernelspec": {
   "display_name": "Python 3",
   "language": "python",
   "name": "python3"
  },
  "language_info": {
   "codemirror_mode": {
    "name": "ipython",
    "version": 3
   },
   "file_extension": ".py",
   "mimetype": "text/x-python",
   "name": "python",
   "nbconvert_exporter": "python",
   "pygments_lexer": "ipython3",
   "version": "3.6.1"
  }
 },
 "nbformat": 4,
 "nbformat_minor": 1
}
