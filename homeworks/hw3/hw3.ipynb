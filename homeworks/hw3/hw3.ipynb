{
 "cells": [
  {
   "cell_type": "markdown",
   "metadata": {},
   "source": [
    "Problem 1. \n",
    "===\n",
    "Create a computational graph for the following expression:\n",
    "$$(x*y + z+1/x)* w = f$$\n",
    "Calculate the forward values of all the nodes and function f starting with $x = -1, y = 2, z = 4, w = 5$. Subsequently, determine backward values, and finally the derivatives of  f with respect with x, y, z and w. Please, present your results as a simple graph. You can draw you graph by any means you find convenient, including by hand. Please place forward values above the lines representing propagation of values and backpropagation values (derivatives) below the lines.\n",
    "(25%)"
   ]
  },
  {
   "cell_type": "markdown",
   "metadata": {},
   "source": [
    "Solution:\n",
    "---\n",
    "* Black numbers are calculations for f starting with the given x, y, z, w values\n",
    "* Red numbers are back-propagated derivative values\n",
    "* NOTE: as there are two calculation paths from x, we need to add up the two back propagated derivative values to x\n",
    "![hw3_p1.png](hw3_p1.png)"
   ]
  },
  {
   "cell_type": "markdown",
   "metadata": {},
   "source": [
    "Problem 2. \n",
    "===\n",
    "Create a computational graph for the following expression:\n",
    "$$f =\\frac{x+ \\sigma(y)}{\\sigma(z)+(x+y)^2}$$\n",
    "Where$$\\sigma(q) = \\frac{1}{1+ e^{-q}}$$\n",
    "Calculate forward computational values of all nodes and the derivatives of function f with respect to x,y and z. Please, present your results as a simple graph. Please place forward values above the lines representing propagation of values and backpropagation values (derivatives) below the lines. Perform your calculations manually. \n",
    "As values for x,y,z use (2, -4, 3)\n",
    "(25%)"
   ]
  },
  {
   "cell_type": "markdown",
   "metadata": {},
   "source": [
    "Solution:\n",
    "---\n",
    "* Representing Sigmoid function as a single node\n",
    "* Black numbers are calculations for f starting with given x, y, z values\n",
    "* Red numbers are back-propagated derivative values with precision of 4\n",
    "![hw3_p2.png](hw3_p2.png)"
   ]
  },
  {
   "cell_type": "markdown",
   "metadata": {},
   "source": [
    "Problem 3. \n",
    "===\n",
    "Please perform calculations in problem 2 using TensorFlow. As you are moving forward, please calculate and store (cash) values of various derivatives you will need for backward calculations. \n",
    "(25%)"
   ]
  },
  {
   "cell_type": "code",
   "execution_count": 16,
   "metadata": {},
   "outputs": [
    {
     "name": "stdout",
     "output_type": "stream",
     "text": [
      "Forward Calculated  f  =  0.40746209025382996\n",
      "Back propagation   dx  =  0.5310063362121582\n",
      "Back propagation   dy  =  0.33265751600265503\n",
      "Back propagation   dz  =  -0.003716809442266822\n"
     ]
    }
   ],
   "source": [
    "import tensorflow as tf\n",
    "\n",
    "def sigma(x):\n",
    "    return tf.div(tf.constant(1.0),\n",
    "                  tf.add(tf.constant(1.0), tf.exp(tf.negative(x))))\n",
    "\n",
    "def sigmaprime(x):\n",
    "    return tf.multiply(sigma(x), tf.subtract(tf.constant(1.0), sigma(x)))\n",
    "\n",
    "x = tf.placeholder(tf.float32)\n",
    "y = tf.placeholder(tf.float32)\n",
    "z = tf.placeholder(tf.float32)\n",
    "\n",
    "x_sigY = x + sigma(y)\n",
    "\n",
    "x_y_2 = (x + y)**2\n",
    "\n",
    "sigZ_x_y_2 = sigma(z) + x_y_2\n",
    "\n",
    "f = tf.div(x_sigY, sigZ_x_y_2)\n",
    "\n",
    "\n",
    "# Back propagation\n",
    "\n",
    "# Upper branch of x\n",
    "d_x_1 = tf.div(tf.constant(1, dtype=tf.float32), sigZ_x_y_2)\n",
    "\n",
    "# Upper branch of y\n",
    "d_y_1 = tf.multiply(sigmaprime(y), d_x_1)\n",
    "\n",
    "d_y_z = tf.div(tf.negative(x_sigY), sigZ_x_y_2**2)\n",
    "d_x_y_2 = 2*(x+y)\n",
    "\n",
    "d_y_2 = d_x_y_2 * d_y_z\n",
    "d_x_2 = d_y_2\n",
    "\n",
    "d_x = d_x_1 + d_x_2\n",
    "d_y = d_y_1 + d_y_2\n",
    "d_z = tf.multiply(sigmaprime(z), d_y_z)\n",
    "\n",
    "\n",
    "with tf.Session() as sess:\n",
    "    result = sess.run([f, d_x, d_y, d_z], feed_dict={x: 2, y: -4, z: 3})\n",
    "    print(\"Forward Calculated  f  =  {}\".format(result[0]))\n",
    "    print(\"Back propagation   dx  =  {}\".format(result[1]))\n",
    "    print(\"Back propagation   dy  =  {}\".format(result[2]))\n",
    "    print(\"Back propagation   dz  =  {}\".format(result[3]))\n"
   ]
  },
  {
   "cell_type": "markdown",
   "metadata": {},
   "source": [
    "Problem 4. \n",
    "===\n",
    "Please examine attached Python code for classification of MNIST hand written digits dataset. Please try to find “optimal” values of two hyper parameters: learning_rate and batch_size. Optimal is a vague term. You would like to achieve the best accuracy in the shortest possible time. Please do not sweat it out. \n",
    "(25%)"
   ]
  },
  {
   "cell_type": "code",
   "execution_count": null,
   "metadata": {},
   "outputs": [],
   "source": []
  }
 ],
 "metadata": {
  "kernelspec": {
   "display_name": "Python 3",
   "language": "python",
   "name": "python3"
  },
  "language_info": {
   "codemirror_mode": {
    "name": "ipython",
    "version": 3
   },
   "file_extension": ".py",
   "mimetype": "text/x-python",
   "name": "python",
   "nbconvert_exporter": "python",
   "pygments_lexer": "ipython3",
   "version": "3.6.1"
  }
 },
 "nbformat": 4,
 "nbformat_minor": 2
}
